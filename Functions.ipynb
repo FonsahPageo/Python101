{
 "cells": [
  {
   "cell_type": "code",
   "execution_count": 13,
   "id": "a777cb0d",
   "metadata": {},
   "outputs": [
    {
     "name": "stdout",
     "output_type": "stream",
     "text": [
      "7123.69\n"
     ]
    }
   ],
   "source": [
    "def population_density(population, land_area):\n",
    "    return population / land_area\n",
    "test1 = population_density(864816, 121.4)\n",
    "print(\"%.2f\" % test1)"
   ]
  },
  {
   "cell_type": "code",
   "execution_count": 10,
   "id": "64005e93",
   "metadata": {},
   "outputs": [
    {
     "name": "stdout",
     "output_type": "stream",
     "text": [
      "1 week(s) and 2 day(s)\n"
     ]
    }
   ],
   "source": [
    "def readable_timedelta(days):\n",
    "    weeks = days // 7\n",
    "    remainder = days % 7\n",
    "    simplified = (\"{} week(s) and {} day(s)\".format(weeks , remainder))\n",
    "    return simplified\n",
    "print(readable_timedelta(9))"
   ]
  },
  {
   "cell_type": "code",
   "execution_count": 11,
   "id": "5e2233d0",
   "metadata": {},
   "outputs": [
    {
     "name": "stdout",
     "output_type": "stream",
     "text": [
      "2 weeks and 2 days\n"
     ]
    }
   ],
   "source": [
    "def readable_timedelta(days):\n",
    "    weeks = days // 7\n",
    "    remainder = days % 7\n",
    "    simplified = (\"{} week(s) and {} day(s)\".format(weeks , remainder))\n",
    "    if weeks == 0 and remainder == 1:\n",
    "        simplified = (\"{} day\".format(remainder))\n",
    "    if weeks == 0 and remainder > 1:\n",
    "        simplified = (\"{} days\".format(remainder))\n",
    "    if weeks == 1 and remainder == 0:\n",
    "        simplified = (\"{} week\".format(weeks))\n",
    "    if weeks == 1 and remainder == 1:\n",
    "        simplified = (\"{} week and {} day\".format(weeks , remainder))\n",
    "    if weeks == 1 and remainder > 1:\n",
    "        simplified = (\"{} week and {} days\".format(weeks , remainder))\n",
    "    if weeks > 1 and remainder == 0:\n",
    "        simplified = (\"{} weeks\".format(weeks))\n",
    "    if weeks > 1 and remainder == 1:\n",
    "        simplified = (\"{} weeks and {} day\".format(weeks , remainder))\n",
    "    if weeks > 1 and remainder > 1:\n",
    "        simplified = (\"{} weeks and {} days\".format(weeks , remainder))\n",
    "    return simplified\n",
    "print(readable_timedelta(16))"
   ]
  },
  {
   "cell_type": "code",
   "execution_count": 1,
   "id": "ca569289",
   "metadata": {},
   "outputs": [
    {
     "data": {
      "text/plain": [
       "48.25"
      ]
     },
     "execution_count": 1,
     "metadata": {},
     "output_type": "execute_result"
    }
   ],
   "source": [
    "numbers = [\n",
    "              [34, 63, 88, 71, 29],\n",
    "              [90, 78, 51, 27, 45],\n",
    "              [63, 37, 85, 46, 22],\n",
    "              [51, 22, 34, 11, 18]\n",
    "           ]\n",
    "num_list = []\n",
    "for sublist in numbers:\n",
    "    for num in sublist:\n",
    "        num_list.append(num)\n",
    "# def mean(num_list):\n",
    "#     return sum(num_list) / len(num_list)\n",
    "mean = lambda num_list : sum(num_list) / len(num_list)\n",
    "# print(mean)\n",
    "mean(num_list)"
   ]
  },
  {
   "cell_type": "code",
   "execution_count": 9,
   "id": "69d212da",
   "metadata": {},
   "outputs": [],
   "source": [
    "f = open('C:/Users/ashpr/OneDrive/Documents/some_file.txt', 'w')\n",
    "f.write('Hello World')\n",
    "f.close()"
   ]
  },
  {
   "cell_type": "code",
   "execution_count": 12,
   "id": "095afa74",
   "metadata": {},
   "outputs": [
    {
     "name": "stdout",
     "output_type": "stream",
     "text": [
      "0\n",
      "1\n",
      "2\n",
      "3\n",
      "4\n",
      "5\n",
      "6\n",
      "7\n",
      "8\n",
      "9\n"
     ]
    }
   ],
   "source": [
    "files = []\n",
    "for i in range(10):\n",
    "    files.append(open('C:/Users/ashpr/OneDrive/Documents/some_file.txt', 'r'))\n",
    "    print(i)"
   ]
  },
  {
   "cell_type": "code",
   "execution_count": 13,
   "id": "4f11c599",
   "metadata": {},
   "outputs": [
    {
     "name": "stdout",
     "output_type": "stream",
     "text": [
      "Graham Chapman\n",
      "Eric Idle\n",
      "Terry Jones\n",
      "Michael Palin\n",
      "Terry Gilliam\n",
      "John Cleese\n",
      "Carol Cleveland\n",
      "Ian Davidson\n",
      "John Hughman\n",
      "The Fred Tomlinson Singers\n",
      "Connie Booth\n",
      "Bob Raymond\n",
      "Lyn Ashley\n",
      "Rita Davies\n",
      "Stanley Mason\n",
      "David Ballantyne\n",
      "Donna Reading\n",
      "Peter Brett\n",
      "Maureen Flanagan\n",
      "Katya Wyeth\n",
      "Frank Lester\n",
      "Neil Innes\n",
      "Dick Vosburgh\n",
      "Sandra Richards\n",
      "Julia Breck\n",
      "Nicki Howorth\n",
      "Jimmy Hill\n",
      "Barry Cryer\n",
      "Jeannette Wild\n",
      "Marjorie Wilde\n",
      "Marie Anderson\n",
      "Caron Gardner\n",
      "Nosher Powell\n",
      "Carolae Donoghue\n",
      "Vincent Wong\n",
      "Helena Clayton\n",
      "Nigel Jones\n",
      "Roy Gunson\n",
      "Daphne Davey\n",
      "Stenson Falke\n",
      "Alexander Curry\n",
      "Frank Williams\n",
      "Ralph Wood\n",
      "Rosalind Bailey\n",
      "Marion Mould\n",
      "Sheila Sands\n",
      "Richard Baker\n",
      "Douglas Adams\n",
      "Ewa Aulin\n",
      "Reginald Bosanquet\n",
      "Barbara Lindley\n",
      "Roy Brent\n",
      "Jonas Card\n",
      "Tony Christopher\n",
      "Beulah Hughes\n",
      "Peter Kodak\n",
      "Lulu\n",
      "Jay Neill\n",
      "Graham Skidmore\n",
      "Ringo Starr\n",
      "Fred Tomlinson\n",
      "David Hamilton\n",
      "Suzy Mandel\n",
      "Peter Woods\n"
     ]
    }
   ],
   "source": [
    "def create_cast_list(filename):\n",
    "    cast_list = []\n",
    "    with open(filename) as f:\n",
    "        for line in f:\n",
    "            name = line.split(\",\")[0]\n",
    "            cast_list.append(name)\n",
    "    return cast_list\n",
    "\n",
    "cast_list = create_cast_list('flying_circus_cast.txt')\n",
    "for actor in cast_list:\n",
    "    print(actor)"
   ]
  },
  {
   "cell_type": "code",
   "execution_count": 14,
   "id": "3d53f116",
   "metadata": {},
   "outputs": [
    {
     "data": {
      "text/plain": [
       "20.085536923187668"
      ]
     },
     "execution_count": 14,
     "metadata": {},
     "output_type": "execute_result"
    }
   ],
   "source": [
    "from math import exp\n",
    "exp(3)"
   ]
  }
 ],
 "metadata": {
  "kernelspec": {
   "display_name": "Python 3 (ipykernel)",
   "language": "python",
   "name": "python3"
  },
  "language_info": {
   "codemirror_mode": {
    "name": "ipython",
    "version": 3
   },
   "file_extension": ".py",
   "mimetype": "text/x-python",
   "name": "python",
   "nbconvert_exporter": "python",
   "pygments_lexer": "ipython3",
   "version": "3.9.7"
  }
 },
 "nbformat": 4,
 "nbformat_minor": 5
}
