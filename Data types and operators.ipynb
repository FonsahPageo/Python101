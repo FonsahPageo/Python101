{
 "cells": [
  {
   "cell_type": "code",
   "execution_count": 3,
   "id": "1a58057f",
   "metadata": {},
   "outputs": [
    {
     "name": "stdout",
     "output_type": "stream",
     "text": [
      "8\n"
     ]
    }
   ],
   "source": [
    "print(3+5)"
   ]
  },
  {
   "cell_type": "code",
   "execution_count": 4,
   "id": "b772bded",
   "metadata": {},
   "outputs": [
    {
     "name": "stdout",
     "output_type": "stream",
     "text": [
      "9\n"
     ]
    }
   ],
   "source": [
    "# arithmetic operators\n",
    "print(3 ** 2) #3 power 2"
   ]
  },
  {
   "cell_type": "code",
   "execution_count": 5,
   "id": "eaa59dff",
   "metadata": {},
   "outputs": [
    {
     "name": "stdout",
     "output_type": "stream",
     "text": [
      "1\n"
     ]
    }
   ],
   "source": [
    "print(9 % 4) #the remainder after dividing 9 by 4"
   ]
  },
  {
   "cell_type": "code",
   "execution_count": 6,
   "id": "cb5ab0f6",
   "metadata": {},
   "outputs": [
    {
     "name": "stdout",
     "output_type": "stream",
     "text": [
      "2\n",
      "3\n",
      "5\n"
     ]
    }
   ],
   "source": [
    " a, b, c = 2, 3, 5\n",
    "print(a)\n",
    "print(b)\n",
    "print(c)"
   ]
  },
  {
   "cell_type": "code",
   "execution_count": 7,
   "id": "0c93dad1",
   "metadata": {},
   "outputs": [
    {
     "name": "stdout",
     "output_type": "stream",
     "text": [
      "3.0\n"
     ]
    }
   ],
   "source": [
    "carrots = 24\n",
    "rabbits = 8\n",
    "crs_per_rab = carrots / rabbits\n",
    "print(crs_per_rab)\n",
    "rabbits = 12"
   ]
  },
  {
   "cell_type": "code",
   "execution_count": 9,
   "id": "2ef463d3",
   "metadata": {},
   "outputs": [
    {
     "ename": "ZeroDivisionError",
     "evalue": "division by zero",
     "output_type": "error",
     "traceback": [
      "\u001b[1;31m---------------------------------------------------------------------------\u001b[0m",
      "\u001b[1;31mZeroDivisionError\u001b[0m                         Traceback (most recent call last)",
      "\u001b[1;32m~\\AppData\\Local\\Temp/ipykernel_11404/1152173066.py\u001b[0m in \u001b[0;36m<module>\u001b[1;34m\u001b[0m\n\u001b[1;32m----> 1\u001b[1;33m \u001b[0mprint\u001b[0m\u001b[1;33m(\u001b[0m\u001b[1;36m5\u001b[0m\u001b[1;33m/\u001b[0m\u001b[1;36m0\u001b[0m\u001b[1;33m)\u001b[0m\u001b[1;33m\u001b[0m\u001b[1;33m\u001b[0m\u001b[0m\n\u001b[0m",
      "\u001b[1;31mZeroDivisionError\u001b[0m: division by zero"
     ]
    }
   ],
   "source": [
    "print(5/0)"
   ]
  },
  {
   "cell_type": "code",
   "execution_count": 10,
   "id": "404902ea",
   "metadata": {},
   "outputs": [
    {
     "name": "stdout",
     "output_type": "stream",
     "text": [
      "3729.423433524516\n",
      "13265.533401849949\n"
     ]
    }
   ],
   "source": [
    "sf_population, sf_area = 864816, 231.89\n",
    "rio_population, rio_area = 6453682, 486.5\n",
    "\n",
    "san_francisco_pop_density = sf_population/sf_area\n",
    "rio_de_janeiro_pop_density = rio_population/rio_area\n",
    "\n",
    "print(san_francisco_pop_density)\n",
    "print(rio_de_janeiro_pop_density)"
   ]
  },
  {
   "cell_type": "code",
   "execution_count": 12,
   "id": "0846c5d9",
   "metadata": {},
   "outputs": [
    {
     "name": "stdout",
     "output_type": "stream",
     "text": [
      "7\n"
     ]
    }
   ],
   "source": [
    "word = \"ash4lyf\"\n",
    "word_length = len(word)\n",
    "print(word_length)"
   ]
  },
  {
   "cell_type": "code",
   "execution_count": 2,
   "id": "4646562b",
   "metadata": {},
   "outputs": [
    {
     "name": "stdout",
     "output_type": "stream",
     "text": [
      "My name is James and I am 22 years old, I live in Buea.\n"
     ]
    }
   ],
   "source": [
    "name, age, location = 'James', 22, 'Buea'\n",
    "print(\"My name is {} and I am {} years old, I live in {}.\".format(name, age, location))"
   ]
  },
  {
   "cell_type": "code",
   "execution_count": 3,
   "id": "6ff0354f",
   "metadata": {},
   "outputs": [
    {
     "data": {
      "text/plain": [
       "True"
      ]
     },
     "execution_count": 3,
     "metadata": {},
     "output_type": "execute_result"
    }
   ],
   "source": [
    "# methods\n",
    "phrase = \"my_string\"\n",
    "phrase.islower()"
   ]
  },
  {
   "cell_type": "code",
   "execution_count": 4,
   "id": "c8fd3ae9",
   "metadata": {},
   "outputs": [
    {
     "data": {
      "text/plain": [
       "1"
      ]
     },
     "execution_count": 4,
     "metadata": {},
     "output_type": "execute_result"
    }
   ],
   "source": [
    "phrase.count(\"i\")"
   ]
  },
  {
   "cell_type": "code",
   "execution_count": 6,
   "id": "971e3b7d",
   "metadata": {},
   "outputs": [
    {
     "data": {
      "text/plain": [
       "4"
      ]
     },
     "execution_count": 6,
     "metadata": {},
     "output_type": "execute_result"
    }
   ],
   "source": [
    "phrase.find(\"t\")"
   ]
  },
  {
   "cell_type": "code",
   "execution_count": 3,
   "id": "ef338457",
   "metadata": {},
   "outputs": [
    {
     "name": "stdout",
     "output_type": "stream",
     "text": [
      "Verse length is  362\n",
      "The word 'and' is at position 65\n",
      "The word 'you' is at position 186  from behinf\n",
      "The word 'you' occurs 8  times\n"
     ]
    }
   ],
   "source": [
    "verse = \"If you can keep your head when all about you\\n  Are losing theirs and blaming it on you,\\nIf you can trust yourself when all men doubt you,\\n  But make allowance for their doubting too;\\nIf you can wait and not be tired by waiting,\\n  Or being lied about, don’t deal in lies,\\nOr being hated, don’t give way to hating,\\n  And yet don’t look too good, nor talk too wise:\"\n",
    "# print(verse)\n",
    "verse_length = len(verse)\n",
    "print(\"Verse length is \", verse_length)\n",
    "!\n",
    "loc_and = verse.find(\"and\")\n",
    "print(\"The word 'and' is at position\", loc_and)\n",
    "loc_you = verse.rfind(\"you\")\n",
    "print(\"The word 'you' is at position\", loc_you, \" from behinf\")\n",
    "print(\"The word 'you' occurs\", verse.count(\"you\"), \" times\")"
   ]
  },
  {
   "cell_type": "code",
   "execution_count": 3,
   "id": "0a063831",
   "metadata": {},
   "outputs": [
    {
     "data": {
      "text/plain": [
       "True"
      ]
     },
     "execution_count": 3,
     "metadata": {},
     "output_type": "execute_result"
    }
   ],
   "source": [
    "#tuples\n",
    "#tuples are immutable\n",
    "#example of a tuple\n",
    "tuple_a = (1, 2)\n",
    "tuple_b = 1, 2\n",
    "tuple_a == tuple_b #evaluates to true because though tuples are declared in brackets, it can be ommited"
   ]
  },
  {
   "cell_type": "code",
   "execution_count": null,
   "id": "eef816b7",
   "metadata": {},
   "outputs": [],
   "source": []
  }
 ],
 "metadata": {
  "kernelspec": {
   "display_name": "Python 3 (ipykernel)",
   "language": "python",
   "name": "python3"
  },
  "language_info": {
   "codemirror_mode": {
    "name": "ipython",
    "version": 3
   },
   "file_extension": ".py",
   "mimetype": "text/x-python",
   "name": "python",
   "nbconvert_exporter": "python",
   "pygments_lexer": "ipython3",
   "version": "3.9.7"
  }
 },
 "nbformat": 4,
 "nbformat_minor": 5
}
