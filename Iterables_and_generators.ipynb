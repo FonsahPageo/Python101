{
 "cells": [
  {
   "cell_type": "markdown",
   "id": "d18d5608",
   "metadata": {},
   "source": [
    "# Iterables and Generators\n",
    "Iterables are objects that can return one of its object at a time.\n",
    "\n",
    "An interator is an object that represents a stream of data.\n",
    "\n",
    "A list is an interable but not an iterator.\n",
    "\n",
    "Generators are simple ways of creating iterators using functions."
   ]
  },
  {
   "cell_type": "code",
   "execution_count": 2,
   "id": "9379c895",
   "metadata": {},
   "outputs": [
    {
     "name": "stdout",
     "output_type": "stream",
     "text": [
      "0\n",
      "1\n",
      "2\n",
      "3\n",
      "4\n",
      "5\n",
      "6\n",
      "7\n",
      "8\n",
      "9\n",
      "10\n",
      "11\n",
      "12\n",
      "13\n",
      "14\n",
      "15\n",
      "16\n",
      "17\n",
      "18\n",
      "19\n"
     ]
    }
   ],
   "source": [
    "def my_range(x):\n",
    "    i = 0\n",
    "    while i < x:\n",
    "        yield i\n",
    "        i += 1\n",
    "# my_range(25)\n",
    "for n in my_range(20):\n",
    "    print(n)"
   ]
  },
  {
   "cell_type": "code",
   "execution_count": null,
   "id": "b22b4505",
   "metadata": {},
   "outputs": [],
   "source": []
  }
 ],
 "metadata": {
  "kernelspec": {
   "display_name": "Python 3 (ipykernel)",
   "language": "python",
   "name": "python3"
  },
  "language_info": {
   "codemirror_mode": {
    "name": "ipython",
    "version": 3
   },
   "file_extension": ".py",
   "mimetype": "text/x-python",
   "name": "python",
   "nbconvert_exporter": "python",
   "pygments_lexer": "ipython3",
   "version": "3.9.7"
  }
 },
 "nbformat": 4,
 "nbformat_minor": 5
}
