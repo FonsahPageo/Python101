{
 "cells": [
  {
   "cell_type": "markdown",
   "id": "0d7f166f",
   "metadata": {},
   "source": [
    "# Pandas\n",
    "Pandas is a python library built on top of Numpy, used for data manipulation and analysis.\n",
    "## Pandas series vs pandas dataframes\n",
    "A pandas series is a 1d array-like object that can hold many data types.\n",
    "Pandas series are mutable"
   ]
  },
  {
   "cell_type": "code",
   "execution_count": 1,
   "id": "25de5bb2",
   "metadata": {},
   "outputs": [],
   "source": [
    "import pandas as pd"
   ]
  },
  {
   "cell_type": "code",
   "execution_count": 2,
   "id": "d3bf4c19",
   "metadata": {},
   "outputs": [
    {
     "data": {
      "text/plain": [
       "eggs       30\n",
       "apples      6\n",
       "milk      Yes\n",
       "bread      No\n",
       "dtype: object"
      ]
     },
     "execution_count": 2,
     "metadata": {},
     "output_type": "execute_result"
    }
   ],
   "source": [
    "#creating a pandas series\n",
    "groceries = pd.Series(data = [30, 6, 'Yes', 'No'], index = ['eggs', 'apples', 'milk', 'bread'])\n",
    "groceries"
   ]
  },
  {
   "cell_type": "code",
   "execution_count": 11,
   "id": "617ad613",
   "metadata": {},
   "outputs": [
    {
     "name": "stdout",
     "output_type": "stream",
     "text": [
      "Groceries has shape: (4,)\n",
      "Groceries has dimension: 1\n",
      "Groceries has a total of: 4 elements\n"
     ]
    }
   ],
   "source": [
    "print(\"Groceries has shape:\", groceries.shape)\n",
    "print(\"Groceries has dimension:\", groceries.ndim)\n",
    "print(\"Groceries has a total of:\", groceries.size, \"elements\")"
   ]
  },
  {
   "cell_type": "code",
   "execution_count": 12,
   "id": "8158d1b4",
   "metadata": {},
   "outputs": [
    {
     "data": {
      "text/plain": [
       "False"
      ]
     },
     "execution_count": 12,
     "metadata": {},
     "output_type": "execute_result"
    }
   ],
   "source": [
    "'bananas' in groceries"
   ]
  },
  {
   "cell_type": "code",
   "execution_count": 13,
   "id": "d1a0737c",
   "metadata": {},
   "outputs": [
    {
     "data": {
      "text/plain": [
       "True"
      ]
     },
     "execution_count": 13,
     "metadata": {},
     "output_type": "execute_result"
    }
   ],
   "source": [
    "'bread' in groceries"
   ]
  },
  {
   "cell_type": "markdown",
   "id": "dff37992",
   "metadata": {},
   "source": [
    "## Accessing and deleting elements in Pandas Series"
   ]
  },
  {
   "cell_type": "code",
   "execution_count": 14,
   "id": "f73cb2e4",
   "metadata": {},
   "outputs": [
    {
     "data": {
      "text/plain": [
       "30"
      ]
     },
     "execution_count": 14,
     "metadata": {},
     "output_type": "execute_result"
    }
   ],
   "source": [
    "groceries['eggs']"
   ]
  },
  {
   "cell_type": "code",
   "execution_count": 15,
   "id": "df349d3a",
   "metadata": {
    "scrolled": false
   },
   "outputs": [
    {
     "data": {
      "text/plain": [
       "eggs     30\n",
       "milk    Yes\n",
       "dtype: object"
      ]
     },
     "execution_count": 15,
     "metadata": {},
     "output_type": "execute_result"
    }
   ],
   "source": [
    "groceries[['eggs', 'milk']]"
   ]
  },
  {
   "cell_type": "code",
   "execution_count": 16,
   "id": "26d21168",
   "metadata": {},
   "outputs": [
    {
     "data": {
      "text/plain": [
       "30"
      ]
     },
     "execution_count": 16,
     "metadata": {},
     "output_type": "execute_result"
    }
   ],
   "source": [
    "groceries[0]"
   ]
  },
  {
   "cell_type": "code",
   "execution_count": 17,
   "id": "5f20da50",
   "metadata": {},
   "outputs": [
    {
     "data": {
      "text/plain": [
       "'No'"
      ]
     },
     "execution_count": 17,
     "metadata": {},
     "output_type": "execute_result"
    }
   ],
   "source": [
    "groceries[3]"
   ]
  },
  {
   "cell_type": "code",
   "execution_count": 18,
   "id": "171cb1f0",
   "metadata": {},
   "outputs": [
    {
     "data": {
      "text/plain": [
       "eggs       12\n",
       "apples      6\n",
       "milk      Yes\n",
       "bread      No\n",
       "dtype: object"
      ]
     },
     "execution_count": 18,
     "metadata": {},
     "output_type": "execute_result"
    }
   ],
   "source": [
    "groceries['eggs'] = 12\n",
    "groceries"
   ]
  },
  {
   "cell_type": "code",
   "execution_count": 19,
   "id": "efe5ecc9",
   "metadata": {
    "scrolled": true
   },
   "outputs": [
    {
     "data": {
      "text/plain": [
       "eggs      12\n",
       "milk     Yes\n",
       "bread     No\n",
       "dtype: object"
      ]
     },
     "execution_count": 19,
     "metadata": {},
     "output_type": "execute_result"
    }
   ],
   "source": [
    "groceries.drop('apples')\n",
    "# returns a modified version of the series without changing it"
   ]
  },
  {
   "cell_type": "code",
   "execution_count": 20,
   "id": "1e9af28a",
   "metadata": {},
   "outputs": [
    {
     "data": {
      "text/plain": [
       "eggs       12\n",
       "apples      6\n",
       "milk      Yes\n",
       "bread      No\n",
       "dtype: object"
      ]
     },
     "execution_count": 20,
     "metadata": {},
     "output_type": "execute_result"
    }
   ],
   "source": [
    "groceries"
   ]
  },
  {
   "cell_type": "code",
   "execution_count": 21,
   "id": "118f4def",
   "metadata": {},
   "outputs": [
    {
     "data": {
      "text/plain": [
       "eggs      12\n",
       "milk     Yes\n",
       "bread     No\n",
       "dtype: object"
      ]
     },
     "execution_count": 21,
     "metadata": {},
     "output_type": "execute_result"
    }
   ],
   "source": [
    "groceries.drop('apples', inplace = True)\n",
    "# deletes the element and modifies the series\n",
    "groceries"
   ]
  },
  {
   "cell_type": "markdown",
   "id": "93b6d4c0",
   "metadata": {},
   "source": [
    "# Arithmetic operations on Pandas Series"
   ]
  },
  {
   "cell_type": "code",
   "execution_count": 4,
   "id": "a7662846",
   "metadata": {},
   "outputs": [
    {
     "data": {
      "text/plain": [
       "apples     10\n",
       "oranges     6\n",
       "bananas     3\n",
       "dtype: int64"
      ]
     },
     "execution_count": 4,
     "metadata": {},
     "output_type": "execute_result"
    }
   ],
   "source": [
    "fruits = pd.Series([10, 6, 3], ['apples', 'oranges', 'bananas'])\n",
    "fruits"
   ]
  },
  {
   "cell_type": "code",
   "execution_count": 23,
   "id": "0e8c7f36",
   "metadata": {},
   "outputs": [
    {
     "name": "stdout",
     "output_type": "stream",
     "text": [
      "apples     12\n",
      "oranges     8\n",
      "bananas     5\n",
      "dtype: int64\n"
     ]
    }
   ],
   "source": [
    "print(fruits + 2)\n"
   ]
  },
  {
   "cell_type": "code",
   "execution_count": 24,
   "id": "3c95abd4",
   "metadata": {},
   "outputs": [
    {
     "name": "stdout",
     "output_type": "stream",
     "text": [
      "apples     8\n",
      "oranges    4\n",
      "bananas    1\n",
      "dtype: int64\n"
     ]
    }
   ],
   "source": [
    "print(fruits - 2)"
   ]
  },
  {
   "cell_type": "code",
   "execution_count": 25,
   "id": "a0e5b039",
   "metadata": {},
   "outputs": [
    {
     "name": "stdout",
     "output_type": "stream",
     "text": [
      "apples     20\n",
      "oranges    12\n",
      "bananas     6\n",
      "dtype: int64\n"
     ]
    }
   ],
   "source": [
    "print(fruits * 2)"
   ]
  },
  {
   "cell_type": "code",
   "execution_count": 26,
   "id": "bba589c8",
   "metadata": {},
   "outputs": [
    {
     "name": "stdout",
     "output_type": "stream",
     "text": [
      "apples     8\n",
      "oranges    4\n",
      "bananas    1\n",
      "dtype: int64\n"
     ]
    }
   ],
   "source": [
    "print(fruits - 2)"
   ]
  },
  {
   "cell_type": "code",
   "execution_count": 5,
   "id": "e7729a0c",
   "metadata": {},
   "outputs": [
    {
     "data": {
      "text/plain": [
       "apples     3.162278\n",
       "oranges    2.449490\n",
       "bananas    1.732051\n",
       "dtype: float64"
      ]
     },
     "execution_count": 5,
     "metadata": {},
     "output_type": "execute_result"
    }
   ],
   "source": [
    "import numpy as np\n",
    "np.sqrt(fruits)"
   ]
  },
  {
   "cell_type": "code",
   "execution_count": 28,
   "id": "5bb6190b",
   "metadata": {},
   "outputs": [
    {
     "data": {
      "text/plain": [
       "apples     100\n",
       "oranges     36\n",
       "bananas      9\n",
       "dtype: int64"
      ]
     },
     "execution_count": 28,
     "metadata": {},
     "output_type": "execute_result"
    }
   ],
   "source": [
    "ny.power(fruits, 2)"
   ]
  },
  {
   "cell_type": "code",
   "execution_count": 29,
   "id": "22612614",
   "metadata": {},
   "outputs": [
    {
     "data": {
      "text/plain": [
       "apples     22026.465795\n",
       "oranges      403.428793\n",
       "bananas       20.085537\n",
       "dtype: float64"
      ]
     },
     "execution_count": 29,
     "metadata": {},
     "output_type": "execute_result"
    }
   ],
   "source": [
    "np.exp(fruits)"
   ]
  },
  {
   "cell_type": "code",
   "execution_count": 30,
   "id": "387b1231",
   "metadata": {},
   "outputs": [
    {
     "data": {
      "text/plain": [
       "bananas    5\n",
       "dtype: int64"
      ]
     },
     "execution_count": 30,
     "metadata": {},
     "output_type": "execute_result"
    }
   ],
   "source": [
    "fruits[['bananas']] + 2"
   ]
  },
  {
   "cell_type": "markdown",
   "id": "119f8549",
   "metadata": {},
   "source": [
    "# Pandas dataframes\n",
    "Pandas dataframe is a 2d object with labelled rows and columns which can also hold multiple datatypes"
   ]
  },
  {
   "cell_type": "code",
   "execution_count": 31,
   "id": "ba3049a0",
   "metadata": {},
   "outputs": [
    {
     "data": {
      "text/plain": [
       "dict"
      ]
     },
     "execution_count": 31,
     "metadata": {},
     "output_type": "execute_result"
    }
   ],
   "source": [
    "items = {'Bob': pd.Series([245, 25, 55], index = ['bike', 'pants', 'watch']), \n",
    "         'Alice': pd.Series([40, 10, 500, 45], index = ['book', 'glasses', 'bike', 'pants'])}\n",
    "type(items)"
   ]
  },
  {
   "cell_type": "code",
   "execution_count": 32,
   "id": "07b600b5",
   "metadata": {},
   "outputs": [
    {
     "data": {
      "text/html": [
       "<div>\n",
       "<style scoped>\n",
       "    .dataframe tbody tr th:only-of-type {\n",
       "        vertical-align: middle;\n",
       "    }\n",
       "\n",
       "    .dataframe tbody tr th {\n",
       "        vertical-align: top;\n",
       "    }\n",
       "\n",
       "    .dataframe thead th {\n",
       "        text-align: right;\n",
       "    }\n",
       "</style>\n",
       "<table border=\"1\" class=\"dataframe\">\n",
       "  <thead>\n",
       "    <tr style=\"text-align: right;\">\n",
       "      <th></th>\n",
       "      <th>Bob</th>\n",
       "      <th>Alice</th>\n",
       "    </tr>\n",
       "  </thead>\n",
       "  <tbody>\n",
       "    <tr>\n",
       "      <th>bike</th>\n",
       "      <td>245.0</td>\n",
       "      <td>500.0</td>\n",
       "    </tr>\n",
       "    <tr>\n",
       "      <th>book</th>\n",
       "      <td>NaN</td>\n",
       "      <td>40.0</td>\n",
       "    </tr>\n",
       "    <tr>\n",
       "      <th>glasses</th>\n",
       "      <td>NaN</td>\n",
       "      <td>10.0</td>\n",
       "    </tr>\n",
       "    <tr>\n",
       "      <th>pants</th>\n",
       "      <td>25.0</td>\n",
       "      <td>45.0</td>\n",
       "    </tr>\n",
       "    <tr>\n",
       "      <th>watch</th>\n",
       "      <td>55.0</td>\n",
       "      <td>NaN</td>\n",
       "    </tr>\n",
       "  </tbody>\n",
       "</table>\n",
       "</div>"
      ],
      "text/plain": [
       "           Bob  Alice\n",
       "bike     245.0  500.0\n",
       "book       NaN   40.0\n",
       "glasses    NaN   10.0\n",
       "pants     25.0   45.0\n",
       "watch     55.0    NaN"
      ]
     },
     "execution_count": 32,
     "metadata": {},
     "output_type": "execute_result"
    }
   ],
   "source": [
    "shopping_carts = pd.DataFrame(items)\n",
    "shopping_carts"
   ]
  },
  {
   "cell_type": "code",
   "execution_count": 33,
   "id": "139138f9",
   "metadata": {},
   "outputs": [
    {
     "data": {
      "text/html": [
       "<div>\n",
       "<style scoped>\n",
       "    .dataframe tbody tr th:only-of-type {\n",
       "        vertical-align: middle;\n",
       "    }\n",
       "\n",
       "    .dataframe tbody tr th {\n",
       "        vertical-align: top;\n",
       "    }\n",
       "\n",
       "    .dataframe thead th {\n",
       "        text-align: right;\n",
       "    }\n",
       "</style>\n",
       "<table border=\"1\" class=\"dataframe\">\n",
       "  <thead>\n",
       "    <tr style=\"text-align: right;\">\n",
       "      <th></th>\n",
       "      <th>Bob</th>\n",
       "      <th>Alice</th>\n",
       "    </tr>\n",
       "  </thead>\n",
       "  <tbody>\n",
       "    <tr>\n",
       "      <th>0</th>\n",
       "      <td>245.0</td>\n",
       "      <td>40</td>\n",
       "    </tr>\n",
       "    <tr>\n",
       "      <th>1</th>\n",
       "      <td>25.0</td>\n",
       "      <td>110</td>\n",
       "    </tr>\n",
       "    <tr>\n",
       "      <th>2</th>\n",
       "      <td>55.0</td>\n",
       "      <td>500</td>\n",
       "    </tr>\n",
       "    <tr>\n",
       "      <th>3</th>\n",
       "      <td>NaN</td>\n",
       "      <td>45</td>\n",
       "    </tr>\n",
       "  </tbody>\n",
       "</table>\n",
       "</div>"
      ],
      "text/plain": [
       "     Bob  Alice\n",
       "0  245.0     40\n",
       "1   25.0    110\n",
       "2   55.0    500\n",
       "3    NaN     45"
      ]
     },
     "execution_count": 33,
     "metadata": {},
     "output_type": "execute_result"
    }
   ],
   "source": [
    "data = {'Bob' : pd.Series([245, 25, 55]),\n",
    "        'Alice' : pd.Series([40, 110, 500, 45])}\n",
    "df = pd.DataFrame(data)\n",
    "df"
   ]
  },
  {
   "cell_type": "code",
   "execution_count": 34,
   "id": "381923de",
   "metadata": {},
   "outputs": [
    {
     "data": {
      "text/html": [
       "<div>\n",
       "<style scoped>\n",
       "    .dataframe tbody tr th:only-of-type {\n",
       "        vertical-align: middle;\n",
       "    }\n",
       "\n",
       "    .dataframe tbody tr th {\n",
       "        vertical-align: top;\n",
       "    }\n",
       "\n",
       "    .dataframe thead th {\n",
       "        text-align: right;\n",
       "    }\n",
       "</style>\n",
       "<table border=\"1\" class=\"dataframe\">\n",
       "  <thead>\n",
       "    <tr style=\"text-align: right;\">\n",
       "      <th></th>\n",
       "      <th>Bob</th>\n",
       "    </tr>\n",
       "  </thead>\n",
       "  <tbody>\n",
       "    <tr>\n",
       "      <th>bike</th>\n",
       "      <td>245</td>\n",
       "    </tr>\n",
       "    <tr>\n",
       "      <th>pants</th>\n",
       "      <td>25</td>\n",
       "    </tr>\n",
       "    <tr>\n",
       "      <th>watch</th>\n",
       "      <td>55</td>\n",
       "    </tr>\n",
       "  </tbody>\n",
       "</table>\n",
       "</div>"
      ],
      "text/plain": [
       "       Bob\n",
       "bike   245\n",
       "pants   25\n",
       "watch   55"
      ]
     },
     "execution_count": 34,
     "metadata": {},
     "output_type": "execute_result"
    }
   ],
   "source": [
    "bob_shopping_cart = pd.DataFrame(items, columns = ['Bob'])\n",
    "bob_shopping_cart"
   ]
  },
  {
   "cell_type": "code",
   "execution_count": 35,
   "id": "0b33a2cb",
   "metadata": {},
   "outputs": [
    {
     "data": {
      "text/html": [
       "<div>\n",
       "<style scoped>\n",
       "    .dataframe tbody tr th:only-of-type {\n",
       "        vertical-align: middle;\n",
       "    }\n",
       "\n",
       "    .dataframe tbody tr th {\n",
       "        vertical-align: top;\n",
       "    }\n",
       "\n",
       "    .dataframe thead th {\n",
       "        text-align: right;\n",
       "    }\n",
       "</style>\n",
       "<table border=\"1\" class=\"dataframe\">\n",
       "  <thead>\n",
       "    <tr style=\"text-align: right;\">\n",
       "      <th></th>\n",
       "      <th>Bob</th>\n",
       "      <th>Alice</th>\n",
       "    </tr>\n",
       "  </thead>\n",
       "  <tbody>\n",
       "    <tr>\n",
       "      <th>pants</th>\n",
       "      <td>25.0</td>\n",
       "      <td>45</td>\n",
       "    </tr>\n",
       "    <tr>\n",
       "      <th>book</th>\n",
       "      <td>NaN</td>\n",
       "      <td>40</td>\n",
       "    </tr>\n",
       "  </tbody>\n",
       "</table>\n",
       "</div>"
      ],
      "text/plain": [
       "        Bob  Alice\n",
       "pants  25.0     45\n",
       "book    NaN     40"
      ]
     },
     "execution_count": 35,
     "metadata": {},
     "output_type": "execute_result"
    }
   ],
   "source": [
    "sel_shopping_cart = pd.DataFrame(items, index = ['pants', 'book'])\n",
    "sel_shopping_cart"
   ]
  },
  {
   "cell_type": "code",
   "execution_count": 36,
   "id": "80240f59",
   "metadata": {},
   "outputs": [
    {
     "data": {
      "text/plain": [
       "(5, 2)"
      ]
     },
     "execution_count": 36,
     "metadata": {},
     "output_type": "execute_result"
    }
   ],
   "source": [
    "shopping_carts.shape"
   ]
  },
  {
   "cell_type": "code",
   "execution_count": 37,
   "id": "ff9f2363",
   "metadata": {},
   "outputs": [
    {
     "data": {
      "text/html": [
       "<div>\n",
       "<style scoped>\n",
       "    .dataframe tbody tr th:only-of-type {\n",
       "        vertical-align: middle;\n",
       "    }\n",
       "\n",
       "    .dataframe tbody tr th {\n",
       "        vertical-align: top;\n",
       "    }\n",
       "\n",
       "    .dataframe thead th {\n",
       "        text-align: right;\n",
       "    }\n",
       "</style>\n",
       "<table border=\"1\" class=\"dataframe\">\n",
       "  <thead>\n",
       "    <tr style=\"text-align: right;\">\n",
       "      <th></th>\n",
       "      <th>Bob</th>\n",
       "    </tr>\n",
       "  </thead>\n",
       "  <tbody>\n",
       "    <tr>\n",
       "      <th>pants</th>\n",
       "      <td>25.0</td>\n",
       "    </tr>\n",
       "    <tr>\n",
       "      <th>book</th>\n",
       "      <td>NaN</td>\n",
       "    </tr>\n",
       "  </tbody>\n",
       "</table>\n",
       "</div>"
      ],
      "text/plain": [
       "        Bob\n",
       "pants  25.0\n",
       "book    NaN"
      ]
     },
     "execution_count": 37,
     "metadata": {},
     "output_type": "execute_result"
    }
   ],
   "source": [
    "alice_shopping_cart = pd.DataFrame(items, index = ['pants', 'book'], columns = ['Bob'])\n",
    "alice_shopping_cart"
   ]
  },
  {
   "cell_type": "code",
   "execution_count": 38,
   "id": "bab0aa42",
   "metadata": {},
   "outputs": [
    {
     "data": {
      "text/html": [
       "<div>\n",
       "<style scoped>\n",
       "    .dataframe tbody tr th:only-of-type {\n",
       "        vertical-align: middle;\n",
       "    }\n",
       "\n",
       "    .dataframe tbody tr th {\n",
       "        vertical-align: top;\n",
       "    }\n",
       "\n",
       "    .dataframe thead th {\n",
       "        text-align: right;\n",
       "    }\n",
       "</style>\n",
       "<table border=\"1\" class=\"dataframe\">\n",
       "  <thead>\n",
       "    <tr style=\"text-align: right;\">\n",
       "      <th></th>\n",
       "      <th>Integers</th>\n",
       "      <th>Floats</th>\n",
       "    </tr>\n",
       "  </thead>\n",
       "  <tbody>\n",
       "    <tr>\n",
       "      <th>Label 1</th>\n",
       "      <td>1</td>\n",
       "      <td>2.4</td>\n",
       "    </tr>\n",
       "    <tr>\n",
       "      <th>Label 2</th>\n",
       "      <td>2</td>\n",
       "      <td>9.0</td>\n",
       "    </tr>\n",
       "    <tr>\n",
       "      <th>Label 3</th>\n",
       "      <td>3</td>\n",
       "      <td>5.6</td>\n",
       "    </tr>\n",
       "  </tbody>\n",
       "</table>\n",
       "</div>"
      ],
      "text/plain": [
       "         Integers  Floats\n",
       "Label 1         1     2.4\n",
       "Label 2         2     9.0\n",
       "Label 3         3     5.6"
      ]
     },
     "execution_count": 38,
     "metadata": {},
     "output_type": "execute_result"
    }
   ],
   "source": [
    "# creating a dataframe with labelled indices\n",
    "data = {'Integers': [1, 2, 3], 'Floats': [2.4, 9.0, 5.6]}\n",
    "df = pd.DataFrame(data, index = ['Label 1', 'Label 2', 'Label 3'])\n",
    "df"
   ]
  },
  {
   "cell_type": "markdown",
   "id": "0f24bc5d",
   "metadata": {},
   "source": [
    "# Accessing elements in Pandas dataframes"
   ]
  },
  {
   "cell_type": "code",
   "execution_count": 39,
   "id": "d30b91ae",
   "metadata": {},
   "outputs": [
    {
     "data": {
      "text/html": [
       "<div>\n",
       "<style scoped>\n",
       "    .dataframe tbody tr th:only-of-type {\n",
       "        vertical-align: middle;\n",
       "    }\n",
       "\n",
       "    .dataframe tbody tr th {\n",
       "        vertical-align: top;\n",
       "    }\n",
       "\n",
       "    .dataframe thead th {\n",
       "        text-align: right;\n",
       "    }\n",
       "</style>\n",
       "<table border=\"1\" class=\"dataframe\">\n",
       "  <thead>\n",
       "    <tr style=\"text-align: right;\">\n",
       "      <th></th>\n",
       "      <th>bikes</th>\n",
       "      <th>pants</th>\n",
       "      <th>watches</th>\n",
       "      <th>glasses</th>\n",
       "    </tr>\n",
       "  </thead>\n",
       "  <tbody>\n",
       "    <tr>\n",
       "      <th>store 1</th>\n",
       "      <td>20</td>\n",
       "      <td>30</td>\n",
       "      <td>35</td>\n",
       "      <td>NaN</td>\n",
       "    </tr>\n",
       "    <tr>\n",
       "      <th>store 2</th>\n",
       "      <td>15</td>\n",
       "      <td>5</td>\n",
       "      <td>10</td>\n",
       "      <td>50.0</td>\n",
       "    </tr>\n",
       "  </tbody>\n",
       "</table>\n",
       "</div>"
      ],
      "text/plain": [
       "         bikes  pants  watches  glasses\n",
       "store 1     20     30       35      NaN\n",
       "store 2     15      5       10     50.0"
      ]
     },
     "execution_count": 39,
     "metadata": {},
     "output_type": "execute_result"
    }
   ],
   "source": [
    "items = [{'bikes': 20, 'pants': 30, 'watches': 35}, {'watches': 10, 'glasses': 50, 'bikes': 15, 'pants': 5}]\n",
    "store_items = pd.DataFrame(items, index = ['store 1', 'store 2'])\n",
    "store_items"
   ]
  },
  {
   "cell_type": "code",
   "execution_count": 40,
   "id": "951c33f8",
   "metadata": {},
   "outputs": [
    {
     "data": {
      "text/plain": [
       "store 1    20\n",
       "store 2    15\n",
       "Name: bikes, dtype: int64"
      ]
     },
     "execution_count": 40,
     "metadata": {},
     "output_type": "execute_result"
    }
   ],
   "source": [
    "store_items['bikes']"
   ]
  },
  {
   "cell_type": "code",
   "execution_count": 41,
   "id": "18c9912e",
   "metadata": {},
   "outputs": [
    {
     "data": {
      "text/plain": [
       "15"
      ]
     },
     "execution_count": 41,
     "metadata": {},
     "output_type": "execute_result"
    }
   ],
   "source": [
    "store_items['bikes']['store 2']"
   ]
  },
  {
   "cell_type": "markdown",
   "id": "87937ce1",
   "metadata": {},
   "source": [
    "The main diff b/w the 'loc' and 'iloc' methods is that loc gets rows (and/or columns) with particular labels while iloc gets rows (and/or columns) at integer locations."
   ]
  },
  {
   "cell_type": "code",
   "execution_count": 42,
   "id": "e6e78626",
   "metadata": {},
   "outputs": [
    {
     "data": {
      "text/html": [
       "<div>\n",
       "<style scoped>\n",
       "    .dataframe tbody tr th:only-of-type {\n",
       "        vertical-align: middle;\n",
       "    }\n",
       "\n",
       "    .dataframe tbody tr th {\n",
       "        vertical-align: top;\n",
       "    }\n",
       "\n",
       "    .dataframe thead th {\n",
       "        text-align: right;\n",
       "    }\n",
       "</style>\n",
       "<table border=\"1\" class=\"dataframe\">\n",
       "  <thead>\n",
       "    <tr style=\"text-align: right;\">\n",
       "      <th></th>\n",
       "      <th>bikes</th>\n",
       "      <th>pants</th>\n",
       "      <th>watches</th>\n",
       "      <th>glasses</th>\n",
       "    </tr>\n",
       "  </thead>\n",
       "  <tbody>\n",
       "    <tr>\n",
       "      <th>store 1</th>\n",
       "      <td>20</td>\n",
       "      <td>30</td>\n",
       "      <td>35</td>\n",
       "      <td>NaN</td>\n",
       "    </tr>\n",
       "  </tbody>\n",
       "</table>\n",
       "</div>"
      ],
      "text/plain": [
       "         bikes  pants  watches  glasses\n",
       "store 1     20     30       35      NaN"
      ]
     },
     "execution_count": 42,
     "metadata": {},
     "output_type": "execute_result"
    }
   ],
   "source": [
    "store_items.loc[['store 1']]\n",
    "# returns as a dataframe"
   ]
  },
  {
   "cell_type": "code",
   "execution_count": 43,
   "id": "9655217f",
   "metadata": {},
   "outputs": [
    {
     "data": {
      "text/plain": [
       "bikes      20.0\n",
       "pants      30.0\n",
       "watches    35.0\n",
       "glasses     NaN\n",
       "Name: store 1, dtype: float64"
      ]
     },
     "execution_count": 43,
     "metadata": {},
     "output_type": "execute_result"
    }
   ],
   "source": [
    "store_items.loc['store 1']\n",
    "# returns a listing of the elements"
   ]
  },
  {
   "cell_type": "code",
   "execution_count": 44,
   "id": "e364054a",
   "metadata": {},
   "outputs": [
    {
     "data": {
      "text/html": [
       "<div>\n",
       "<style scoped>\n",
       "    .dataframe tbody tr th:only-of-type {\n",
       "        vertical-align: middle;\n",
       "    }\n",
       "\n",
       "    .dataframe tbody tr th {\n",
       "        vertical-align: top;\n",
       "    }\n",
       "\n",
       "    .dataframe thead th {\n",
       "        text-align: right;\n",
       "    }\n",
       "</style>\n",
       "<table border=\"1\" class=\"dataframe\">\n",
       "  <thead>\n",
       "    <tr style=\"text-align: right;\">\n",
       "      <th></th>\n",
       "      <th>bikes</th>\n",
       "      <th>pants</th>\n",
       "      <th>watches</th>\n",
       "      <th>glasses</th>\n",
       "      <th>shirts</th>\n",
       "    </tr>\n",
       "  </thead>\n",
       "  <tbody>\n",
       "    <tr>\n",
       "      <th>store 1</th>\n",
       "      <td>20</td>\n",
       "      <td>30</td>\n",
       "      <td>35</td>\n",
       "      <td>NaN</td>\n",
       "      <td>15</td>\n",
       "    </tr>\n",
       "    <tr>\n",
       "      <th>store 2</th>\n",
       "      <td>15</td>\n",
       "      <td>5</td>\n",
       "      <td>10</td>\n",
       "      <td>50.0</td>\n",
       "      <td>8</td>\n",
       "    </tr>\n",
       "  </tbody>\n",
       "</table>\n",
       "</div>"
      ],
      "text/plain": [
       "         bikes  pants  watches  glasses  shirts\n",
       "store 1     20     30       35      NaN      15\n",
       "store 2     15      5       10     50.0       8"
      ]
     },
     "execution_count": 44,
     "metadata": {},
     "output_type": "execute_result"
    }
   ],
   "source": [
    "store_items['shirts'] = [15, 8]\n",
    "store_items"
   ]
  },
  {
   "cell_type": "code",
   "execution_count": 45,
   "id": "b92458b3",
   "metadata": {},
   "outputs": [
    {
     "data": {
      "text/html": [
       "<div>\n",
       "<style scoped>\n",
       "    .dataframe tbody tr th:only-of-type {\n",
       "        vertical-align: middle;\n",
       "    }\n",
       "\n",
       "    .dataframe tbody tr th {\n",
       "        vertical-align: top;\n",
       "    }\n",
       "\n",
       "    .dataframe thead th {\n",
       "        text-align: right;\n",
       "    }\n",
       "</style>\n",
       "<table border=\"1\" class=\"dataframe\">\n",
       "  <thead>\n",
       "    <tr style=\"text-align: right;\">\n",
       "      <th></th>\n",
       "      <th>bikes</th>\n",
       "      <th>pants</th>\n",
       "      <th>watches</th>\n",
       "      <th>glasses</th>\n",
       "      <th>shirts</th>\n",
       "      <th>suits</th>\n",
       "    </tr>\n",
       "  </thead>\n",
       "  <tbody>\n",
       "    <tr>\n",
       "      <th>store 1</th>\n",
       "      <td>20</td>\n",
       "      <td>30</td>\n",
       "      <td>35</td>\n",
       "      <td>NaN</td>\n",
       "      <td>15</td>\n",
       "      <td>45</td>\n",
       "    </tr>\n",
       "    <tr>\n",
       "      <th>store 2</th>\n",
       "      <td>15</td>\n",
       "      <td>5</td>\n",
       "      <td>10</td>\n",
       "      <td>50.0</td>\n",
       "      <td>8</td>\n",
       "      <td>13</td>\n",
       "    </tr>\n",
       "  </tbody>\n",
       "</table>\n",
       "</div>"
      ],
      "text/plain": [
       "         bikes  pants  watches  glasses  shirts  suits\n",
       "store 1     20     30       35      NaN      15     45\n",
       "store 2     15      5       10     50.0       8     13"
      ]
     },
     "execution_count": 45,
     "metadata": {},
     "output_type": "execute_result"
    }
   ],
   "source": [
    "store_items['suits'] = store_items['shirts'] + store_items['pants']\n",
    "store_items"
   ]
  },
  {
   "cell_type": "code",
   "execution_count": 46,
   "id": "151a37bc",
   "metadata": {},
   "outputs": [
    {
     "data": {
      "text/html": [
       "<div>\n",
       "<style scoped>\n",
       "    .dataframe tbody tr th:only-of-type {\n",
       "        vertical-align: middle;\n",
       "    }\n",
       "\n",
       "    .dataframe tbody tr th {\n",
       "        vertical-align: top;\n",
       "    }\n",
       "\n",
       "    .dataframe thead th {\n",
       "        text-align: right;\n",
       "    }\n",
       "</style>\n",
       "<table border=\"1\" class=\"dataframe\">\n",
       "  <thead>\n",
       "    <tr style=\"text-align: right;\">\n",
       "      <th></th>\n",
       "      <th>bikes</th>\n",
       "      <th>pants</th>\n",
       "      <th>watches</th>\n",
       "      <th>glasses</th>\n",
       "    </tr>\n",
       "  </thead>\n",
       "  <tbody>\n",
       "    <tr>\n",
       "      <th>store 3</th>\n",
       "      <td>20</td>\n",
       "      <td>30</td>\n",
       "      <td>35</td>\n",
       "      <td>4</td>\n",
       "    </tr>\n",
       "  </tbody>\n",
       "</table>\n",
       "</div>"
      ],
      "text/plain": [
       "         bikes  pants  watches  glasses\n",
       "store 3     20     30       35        4"
      ]
     },
     "execution_count": 46,
     "metadata": {},
     "output_type": "execute_result"
    }
   ],
   "source": [
    "new_items = [{'bikes': 20, 'pants': 30, 'watches': 35, 'glasses': 4}]\n",
    "new_store = pd.DataFrame(new_items, index = ['store 3'])\n",
    "new_store"
   ]
  },
  {
   "cell_type": "code",
   "execution_count": 47,
   "id": "e2bcd54d",
   "metadata": {},
   "outputs": [
    {
     "name": "stderr",
     "output_type": "stream",
     "text": [
      "C:\\Users\\ashpr\\AppData\\Local\\Temp\\ipykernel_12312\\270667583.py:1: FutureWarning: The frame.append method is deprecated and will be removed from pandas in a future version. Use pandas.concat instead.\n",
      "  store_items = store_items.append(new_store)\n"
     ]
    },
    {
     "data": {
      "text/html": [
       "<div>\n",
       "<style scoped>\n",
       "    .dataframe tbody tr th:only-of-type {\n",
       "        vertical-align: middle;\n",
       "    }\n",
       "\n",
       "    .dataframe tbody tr th {\n",
       "        vertical-align: top;\n",
       "    }\n",
       "\n",
       "    .dataframe thead th {\n",
       "        text-align: right;\n",
       "    }\n",
       "</style>\n",
       "<table border=\"1\" class=\"dataframe\">\n",
       "  <thead>\n",
       "    <tr style=\"text-align: right;\">\n",
       "      <th></th>\n",
       "      <th>bikes</th>\n",
       "      <th>pants</th>\n",
       "      <th>watches</th>\n",
       "      <th>glasses</th>\n",
       "      <th>shirts</th>\n",
       "      <th>suits</th>\n",
       "    </tr>\n",
       "  </thead>\n",
       "  <tbody>\n",
       "    <tr>\n",
       "      <th>store 1</th>\n",
       "      <td>20</td>\n",
       "      <td>30</td>\n",
       "      <td>35</td>\n",
       "      <td>NaN</td>\n",
       "      <td>15.0</td>\n",
       "      <td>45.0</td>\n",
       "    </tr>\n",
       "    <tr>\n",
       "      <th>store 2</th>\n",
       "      <td>15</td>\n",
       "      <td>5</td>\n",
       "      <td>10</td>\n",
       "      <td>50.0</td>\n",
       "      <td>8.0</td>\n",
       "      <td>13.0</td>\n",
       "    </tr>\n",
       "    <tr>\n",
       "      <th>store 3</th>\n",
       "      <td>20</td>\n",
       "      <td>30</td>\n",
       "      <td>35</td>\n",
       "      <td>4.0</td>\n",
       "      <td>NaN</td>\n",
       "      <td>NaN</td>\n",
       "    </tr>\n",
       "  </tbody>\n",
       "</table>\n",
       "</div>"
      ],
      "text/plain": [
       "         bikes  pants  watches  glasses  shirts  suits\n",
       "store 1     20     30       35      NaN    15.0   45.0\n",
       "store 2     15      5       10     50.0     8.0   13.0\n",
       "store 3     20     30       35      4.0     NaN    NaN"
      ]
     },
     "execution_count": 47,
     "metadata": {},
     "output_type": "execute_result"
    }
   ],
   "source": [
    "store_items = store_items.append(new_store)\n",
    "store_items\n",
    "#'append' is outdated and pd.concat() is now used"
   ]
  },
  {
   "cell_type": "code",
   "execution_count": 48,
   "id": "e2e3cb03",
   "metadata": {},
   "outputs": [
    {
     "name": "stdout",
     "output_type": "stream",
     "text": [
      "         bikes  pants  watches  glasses  shirts  suits\n",
      "store 1     20     30       35      NaN    15.0   45.0\n",
      "store 2     15      5       10     50.0     8.0   13.0\n",
      "store 3     20     30       35      4.0     NaN    NaN\n",
      "store 3     20     30       35      4.0     NaN    NaN\n"
     ]
    }
   ],
   "source": [
    "print(pd.concat([store_items, new_store]))"
   ]
  },
  {
   "cell_type": "code",
   "execution_count": 49,
   "id": "c6e9b351",
   "metadata": {},
   "outputs": [
    {
     "data": {
      "text/html": [
       "<div>\n",
       "<style scoped>\n",
       "    .dataframe tbody tr th:only-of-type {\n",
       "        vertical-align: middle;\n",
       "    }\n",
       "\n",
       "    .dataframe tbody tr th {\n",
       "        vertical-align: top;\n",
       "    }\n",
       "\n",
       "    .dataframe thead th {\n",
       "        text-align: right;\n",
       "    }\n",
       "</style>\n",
       "<table border=\"1\" class=\"dataframe\">\n",
       "  <thead>\n",
       "    <tr style=\"text-align: right;\">\n",
       "      <th></th>\n",
       "      <th>bikes</th>\n",
       "      <th>pants</th>\n",
       "      <th>watches</th>\n",
       "      <th>glasses</th>\n",
       "      <th>shirts</th>\n",
       "      <th>suits</th>\n",
       "      <th>new_watches</th>\n",
       "    </tr>\n",
       "  </thead>\n",
       "  <tbody>\n",
       "    <tr>\n",
       "      <th>store 1</th>\n",
       "      <td>20</td>\n",
       "      <td>30</td>\n",
       "      <td>35</td>\n",
       "      <td>NaN</td>\n",
       "      <td>15.0</td>\n",
       "      <td>45.0</td>\n",
       "      <td>NaN</td>\n",
       "    </tr>\n",
       "    <tr>\n",
       "      <th>store 2</th>\n",
       "      <td>15</td>\n",
       "      <td>5</td>\n",
       "      <td>10</td>\n",
       "      <td>50.0</td>\n",
       "      <td>8.0</td>\n",
       "      <td>13.0</td>\n",
       "      <td>10.0</td>\n",
       "    </tr>\n",
       "    <tr>\n",
       "      <th>store 3</th>\n",
       "      <td>20</td>\n",
       "      <td>30</td>\n",
       "      <td>35</td>\n",
       "      <td>4.0</td>\n",
       "      <td>NaN</td>\n",
       "      <td>NaN</td>\n",
       "      <td>35.0</td>\n",
       "    </tr>\n",
       "  </tbody>\n",
       "</table>\n",
       "</div>"
      ],
      "text/plain": [
       "         bikes  pants  watches  glasses  shirts  suits  new_watches\n",
       "store 1     20     30       35      NaN    15.0   45.0          NaN\n",
       "store 2     15      5       10     50.0     8.0   13.0         10.0\n",
       "store 3     20     30       35      4.0     NaN    NaN         35.0"
      ]
     },
     "execution_count": 49,
     "metadata": {},
     "output_type": "execute_result"
    }
   ],
   "source": [
    "store_items['new_watches'] = store_items['watches'][1:]\n",
    "store_items"
   ]
  },
  {
   "cell_type": "code",
   "execution_count": 50,
   "id": "faa19559",
   "metadata": {},
   "outputs": [
    {
     "data": {
      "text/html": [
       "<div>\n",
       "<style scoped>\n",
       "    .dataframe tbody tr th:only-of-type {\n",
       "        vertical-align: middle;\n",
       "    }\n",
       "\n",
       "    .dataframe tbody tr th {\n",
       "        vertical-align: top;\n",
       "    }\n",
       "\n",
       "    .dataframe thead th {\n",
       "        text-align: right;\n",
       "    }\n",
       "</style>\n",
       "<table border=\"1\" class=\"dataframe\">\n",
       "  <thead>\n",
       "    <tr style=\"text-align: right;\">\n",
       "      <th></th>\n",
       "      <th>bikes</th>\n",
       "      <th>pants</th>\n",
       "      <th>watches</th>\n",
       "      <th>glasses</th>\n",
       "      <th>shirts</th>\n",
       "      <th>shoes</th>\n",
       "      <th>suits</th>\n",
       "      <th>new_watches</th>\n",
       "    </tr>\n",
       "  </thead>\n",
       "  <tbody>\n",
       "    <tr>\n",
       "      <th>store 1</th>\n",
       "      <td>20</td>\n",
       "      <td>30</td>\n",
       "      <td>35</td>\n",
       "      <td>NaN</td>\n",
       "      <td>15.0</td>\n",
       "      <td>2</td>\n",
       "      <td>45.0</td>\n",
       "      <td>NaN</td>\n",
       "    </tr>\n",
       "    <tr>\n",
       "      <th>store 2</th>\n",
       "      <td>15</td>\n",
       "      <td>5</td>\n",
       "      <td>10</td>\n",
       "      <td>50.0</td>\n",
       "      <td>8.0</td>\n",
       "      <td>5</td>\n",
       "      <td>13.0</td>\n",
       "      <td>10.0</td>\n",
       "    </tr>\n",
       "    <tr>\n",
       "      <th>store 3</th>\n",
       "      <td>20</td>\n",
       "      <td>30</td>\n",
       "      <td>35</td>\n",
       "      <td>4.0</td>\n",
       "      <td>NaN</td>\n",
       "      <td>0</td>\n",
       "      <td>NaN</td>\n",
       "      <td>35.0</td>\n",
       "    </tr>\n",
       "  </tbody>\n",
       "</table>\n",
       "</div>"
      ],
      "text/plain": [
       "         bikes  pants  watches  glasses  shirts  shoes  suits  new_watches\n",
       "store 1     20     30       35      NaN    15.0      2   45.0          NaN\n",
       "store 2     15      5       10     50.0     8.0      5   13.0         10.0\n",
       "store 3     20     30       35      4.0     NaN      0    NaN         35.0"
      ]
     },
     "execution_count": 50,
     "metadata": {},
     "output_type": "execute_result"
    }
   ],
   "source": [
    "store_items.insert(5, 'shoes', [2, 5, 0])\n",
    "store_items"
   ]
  },
  {
   "cell_type": "markdown",
   "id": "12c0af18",
   "metadata": {},
   "source": [
    "'pop' is used to delete columns, 'drop' is used to delete both rows and columns by making use of the 'axis' keyword"
   ]
  },
  {
   "cell_type": "code",
   "execution_count": 51,
   "id": "096e2289",
   "metadata": {},
   "outputs": [
    {
     "data": {
      "text/html": [
       "<div>\n",
       "<style scoped>\n",
       "    .dataframe tbody tr th:only-of-type {\n",
       "        vertical-align: middle;\n",
       "    }\n",
       "\n",
       "    .dataframe tbody tr th {\n",
       "        vertical-align: top;\n",
       "    }\n",
       "\n",
       "    .dataframe thead th {\n",
       "        text-align: right;\n",
       "    }\n",
       "</style>\n",
       "<table border=\"1\" class=\"dataframe\">\n",
       "  <thead>\n",
       "    <tr style=\"text-align: right;\">\n",
       "      <th></th>\n",
       "      <th>bikes</th>\n",
       "      <th>pants</th>\n",
       "      <th>watches</th>\n",
       "      <th>glasses</th>\n",
       "      <th>socks</th>\n",
       "      <th>shirts</th>\n",
       "      <th>shoes</th>\n",
       "      <th>suits</th>\n",
       "      <th>new_watches</th>\n",
       "    </tr>\n",
       "  </thead>\n",
       "  <tbody>\n",
       "    <tr>\n",
       "      <th>store 1</th>\n",
       "      <td>20</td>\n",
       "      <td>30</td>\n",
       "      <td>35</td>\n",
       "      <td>NaN</td>\n",
       "      <td>13</td>\n",
       "      <td>15.0</td>\n",
       "      <td>2</td>\n",
       "      <td>45.0</td>\n",
       "      <td>NaN</td>\n",
       "    </tr>\n",
       "    <tr>\n",
       "      <th>store 2</th>\n",
       "      <td>15</td>\n",
       "      <td>5</td>\n",
       "      <td>10</td>\n",
       "      <td>50.0</td>\n",
       "      <td>9</td>\n",
       "      <td>8.0</td>\n",
       "      <td>5</td>\n",
       "      <td>13.0</td>\n",
       "      <td>10.0</td>\n",
       "    </tr>\n",
       "    <tr>\n",
       "      <th>store 3</th>\n",
       "      <td>20</td>\n",
       "      <td>30</td>\n",
       "      <td>35</td>\n",
       "      <td>4.0</td>\n",
       "      <td>1</td>\n",
       "      <td>NaN</td>\n",
       "      <td>0</td>\n",
       "      <td>NaN</td>\n",
       "      <td>35.0</td>\n",
       "    </tr>\n",
       "  </tbody>\n",
       "</table>\n",
       "</div>"
      ],
      "text/plain": [
       "         bikes  pants  watches  glasses  socks  shirts  shoes  suits  \\\n",
       "store 1     20     30       35      NaN     13    15.0      2   45.0   \n",
       "store 2     15      5       10     50.0      9     8.0      5   13.0   \n",
       "store 3     20     30       35      4.0      1     NaN      0    NaN   \n",
       "\n",
       "         new_watches  \n",
       "store 1          NaN  \n",
       "store 2         10.0  \n",
       "store 3         35.0  "
      ]
     },
     "execution_count": 51,
     "metadata": {},
     "output_type": "execute_result"
    }
   ],
   "source": [
    "store_items.insert(4, 'socks', [13, 9, 1])\n",
    "store_items"
   ]
  },
  {
   "cell_type": "code",
   "execution_count": 52,
   "id": "e182d705",
   "metadata": {},
   "outputs": [
    {
     "data": {
      "text/html": [
       "<div>\n",
       "<style scoped>\n",
       "    .dataframe tbody tr th:only-of-type {\n",
       "        vertical-align: middle;\n",
       "    }\n",
       "\n",
       "    .dataframe tbody tr th {\n",
       "        vertical-align: top;\n",
       "    }\n",
       "\n",
       "    .dataframe thead th {\n",
       "        text-align: right;\n",
       "    }\n",
       "</style>\n",
       "<table border=\"1\" class=\"dataframe\">\n",
       "  <thead>\n",
       "    <tr style=\"text-align: right;\">\n",
       "      <th></th>\n",
       "      <th>bikes</th>\n",
       "      <th>pants</th>\n",
       "      <th>watches</th>\n",
       "      <th>glasses</th>\n",
       "      <th>socks</th>\n",
       "      <th>shirts</th>\n",
       "      <th>shoes</th>\n",
       "      <th>suits</th>\n",
       "    </tr>\n",
       "  </thead>\n",
       "  <tbody>\n",
       "    <tr>\n",
       "      <th>store 1</th>\n",
       "      <td>20</td>\n",
       "      <td>30</td>\n",
       "      <td>35</td>\n",
       "      <td>NaN</td>\n",
       "      <td>13</td>\n",
       "      <td>15.0</td>\n",
       "      <td>2</td>\n",
       "      <td>45.0</td>\n",
       "    </tr>\n",
       "    <tr>\n",
       "      <th>store 2</th>\n",
       "      <td>15</td>\n",
       "      <td>5</td>\n",
       "      <td>10</td>\n",
       "      <td>50.0</td>\n",
       "      <td>9</td>\n",
       "      <td>8.0</td>\n",
       "      <td>5</td>\n",
       "      <td>13.0</td>\n",
       "    </tr>\n",
       "    <tr>\n",
       "      <th>store 3</th>\n",
       "      <td>20</td>\n",
       "      <td>30</td>\n",
       "      <td>35</td>\n",
       "      <td>4.0</td>\n",
       "      <td>1</td>\n",
       "      <td>NaN</td>\n",
       "      <td>0</td>\n",
       "      <td>NaN</td>\n",
       "    </tr>\n",
       "  </tbody>\n",
       "</table>\n",
       "</div>"
      ],
      "text/plain": [
       "         bikes  pants  watches  glasses  socks  shirts  shoes  suits\n",
       "store 1     20     30       35      NaN     13    15.0      2   45.0\n",
       "store 2     15      5       10     50.0      9     8.0      5   13.0\n",
       "store 3     20     30       35      4.0      1     NaN      0    NaN"
      ]
     },
     "execution_count": 52,
     "metadata": {},
     "output_type": "execute_result"
    }
   ],
   "source": [
    "store_items.pop('new_watches')\n",
    "store_items"
   ]
  },
  {
   "cell_type": "code",
   "execution_count": 53,
   "id": "1f764307",
   "metadata": {},
   "outputs": [
    {
     "data": {
      "text/html": [
       "<div>\n",
       "<style scoped>\n",
       "    .dataframe tbody tr th:only-of-type {\n",
       "        vertical-align: middle;\n",
       "    }\n",
       "\n",
       "    .dataframe tbody tr th {\n",
       "        vertical-align: top;\n",
       "    }\n",
       "\n",
       "    .dataframe thead th {\n",
       "        text-align: right;\n",
       "    }\n",
       "</style>\n",
       "<table border=\"1\" class=\"dataframe\">\n",
       "  <thead>\n",
       "    <tr style=\"text-align: right;\">\n",
       "      <th></th>\n",
       "      <th>bikes</th>\n",
       "      <th>pants</th>\n",
       "      <th>watches</th>\n",
       "      <th>glasses</th>\n",
       "      <th>shirts</th>\n",
       "      <th>shoes</th>\n",
       "      <th>suits</th>\n",
       "    </tr>\n",
       "  </thead>\n",
       "  <tbody>\n",
       "    <tr>\n",
       "      <th>store 1</th>\n",
       "      <td>20</td>\n",
       "      <td>30</td>\n",
       "      <td>35</td>\n",
       "      <td>NaN</td>\n",
       "      <td>15.0</td>\n",
       "      <td>2</td>\n",
       "      <td>45.0</td>\n",
       "    </tr>\n",
       "    <tr>\n",
       "      <th>store 2</th>\n",
       "      <td>15</td>\n",
       "      <td>5</td>\n",
       "      <td>10</td>\n",
       "      <td>50.0</td>\n",
       "      <td>8.0</td>\n",
       "      <td>5</td>\n",
       "      <td>13.0</td>\n",
       "    </tr>\n",
       "    <tr>\n",
       "      <th>store 3</th>\n",
       "      <td>20</td>\n",
       "      <td>30</td>\n",
       "      <td>35</td>\n",
       "      <td>4.0</td>\n",
       "      <td>NaN</td>\n",
       "      <td>0</td>\n",
       "      <td>NaN</td>\n",
       "    </tr>\n",
       "  </tbody>\n",
       "</table>\n",
       "</div>"
      ],
      "text/plain": [
       "         bikes  pants  watches  glasses  shirts  shoes  suits\n",
       "store 1     20     30       35      NaN    15.0      2   45.0\n",
       "store 2     15      5       10     50.0     8.0      5   13.0\n",
       "store 3     20     30       35      4.0     NaN      0    NaN"
      ]
     },
     "execution_count": 53,
     "metadata": {},
     "output_type": "execute_result"
    }
   ],
   "source": [
    "store_items = store_items.drop(['socks'], axis = 1)\n",
    "store_items"
   ]
  },
  {
   "cell_type": "code",
   "execution_count": 54,
   "id": "ed893d85",
   "metadata": {},
   "outputs": [
    {
     "data": {
      "text/html": [
       "<div>\n",
       "<style scoped>\n",
       "    .dataframe tbody tr th:only-of-type {\n",
       "        vertical-align: middle;\n",
       "    }\n",
       "\n",
       "    .dataframe tbody tr th {\n",
       "        vertical-align: top;\n",
       "    }\n",
       "\n",
       "    .dataframe thead th {\n",
       "        text-align: right;\n",
       "    }\n",
       "</style>\n",
       "<table border=\"1\" class=\"dataframe\">\n",
       "  <thead>\n",
       "    <tr style=\"text-align: right;\">\n",
       "      <th></th>\n",
       "      <th>bikes</th>\n",
       "      <th>pants</th>\n",
       "      <th>watches</th>\n",
       "      <th>glasses</th>\n",
       "      <th>shirts</th>\n",
       "      <th>shoes</th>\n",
       "      <th>suits</th>\n",
       "    </tr>\n",
       "  </thead>\n",
       "  <tbody>\n",
       "    <tr>\n",
       "      <th>store 1</th>\n",
       "      <td>20</td>\n",
       "      <td>30</td>\n",
       "      <td>35</td>\n",
       "      <td>NaN</td>\n",
       "      <td>15.0</td>\n",
       "      <td>2</td>\n",
       "      <td>45.0</td>\n",
       "    </tr>\n",
       "    <tr>\n",
       "      <th>store 2</th>\n",
       "      <td>15</td>\n",
       "      <td>5</td>\n",
       "      <td>10</td>\n",
       "      <td>50.0</td>\n",
       "      <td>8.0</td>\n",
       "      <td>5</td>\n",
       "      <td>13.0</td>\n",
       "    </tr>\n",
       "  </tbody>\n",
       "</table>\n",
       "</div>"
      ],
      "text/plain": [
       "         bikes  pants  watches  glasses  shirts  shoes  suits\n",
       "store 1     20     30       35      NaN    15.0      2   45.0\n",
       "store 2     15      5       10     50.0     8.0      5   13.0"
      ]
     },
     "execution_count": 54,
     "metadata": {},
     "output_type": "execute_result"
    }
   ],
   "source": [
    "store_items = store_items.drop(['store 3'], axis = 0)\n",
    "store_items"
   ]
  },
  {
   "cell_type": "code",
   "execution_count": 55,
   "id": "bf1072d6",
   "metadata": {},
   "outputs": [
    {
     "data": {
      "text/html": [
       "<div>\n",
       "<style scoped>\n",
       "    .dataframe tbody tr th:only-of-type {\n",
       "        vertical-align: middle;\n",
       "    }\n",
       "\n",
       "    .dataframe tbody tr th {\n",
       "        vertical-align: top;\n",
       "    }\n",
       "\n",
       "    .dataframe thead th {\n",
       "        text-align: right;\n",
       "    }\n",
       "</style>\n",
       "<table border=\"1\" class=\"dataframe\">\n",
       "  <thead>\n",
       "    <tr style=\"text-align: right;\">\n",
       "      <th></th>\n",
       "      <th>bikes</th>\n",
       "      <th>pants</th>\n",
       "      <th>watches</th>\n",
       "      <th>glasses</th>\n",
       "      <th>shirts</th>\n",
       "      <th>hats</th>\n",
       "      <th>suits</th>\n",
       "    </tr>\n",
       "  </thead>\n",
       "  <tbody>\n",
       "    <tr>\n",
       "      <th>store 1</th>\n",
       "      <td>20</td>\n",
       "      <td>30</td>\n",
       "      <td>35</td>\n",
       "      <td>NaN</td>\n",
       "      <td>15.0</td>\n",
       "      <td>2</td>\n",
       "      <td>45.0</td>\n",
       "    </tr>\n",
       "    <tr>\n",
       "      <th>store 2</th>\n",
       "      <td>15</td>\n",
       "      <td>5</td>\n",
       "      <td>10</td>\n",
       "      <td>50.0</td>\n",
       "      <td>8.0</td>\n",
       "      <td>5</td>\n",
       "      <td>13.0</td>\n",
       "    </tr>\n",
       "  </tbody>\n",
       "</table>\n",
       "</div>"
      ],
      "text/plain": [
       "         bikes  pants  watches  glasses  shirts  hats  suits\n",
       "store 1     20     30       35      NaN    15.0     2   45.0\n",
       "store 2     15      5       10     50.0     8.0     5   13.0"
      ]
     },
     "execution_count": 55,
     "metadata": {},
     "output_type": "execute_result"
    }
   ],
   "source": [
    "# to rename a datafram row/column, use a dict with key as old name, value as new name\n",
    "store_items = store_items.rename(columns = {'shoes': 'hats'})\n",
    "store_items"
   ]
  },
  {
   "cell_type": "code",
   "execution_count": 56,
   "id": "d0a4453d",
   "metadata": {},
   "outputs": [
    {
     "data": {
      "text/html": [
       "<div>\n",
       "<style scoped>\n",
       "    .dataframe tbody tr th:only-of-type {\n",
       "        vertical-align: middle;\n",
       "    }\n",
       "\n",
       "    .dataframe tbody tr th {\n",
       "        vertical-align: top;\n",
       "    }\n",
       "\n",
       "    .dataframe thead th {\n",
       "        text-align: right;\n",
       "    }\n",
       "</style>\n",
       "<table border=\"1\" class=\"dataframe\">\n",
       "  <thead>\n",
       "    <tr style=\"text-align: right;\">\n",
       "      <th></th>\n",
       "      <th>bikes</th>\n",
       "      <th>pants</th>\n",
       "      <th>watches</th>\n",
       "      <th>glasses</th>\n",
       "      <th>shirts</th>\n",
       "      <th>hats</th>\n",
       "      <th>suits</th>\n",
       "    </tr>\n",
       "  </thead>\n",
       "  <tbody>\n",
       "    <tr>\n",
       "      <th>store 1</th>\n",
       "      <td>20</td>\n",
       "      <td>30</td>\n",
       "      <td>35</td>\n",
       "      <td>NaN</td>\n",
       "      <td>15.0</td>\n",
       "      <td>2</td>\n",
       "      <td>45.0</td>\n",
       "    </tr>\n",
       "    <tr>\n",
       "      <th>last store</th>\n",
       "      <td>15</td>\n",
       "      <td>5</td>\n",
       "      <td>10</td>\n",
       "      <td>50.0</td>\n",
       "      <td>8.0</td>\n",
       "      <td>5</td>\n",
       "      <td>13.0</td>\n",
       "    </tr>\n",
       "  </tbody>\n",
       "</table>\n",
       "</div>"
      ],
      "text/plain": [
       "            bikes  pants  watches  glasses  shirts  hats  suits\n",
       "store 1        20     30       35      NaN    15.0     2   45.0\n",
       "last store     15      5       10     50.0     8.0     5   13.0"
      ]
     },
     "execution_count": 56,
     "metadata": {},
     "output_type": "execute_result"
    }
   ],
   "source": [
    "store_items = store_items.rename(index = {'store 2': 'last store'})\n",
    "store_items"
   ]
  },
  {
   "cell_type": "markdown",
   "id": "e7332e5a",
   "metadata": {},
   "source": [
    "# Dealing with NaN\n",
    "NaN stands for \"not a number\" and refers to  missing values in our dataset."
   ]
  },
  {
   "cell_type": "code",
   "execution_count": 57,
   "id": "882d6cee",
   "metadata": {},
   "outputs": [
    {
     "data": {
      "text/html": [
       "<div>\n",
       "<style scoped>\n",
       "    .dataframe tbody tr th:only-of-type {\n",
       "        vertical-align: middle;\n",
       "    }\n",
       "\n",
       "    .dataframe tbody tr th {\n",
       "        vertical-align: top;\n",
       "    }\n",
       "\n",
       "    .dataframe thead th {\n",
       "        text-align: right;\n",
       "    }\n",
       "</style>\n",
       "<table border=\"1\" class=\"dataframe\">\n",
       "  <thead>\n",
       "    <tr style=\"text-align: right;\">\n",
       "      <th></th>\n",
       "      <th>bikes</th>\n",
       "      <th>glasses</th>\n",
       "      <th>pants</th>\n",
       "      <th>shirts</th>\n",
       "      <th>shoes</th>\n",
       "      <th>suits</th>\n",
       "      <th>watches</th>\n",
       "    </tr>\n",
       "  </thead>\n",
       "  <tbody>\n",
       "    <tr>\n",
       "      <th>store 1</th>\n",
       "      <td>20</td>\n",
       "      <td>NaN</td>\n",
       "      <td>30</td>\n",
       "      <td>15.0</td>\n",
       "      <td>8</td>\n",
       "      <td>45.0</td>\n",
       "      <td>35</td>\n",
       "    </tr>\n",
       "    <tr>\n",
       "      <th>store 2</th>\n",
       "      <td>15</td>\n",
       "      <td>50.0</td>\n",
       "      <td>5</td>\n",
       "      <td>2.0</td>\n",
       "      <td>5</td>\n",
       "      <td>7.0</td>\n",
       "      <td>10</td>\n",
       "    </tr>\n",
       "    <tr>\n",
       "      <th>store 3</th>\n",
       "      <td>20</td>\n",
       "      <td>4.0</td>\n",
       "      <td>30</td>\n",
       "      <td>NaN</td>\n",
       "      <td>10</td>\n",
       "      <td>NaN</td>\n",
       "      <td>35</td>\n",
       "    </tr>\n",
       "  </tbody>\n",
       "</table>\n",
       "</div>"
      ],
      "text/plain": [
       "         bikes  glasses  pants  shirts  shoes  suits  watches\n",
       "store 1     20      NaN     30    15.0      8   45.0       35\n",
       "store 2     15     50.0      5     2.0      5    7.0       10\n",
       "store 3     20      4.0     30     NaN     10    NaN       35"
      ]
     },
     "execution_count": 57,
     "metadata": {},
     "output_type": "execute_result"
    }
   ],
   "source": [
    "items = [{'bikes': 20, 'pants': 30, 'watches': 35, 'shirts': 15, 'shoes':8, 'suits':45},\n",
    "{'watches': 10, 'glasses': 50, 'bikes': 15, 'pants':5, 'shirts': 2, 'shoes':5, 'suits':7},\n",
    "{'bikes': 20, 'pants': 30, 'watches': 35, 'glasses': 4, 'shoes':10}]\n",
    "store_items = pd.DataFrame(items, index = ['store 1', 'store 2', 'store 3'])\n",
    "store_items = store_items.sort_index(axis = 1)\n",
    "store_items"
   ]
  },
  {
   "cell_type": "code",
   "execution_count": 58,
   "id": "d510eb49",
   "metadata": {},
   "outputs": [
    {
     "name": "stdout",
     "output_type": "stream",
     "text": [
      "         bikes  glasses  pants  shirts  shoes  suits  watches\n",
      "store 1  False     True  False   False  False  False    False\n",
      "store 2  False    False  False   False  False  False    False\n",
      "store 3  False    False  False    True  False   True    False\n"
     ]
    }
   ],
   "source": [
    "x = store_items.isnull()\n",
    "print(x)"
   ]
  },
  {
   "cell_type": "code",
   "execution_count": 59,
   "id": "ed870534",
   "metadata": {},
   "outputs": [
    {
     "name": "stdout",
     "output_type": "stream",
     "text": [
      "bikes      0\n",
      "glasses    1\n",
      "pants      0\n",
      "shirts     1\n",
      "shoes      0\n",
      "suits      1\n",
      "watches    0\n",
      "dtype: int64\n"
     ]
    }
   ],
   "source": [
    "x = store_items.isnull().sum()\n",
    "print(x)"
   ]
  },
  {
   "cell_type": "code",
   "execution_count": 60,
   "id": "b7f45c86",
   "metadata": {},
   "outputs": [
    {
     "name": "stdout",
     "output_type": "stream",
     "text": [
      "3\n"
     ]
    }
   ],
   "source": [
    "x = store_items.isnull().sum().sum()\n",
    "print(x)"
   ]
  },
  {
   "cell_type": "markdown",
   "id": "9fe9a43d",
   "metadata": {},
   "source": [
    "Use dropna to drop rows/columns with NaN values by specifying the axis (0 for rows, 1 for columns)"
   ]
  },
  {
   "cell_type": "code",
   "execution_count": 61,
   "id": "efd15636",
   "metadata": {},
   "outputs": [
    {
     "data": {
      "text/html": [
       "<div>\n",
       "<style scoped>\n",
       "    .dataframe tbody tr th:only-of-type {\n",
       "        vertical-align: middle;\n",
       "    }\n",
       "\n",
       "    .dataframe tbody tr th {\n",
       "        vertical-align: top;\n",
       "    }\n",
       "\n",
       "    .dataframe thead th {\n",
       "        text-align: right;\n",
       "    }\n",
       "</style>\n",
       "<table border=\"1\" class=\"dataframe\">\n",
       "  <thead>\n",
       "    <tr style=\"text-align: right;\">\n",
       "      <th></th>\n",
       "      <th>bikes</th>\n",
       "      <th>glasses</th>\n",
       "      <th>pants</th>\n",
       "      <th>shirts</th>\n",
       "      <th>shoes</th>\n",
       "      <th>suits</th>\n",
       "      <th>watches</th>\n",
       "    </tr>\n",
       "  </thead>\n",
       "  <tbody>\n",
       "    <tr>\n",
       "      <th>store 2</th>\n",
       "      <td>15</td>\n",
       "      <td>50.0</td>\n",
       "      <td>5</td>\n",
       "      <td>2.0</td>\n",
       "      <td>5</td>\n",
       "      <td>7.0</td>\n",
       "      <td>10</td>\n",
       "    </tr>\n",
       "  </tbody>\n",
       "</table>\n",
       "</div>"
      ],
      "text/plain": [
       "         bikes  glasses  pants  shirts  shoes  suits  watches\n",
       "store 2     15     50.0      5     2.0      5    7.0       10"
      ]
     },
     "execution_count": 61,
     "metadata": {},
     "output_type": "execute_result"
    }
   ],
   "source": [
    "store_items.dropna(axis = 0)"
   ]
  },
  {
   "cell_type": "code",
   "execution_count": 62,
   "id": "01dc7785",
   "metadata": {},
   "outputs": [
    {
     "data": {
      "text/html": [
       "<div>\n",
       "<style scoped>\n",
       "    .dataframe tbody tr th:only-of-type {\n",
       "        vertical-align: middle;\n",
       "    }\n",
       "\n",
       "    .dataframe tbody tr th {\n",
       "        vertical-align: top;\n",
       "    }\n",
       "\n",
       "    .dataframe thead th {\n",
       "        text-align: right;\n",
       "    }\n",
       "</style>\n",
       "<table border=\"1\" class=\"dataframe\">\n",
       "  <thead>\n",
       "    <tr style=\"text-align: right;\">\n",
       "      <th></th>\n",
       "      <th>bikes</th>\n",
       "      <th>pants</th>\n",
       "      <th>shoes</th>\n",
       "      <th>watches</th>\n",
       "    </tr>\n",
       "  </thead>\n",
       "  <tbody>\n",
       "    <tr>\n",
       "      <th>store 1</th>\n",
       "      <td>20</td>\n",
       "      <td>30</td>\n",
       "      <td>8</td>\n",
       "      <td>35</td>\n",
       "    </tr>\n",
       "    <tr>\n",
       "      <th>store 2</th>\n",
       "      <td>15</td>\n",
       "      <td>5</td>\n",
       "      <td>5</td>\n",
       "      <td>10</td>\n",
       "    </tr>\n",
       "    <tr>\n",
       "      <th>store 3</th>\n",
       "      <td>20</td>\n",
       "      <td>30</td>\n",
       "      <td>10</td>\n",
       "      <td>35</td>\n",
       "    </tr>\n",
       "  </tbody>\n",
       "</table>\n",
       "</div>"
      ],
      "text/plain": [
       "         bikes  pants  shoes  watches\n",
       "store 1     20     30      8       35\n",
       "store 2     15      5      5       10\n",
       "store 3     20     30     10       35"
      ]
     },
     "execution_count": 62,
     "metadata": {},
     "output_type": "execute_result"
    }
   ],
   "source": [
    "store_items.dropna(axis = 1)"
   ]
  },
  {
   "cell_type": "markdown",
   "id": "f1572cee",
   "metadata": {},
   "source": [
    "This however does not modify the original dataframe. To do so, make use of the keyword \"inplace\" (inplace = True)"
   ]
  },
  {
   "cell_type": "code",
   "execution_count": 63,
   "id": "e455c72e",
   "metadata": {},
   "outputs": [
    {
     "data": {
      "text/html": [
       "<div>\n",
       "<style scoped>\n",
       "    .dataframe tbody tr th:only-of-type {\n",
       "        vertical-align: middle;\n",
       "    }\n",
       "\n",
       "    .dataframe tbody tr th {\n",
       "        vertical-align: top;\n",
       "    }\n",
       "\n",
       "    .dataframe thead th {\n",
       "        text-align: right;\n",
       "    }\n",
       "</style>\n",
       "<table border=\"1\" class=\"dataframe\">\n",
       "  <thead>\n",
       "    <tr style=\"text-align: right;\">\n",
       "      <th></th>\n",
       "      <th>bikes</th>\n",
       "      <th>glasses</th>\n",
       "      <th>pants</th>\n",
       "      <th>shirts</th>\n",
       "      <th>shoes</th>\n",
       "      <th>suits</th>\n",
       "      <th>watches</th>\n",
       "    </tr>\n",
       "  </thead>\n",
       "  <tbody>\n",
       "    <tr>\n",
       "      <th>store 1</th>\n",
       "      <td>20</td>\n",
       "      <td>0.0</td>\n",
       "      <td>30</td>\n",
       "      <td>15.0</td>\n",
       "      <td>8</td>\n",
       "      <td>45.0</td>\n",
       "      <td>35</td>\n",
       "    </tr>\n",
       "    <tr>\n",
       "      <th>store 2</th>\n",
       "      <td>15</td>\n",
       "      <td>50.0</td>\n",
       "      <td>5</td>\n",
       "      <td>2.0</td>\n",
       "      <td>5</td>\n",
       "      <td>7.0</td>\n",
       "      <td>10</td>\n",
       "    </tr>\n",
       "    <tr>\n",
       "      <th>store 3</th>\n",
       "      <td>20</td>\n",
       "      <td>4.0</td>\n",
       "      <td>30</td>\n",
       "      <td>0.0</td>\n",
       "      <td>10</td>\n",
       "      <td>0.0</td>\n",
       "      <td>35</td>\n",
       "    </tr>\n",
       "  </tbody>\n",
       "</table>\n",
       "</div>"
      ],
      "text/plain": [
       "         bikes  glasses  pants  shirts  shoes  suits  watches\n",
       "store 1     20      0.0     30    15.0      8   45.0       35\n",
       "store 2     15     50.0      5     2.0      5    7.0       10\n",
       "store 3     20      4.0     30     0.0     10    0.0       35"
      ]
     },
     "execution_count": 63,
     "metadata": {},
     "output_type": "execute_result"
    }
   ],
   "source": [
    "store_items.fillna(0)\n",
    "# replace NaN values by a zero"
   ]
  },
  {
   "cell_type": "code",
   "execution_count": 64,
   "id": "5e9b983a",
   "metadata": {},
   "outputs": [
    {
     "data": {
      "text/html": [
       "<div>\n",
       "<style scoped>\n",
       "    .dataframe tbody tr th:only-of-type {\n",
       "        vertical-align: middle;\n",
       "    }\n",
       "\n",
       "    .dataframe tbody tr th {\n",
       "        vertical-align: top;\n",
       "    }\n",
       "\n",
       "    .dataframe thead th {\n",
       "        text-align: right;\n",
       "    }\n",
       "</style>\n",
       "<table border=\"1\" class=\"dataframe\">\n",
       "  <thead>\n",
       "    <tr style=\"text-align: right;\">\n",
       "      <th></th>\n",
       "      <th>bikes</th>\n",
       "      <th>glasses</th>\n",
       "      <th>pants</th>\n",
       "      <th>shirts</th>\n",
       "      <th>shoes</th>\n",
       "      <th>suits</th>\n",
       "      <th>watches</th>\n",
       "    </tr>\n",
       "  </thead>\n",
       "  <tbody>\n",
       "    <tr>\n",
       "      <th>store 1</th>\n",
       "      <td>20</td>\n",
       "      <td>NaN</td>\n",
       "      <td>30</td>\n",
       "      <td>15.0</td>\n",
       "      <td>8</td>\n",
       "      <td>45.0</td>\n",
       "      <td>35</td>\n",
       "    </tr>\n",
       "    <tr>\n",
       "      <th>store 2</th>\n",
       "      <td>15</td>\n",
       "      <td>50.0</td>\n",
       "      <td>5</td>\n",
       "      <td>2.0</td>\n",
       "      <td>5</td>\n",
       "      <td>7.0</td>\n",
       "      <td>10</td>\n",
       "    </tr>\n",
       "    <tr>\n",
       "      <th>store 3</th>\n",
       "      <td>20</td>\n",
       "      <td>4.0</td>\n",
       "      <td>30</td>\n",
       "      <td>NaN</td>\n",
       "      <td>10</td>\n",
       "      <td>NaN</td>\n",
       "      <td>35</td>\n",
       "    </tr>\n",
       "  </tbody>\n",
       "</table>\n",
       "</div>"
      ],
      "text/plain": [
       "         bikes  glasses  pants  shirts  shoes  suits  watches\n",
       "store 1     20      NaN     30    15.0      8   45.0       35\n",
       "store 2     15     50.0      5     2.0      5    7.0       10\n",
       "store 3     20      4.0     30     NaN     10    NaN       35"
      ]
     },
     "execution_count": 64,
     "metadata": {},
     "output_type": "execute_result"
    }
   ],
   "source": [
    "store_items"
   ]
  },
  {
   "cell_type": "markdown",
   "id": "c8a2c123",
   "metadata": {},
   "source": [
    "We can also use 'ffill' or 'backfill' to replace Nan values either by rows or columns.\n",
    "\n",
    "ffill stands for forward fill which replaces the NaN by the vlue in front it.\n",
    "\n",
    "Backfill stands for backward fill which replaces the NaN value by the value after it.\n",
    "\n",
    "We can also use linear interpolation by making use of the  interpolate method to replaace the NaN value.\n",
    "\n",
    "All the methods replace the NaN value without modifying the original dataframe."
   ]
  },
  {
   "cell_type": "code",
   "execution_count": 65,
   "id": "557bfa1a",
   "metadata": {},
   "outputs": [
    {
     "data": {
      "text/html": [
       "<div>\n",
       "<style scoped>\n",
       "    .dataframe tbody tr th:only-of-type {\n",
       "        vertical-align: middle;\n",
       "    }\n",
       "\n",
       "    .dataframe tbody tr th {\n",
       "        vertical-align: top;\n",
       "    }\n",
       "\n",
       "    .dataframe thead th {\n",
       "        text-align: right;\n",
       "    }\n",
       "</style>\n",
       "<table border=\"1\" class=\"dataframe\">\n",
       "  <thead>\n",
       "    <tr style=\"text-align: right;\">\n",
       "      <th></th>\n",
       "      <th>bikes</th>\n",
       "      <th>glasses</th>\n",
       "      <th>pants</th>\n",
       "      <th>shirts</th>\n",
       "      <th>shoes</th>\n",
       "      <th>suits</th>\n",
       "      <th>watches</th>\n",
       "    </tr>\n",
       "  </thead>\n",
       "  <tbody>\n",
       "    <tr>\n",
       "      <th>store 1</th>\n",
       "      <td>20</td>\n",
       "      <td>NaN</td>\n",
       "      <td>30</td>\n",
       "      <td>15.0</td>\n",
       "      <td>8</td>\n",
       "      <td>45.0</td>\n",
       "      <td>35</td>\n",
       "    </tr>\n",
       "    <tr>\n",
       "      <th>store 2</th>\n",
       "      <td>15</td>\n",
       "      <td>50.0</td>\n",
       "      <td>5</td>\n",
       "      <td>2.0</td>\n",
       "      <td>5</td>\n",
       "      <td>7.0</td>\n",
       "      <td>10</td>\n",
       "    </tr>\n",
       "    <tr>\n",
       "      <th>store 3</th>\n",
       "      <td>20</td>\n",
       "      <td>4.0</td>\n",
       "      <td>30</td>\n",
       "      <td>2.0</td>\n",
       "      <td>10</td>\n",
       "      <td>7.0</td>\n",
       "      <td>35</td>\n",
       "    </tr>\n",
       "  </tbody>\n",
       "</table>\n",
       "</div>"
      ],
      "text/plain": [
       "         bikes  glasses  pants  shirts  shoes  suits  watches\n",
       "store 1     20      NaN     30    15.0      8   45.0       35\n",
       "store 2     15     50.0      5     2.0      5    7.0       10\n",
       "store 3     20      4.0     30     2.0     10    7.0       35"
      ]
     },
     "execution_count": 65,
     "metadata": {},
     "output_type": "execute_result"
    }
   ],
   "source": [
    "store_items.fillna(method = 'ffill', axis = 0)\n",
    "\n",
    "# replace NaN values by the value in their preceding row"
   ]
  },
  {
   "cell_type": "code",
   "execution_count": 66,
   "id": "b6731d1d",
   "metadata": {},
   "outputs": [
    {
     "data": {
      "text/html": [
       "<div>\n",
       "<style scoped>\n",
       "    .dataframe tbody tr th:only-of-type {\n",
       "        vertical-align: middle;\n",
       "    }\n",
       "\n",
       "    .dataframe tbody tr th {\n",
       "        vertical-align: top;\n",
       "    }\n",
       "\n",
       "    .dataframe thead th {\n",
       "        text-align: right;\n",
       "    }\n",
       "</style>\n",
       "<table border=\"1\" class=\"dataframe\">\n",
       "  <thead>\n",
       "    <tr style=\"text-align: right;\">\n",
       "      <th></th>\n",
       "      <th>bikes</th>\n",
       "      <th>glasses</th>\n",
       "      <th>pants</th>\n",
       "      <th>shirts</th>\n",
       "      <th>shoes</th>\n",
       "      <th>suits</th>\n",
       "      <th>watches</th>\n",
       "    </tr>\n",
       "  </thead>\n",
       "  <tbody>\n",
       "    <tr>\n",
       "      <th>store 1</th>\n",
       "      <td>20.0</td>\n",
       "      <td>20.0</td>\n",
       "      <td>30.0</td>\n",
       "      <td>15.0</td>\n",
       "      <td>8.0</td>\n",
       "      <td>45.0</td>\n",
       "      <td>35.0</td>\n",
       "    </tr>\n",
       "    <tr>\n",
       "      <th>store 2</th>\n",
       "      <td>15.0</td>\n",
       "      <td>50.0</td>\n",
       "      <td>5.0</td>\n",
       "      <td>2.0</td>\n",
       "      <td>5.0</td>\n",
       "      <td>7.0</td>\n",
       "      <td>10.0</td>\n",
       "    </tr>\n",
       "    <tr>\n",
       "      <th>store 3</th>\n",
       "      <td>20.0</td>\n",
       "      <td>4.0</td>\n",
       "      <td>30.0</td>\n",
       "      <td>30.0</td>\n",
       "      <td>10.0</td>\n",
       "      <td>10.0</td>\n",
       "      <td>35.0</td>\n",
       "    </tr>\n",
       "  </tbody>\n",
       "</table>\n",
       "</div>"
      ],
      "text/plain": [
       "         bikes  glasses  pants  shirts  shoes  suits  watches\n",
       "store 1   20.0     20.0   30.0    15.0    8.0   45.0     35.0\n",
       "store 2   15.0     50.0    5.0     2.0    5.0    7.0     10.0\n",
       "store 3   20.0      4.0   30.0    30.0   10.0   10.0     35.0"
      ]
     },
     "execution_count": 66,
     "metadata": {},
     "output_type": "execute_result"
    }
   ],
   "source": [
    "store_items.fillna(method = 'ffill', axis = 1)\n",
    "# replace NaN values by the value in their preceding column"
   ]
  },
  {
   "cell_type": "code",
   "execution_count": 67,
   "id": "bebae39d",
   "metadata": {},
   "outputs": [
    {
     "data": {
      "text/html": [
       "<div>\n",
       "<style scoped>\n",
       "    .dataframe tbody tr th:only-of-type {\n",
       "        vertical-align: middle;\n",
       "    }\n",
       "\n",
       "    .dataframe tbody tr th {\n",
       "        vertical-align: top;\n",
       "    }\n",
       "\n",
       "    .dataframe thead th {\n",
       "        text-align: right;\n",
       "    }\n",
       "</style>\n",
       "<table border=\"1\" class=\"dataframe\">\n",
       "  <thead>\n",
       "    <tr style=\"text-align: right;\">\n",
       "      <th></th>\n",
       "      <th>bikes</th>\n",
       "      <th>glasses</th>\n",
       "      <th>pants</th>\n",
       "      <th>shirts</th>\n",
       "      <th>shoes</th>\n",
       "      <th>suits</th>\n",
       "      <th>watches</th>\n",
       "    </tr>\n",
       "  </thead>\n",
       "  <tbody>\n",
       "    <tr>\n",
       "      <th>store 1</th>\n",
       "      <td>20</td>\n",
       "      <td>50.0</td>\n",
       "      <td>30</td>\n",
       "      <td>15.0</td>\n",
       "      <td>8</td>\n",
       "      <td>45.0</td>\n",
       "      <td>35</td>\n",
       "    </tr>\n",
       "    <tr>\n",
       "      <th>store 2</th>\n",
       "      <td>15</td>\n",
       "      <td>50.0</td>\n",
       "      <td>5</td>\n",
       "      <td>2.0</td>\n",
       "      <td>5</td>\n",
       "      <td>7.0</td>\n",
       "      <td>10</td>\n",
       "    </tr>\n",
       "    <tr>\n",
       "      <th>store 3</th>\n",
       "      <td>20</td>\n",
       "      <td>4.0</td>\n",
       "      <td>30</td>\n",
       "      <td>NaN</td>\n",
       "      <td>10</td>\n",
       "      <td>NaN</td>\n",
       "      <td>35</td>\n",
       "    </tr>\n",
       "  </tbody>\n",
       "</table>\n",
       "</div>"
      ],
      "text/plain": [
       "         bikes  glasses  pants  shirts  shoes  suits  watches\n",
       "store 1     20     50.0     30    15.0      8   45.0       35\n",
       "store 2     15     50.0      5     2.0      5    7.0       10\n",
       "store 3     20      4.0     30     NaN     10    NaN       35"
      ]
     },
     "execution_count": 67,
     "metadata": {},
     "output_type": "execute_result"
    }
   ],
   "source": [
    "store_items.fillna(method = 'backfill', axis = 0)\n",
    "# replace NaN values by the value in their preceding row"
   ]
  },
  {
   "cell_type": "code",
   "execution_count": 68,
   "id": "8e1adf14",
   "metadata": {},
   "outputs": [
    {
     "data": {
      "text/html": [
       "<div>\n",
       "<style scoped>\n",
       "    .dataframe tbody tr th:only-of-type {\n",
       "        vertical-align: middle;\n",
       "    }\n",
       "\n",
       "    .dataframe tbody tr th {\n",
       "        vertical-align: top;\n",
       "    }\n",
       "\n",
       "    .dataframe thead th {\n",
       "        text-align: right;\n",
       "    }\n",
       "</style>\n",
       "<table border=\"1\" class=\"dataframe\">\n",
       "  <thead>\n",
       "    <tr style=\"text-align: right;\">\n",
       "      <th></th>\n",
       "      <th>bikes</th>\n",
       "      <th>glasses</th>\n",
       "      <th>pants</th>\n",
       "      <th>shirts</th>\n",
       "      <th>shoes</th>\n",
       "      <th>suits</th>\n",
       "      <th>watches</th>\n",
       "    </tr>\n",
       "  </thead>\n",
       "  <tbody>\n",
       "    <tr>\n",
       "      <th>store 1</th>\n",
       "      <td>20.0</td>\n",
       "      <td>30.0</td>\n",
       "      <td>30.0</td>\n",
       "      <td>15.0</td>\n",
       "      <td>8.0</td>\n",
       "      <td>45.0</td>\n",
       "      <td>35.0</td>\n",
       "    </tr>\n",
       "    <tr>\n",
       "      <th>store 2</th>\n",
       "      <td>15.0</td>\n",
       "      <td>50.0</td>\n",
       "      <td>5.0</td>\n",
       "      <td>2.0</td>\n",
       "      <td>5.0</td>\n",
       "      <td>7.0</td>\n",
       "      <td>10.0</td>\n",
       "    </tr>\n",
       "    <tr>\n",
       "      <th>store 3</th>\n",
       "      <td>20.0</td>\n",
       "      <td>4.0</td>\n",
       "      <td>30.0</td>\n",
       "      <td>10.0</td>\n",
       "      <td>10.0</td>\n",
       "      <td>35.0</td>\n",
       "      <td>35.0</td>\n",
       "    </tr>\n",
       "  </tbody>\n",
       "</table>\n",
       "</div>"
      ],
      "text/plain": [
       "         bikes  glasses  pants  shirts  shoes  suits  watches\n",
       "store 1   20.0     30.0   30.0    15.0    8.0   45.0     35.0\n",
       "store 2   15.0     50.0    5.0     2.0    5.0    7.0     10.0\n",
       "store 3   20.0      4.0   30.0    10.0   10.0   35.0     35.0"
      ]
     },
     "execution_count": 68,
     "metadata": {},
     "output_type": "execute_result"
    }
   ],
   "source": [
    "store_items.fillna(method = 'backfill', axis = 1)\n",
    "# replace NaN values by the value in their preceding column"
   ]
  },
  {
   "cell_type": "code",
   "execution_count": 69,
   "id": "2acca98d",
   "metadata": {},
   "outputs": [
    {
     "data": {
      "text/html": [
       "<div>\n",
       "<style scoped>\n",
       "    .dataframe tbody tr th:only-of-type {\n",
       "        vertical-align: middle;\n",
       "    }\n",
       "\n",
       "    .dataframe tbody tr th {\n",
       "        vertical-align: top;\n",
       "    }\n",
       "\n",
       "    .dataframe thead th {\n",
       "        text-align: right;\n",
       "    }\n",
       "</style>\n",
       "<table border=\"1\" class=\"dataframe\">\n",
       "  <thead>\n",
       "    <tr style=\"text-align: right;\">\n",
       "      <th></th>\n",
       "      <th>bikes</th>\n",
       "      <th>glasses</th>\n",
       "      <th>pants</th>\n",
       "      <th>shirts</th>\n",
       "      <th>shoes</th>\n",
       "      <th>suits</th>\n",
       "      <th>watches</th>\n",
       "    </tr>\n",
       "  </thead>\n",
       "  <tbody>\n",
       "    <tr>\n",
       "      <th>store 1</th>\n",
       "      <td>20</td>\n",
       "      <td>NaN</td>\n",
       "      <td>30</td>\n",
       "      <td>15.0</td>\n",
       "      <td>8</td>\n",
       "      <td>45.0</td>\n",
       "      <td>35</td>\n",
       "    </tr>\n",
       "    <tr>\n",
       "      <th>store 2</th>\n",
       "      <td>15</td>\n",
       "      <td>50.0</td>\n",
       "      <td>5</td>\n",
       "      <td>2.0</td>\n",
       "      <td>5</td>\n",
       "      <td>7.0</td>\n",
       "      <td>10</td>\n",
       "    </tr>\n",
       "    <tr>\n",
       "      <th>store 3</th>\n",
       "      <td>20</td>\n",
       "      <td>4.0</td>\n",
       "      <td>30</td>\n",
       "      <td>NaN</td>\n",
       "      <td>10</td>\n",
       "      <td>NaN</td>\n",
       "      <td>35</td>\n",
       "    </tr>\n",
       "  </tbody>\n",
       "</table>\n",
       "</div>"
      ],
      "text/plain": [
       "         bikes  glasses  pants  shirts  shoes  suits  watches\n",
       "store 1     20      NaN     30    15.0      8   45.0       35\n",
       "store 2     15     50.0      5     2.0      5    7.0       10\n",
       "store 3     20      4.0     30     NaN     10    NaN       35"
      ]
     },
     "execution_count": 69,
     "metadata": {},
     "output_type": "execute_result"
    }
   ],
   "source": [
    "store_items"
   ]
  },
  {
   "cell_type": "code",
   "execution_count": 70,
   "id": "146ed001",
   "metadata": {},
   "outputs": [
    {
     "data": {
      "text/html": [
       "<div>\n",
       "<style scoped>\n",
       "    .dataframe tbody tr th:only-of-type {\n",
       "        vertical-align: middle;\n",
       "    }\n",
       "\n",
       "    .dataframe tbody tr th {\n",
       "        vertical-align: top;\n",
       "    }\n",
       "\n",
       "    .dataframe thead th {\n",
       "        text-align: right;\n",
       "    }\n",
       "</style>\n",
       "<table border=\"1\" class=\"dataframe\">\n",
       "  <thead>\n",
       "    <tr style=\"text-align: right;\">\n",
       "      <th></th>\n",
       "      <th>bikes</th>\n",
       "      <th>glasses</th>\n",
       "      <th>pants</th>\n",
       "      <th>shirts</th>\n",
       "      <th>shoes</th>\n",
       "      <th>suits</th>\n",
       "      <th>watches</th>\n",
       "    </tr>\n",
       "  </thead>\n",
       "  <tbody>\n",
       "    <tr>\n",
       "      <th>store 1</th>\n",
       "      <td>20</td>\n",
       "      <td>NaN</td>\n",
       "      <td>30</td>\n",
       "      <td>15.0</td>\n",
       "      <td>8</td>\n",
       "      <td>45.0</td>\n",
       "      <td>35</td>\n",
       "    </tr>\n",
       "    <tr>\n",
       "      <th>store 2</th>\n",
       "      <td>15</td>\n",
       "      <td>50.0</td>\n",
       "      <td>5</td>\n",
       "      <td>2.0</td>\n",
       "      <td>5</td>\n",
       "      <td>7.0</td>\n",
       "      <td>10</td>\n",
       "    </tr>\n",
       "    <tr>\n",
       "      <th>store 3</th>\n",
       "      <td>20</td>\n",
       "      <td>4.0</td>\n",
       "      <td>30</td>\n",
       "      <td>2.0</td>\n",
       "      <td>10</td>\n",
       "      <td>7.0</td>\n",
       "      <td>35</td>\n",
       "    </tr>\n",
       "  </tbody>\n",
       "</table>\n",
       "</div>"
      ],
      "text/plain": [
       "         bikes  glasses  pants  shirts  shoes  suits  watches\n",
       "store 1     20      NaN     30    15.0      8   45.0       35\n",
       "store 2     15     50.0      5     2.0      5    7.0       10\n",
       "store 3     20      4.0     30     2.0     10    7.0       35"
      ]
     },
     "execution_count": 70,
     "metadata": {},
     "output_type": "execute_result"
    }
   ],
   "source": [
    "store_items.interpolate(method=\"linear\", axis = 0)"
   ]
  },
  {
   "cell_type": "markdown",
   "id": "373e99d6",
   "metadata": {},
   "source": [
    "## Sample exercise on pandas dataframe manipulation"
   ]
  },
  {
   "cell_type": "code",
   "execution_count": 71,
   "id": "a5d534c5",
   "metadata": {},
   "outputs": [],
   "source": [
    "import numpy as np"
   ]
  },
  {
   "cell_type": "code",
   "execution_count": 72,
   "id": "9a7b5ee5",
   "metadata": {},
   "outputs": [],
   "source": [
    "books = pd.Series(data = ['Great Expectations', 'Of Mice and Men', 'Romeo and Juliet', 'The Time Machine', 'Alice in Wonderland' ])\n",
    "authors = pd.Series(data = ['Charles Dickens', 'John Steinbeck', 'William Shakespeare', ' H. G. Wells', 'Lewis Carroll' ])\n",
    "user_1 = pd.Series(data = [3.2, np.nan ,2.5])\n",
    "user_2 = pd.Series(data = [5., 1.3, 4.0, 3.8])\n",
    "user_3 = pd.Series(data = [2.0, 2.3, np.nan, 4])\n",
    "user_4 = pd.Series(data = [4, 3.5, 4, 5, 4.2])"
   ]
  },
  {
   "cell_type": "code",
   "execution_count": 73,
   "id": "aed16f8c",
   "metadata": {},
   "outputs": [],
   "source": [
    "dat = {'Book Title' : books, 'Author' : authors, 'User 1' : user_1, 'User 2' : user_2, 'User 3' : user_3, 'User 4' : user_4}"
   ]
  },
  {
   "cell_type": "code",
   "execution_count": 74,
   "id": "cec8e4be",
   "metadata": {},
   "outputs": [],
   "source": [
    "book_ratings = pd.DataFrame(dat)"
   ]
  },
  {
   "cell_type": "code",
   "execution_count": 75,
   "id": "12032166",
   "metadata": {},
   "outputs": [
    {
     "name": "stderr",
     "output_type": "stream",
     "text": [
      "C:\\Users\\ashpr\\AppData\\Local\\Temp\\ipykernel_12312\\125600252.py:1: FutureWarning: Dropping of nuisance columns in DataFrame reductions (with 'numeric_only=None') is deprecated; in a future version this will raise TypeError.  Select only valid columns before calling the reduction.\n",
      "  book_ratings.fillna(book_ratings.mean(), inplace = True)\n"
     ]
    }
   ],
   "source": [
    "book_ratings.fillna(book_ratings.mean(), inplace = True)"
   ]
  },
  {
   "cell_type": "code",
   "execution_count": 76,
   "id": "9217c09c",
   "metadata": {},
   "outputs": [
    {
     "data": {
      "text/html": [
       "<div>\n",
       "<style scoped>\n",
       "    .dataframe tbody tr th:only-of-type {\n",
       "        vertical-align: middle;\n",
       "    }\n",
       "\n",
       "    .dataframe tbody tr th {\n",
       "        vertical-align: top;\n",
       "    }\n",
       "\n",
       "    .dataframe thead th {\n",
       "        text-align: right;\n",
       "    }\n",
       "</style>\n",
       "<table border=\"1\" class=\"dataframe\">\n",
       "  <thead>\n",
       "    <tr style=\"text-align: right;\">\n",
       "      <th></th>\n",
       "      <th>Book Title</th>\n",
       "      <th>Author</th>\n",
       "      <th>User 1</th>\n",
       "      <th>User 2</th>\n",
       "      <th>User 3</th>\n",
       "      <th>User 4</th>\n",
       "    </tr>\n",
       "  </thead>\n",
       "  <tbody>\n",
       "    <tr>\n",
       "      <th>0</th>\n",
       "      <td>Great Expectations</td>\n",
       "      <td>Charles Dickens</td>\n",
       "      <td>3.20</td>\n",
       "      <td>5.000</td>\n",
       "      <td>2.000000</td>\n",
       "      <td>4.0</td>\n",
       "    </tr>\n",
       "    <tr>\n",
       "      <th>1</th>\n",
       "      <td>Of Mice and Men</td>\n",
       "      <td>John Steinbeck</td>\n",
       "      <td>2.85</td>\n",
       "      <td>1.300</td>\n",
       "      <td>2.300000</td>\n",
       "      <td>3.5</td>\n",
       "    </tr>\n",
       "    <tr>\n",
       "      <th>2</th>\n",
       "      <td>Romeo and Juliet</td>\n",
       "      <td>William Shakespeare</td>\n",
       "      <td>2.50</td>\n",
       "      <td>4.000</td>\n",
       "      <td>2.766667</td>\n",
       "      <td>4.0</td>\n",
       "    </tr>\n",
       "    <tr>\n",
       "      <th>3</th>\n",
       "      <td>The Time Machine</td>\n",
       "      <td>H. G. Wells</td>\n",
       "      <td>2.85</td>\n",
       "      <td>3.800</td>\n",
       "      <td>4.000000</td>\n",
       "      <td>5.0</td>\n",
       "    </tr>\n",
       "    <tr>\n",
       "      <th>4</th>\n",
       "      <td>Alice in Wonderland</td>\n",
       "      <td>Lewis Carroll</td>\n",
       "      <td>2.85</td>\n",
       "      <td>3.525</td>\n",
       "      <td>2.766667</td>\n",
       "      <td>4.2</td>\n",
       "    </tr>\n",
       "  </tbody>\n",
       "</table>\n",
       "</div>"
      ],
      "text/plain": [
       "            Book Title               Author  User 1  User 2    User 3  User 4\n",
       "0   Great Expectations      Charles Dickens    3.20   5.000  2.000000     4.0\n",
       "1      Of Mice and Men       John Steinbeck    2.85   1.300  2.300000     3.5\n",
       "2     Romeo and Juliet  William Shakespeare    2.50   4.000  2.766667     4.0\n",
       "3     The Time Machine          H. G. Wells    2.85   3.800  4.000000     5.0\n",
       "4  Alice in Wonderland        Lewis Carroll    2.85   3.525  2.766667     4.2"
      ]
     },
     "execution_count": 76,
     "metadata": {},
     "output_type": "execute_result"
    }
   ],
   "source": [
    "book_ratings"
   ]
  },
  {
   "cell_type": "code",
   "execution_count": 77,
   "id": "545f13cd",
   "metadata": {},
   "outputs": [],
   "source": [
    "best_rated = book_ratings[(book_ratings == 5).any(axis = 1)]['Book Title'].values"
   ]
  },
  {
   "cell_type": "code",
   "execution_count": 78,
   "id": "bb99d97d",
   "metadata": {},
   "outputs": [
    {
     "data": {
      "text/plain": [
       "array(['Great Expectations', 'The Time Machine'], dtype=object)"
      ]
     },
     "execution_count": 78,
     "metadata": {},
     "output_type": "execute_result"
    }
   ],
   "source": [
    "best_rated"
   ]
  },
  {
   "cell_type": "markdown",
   "id": "69b9539e",
   "metadata": {},
   "source": [
    "## Explanation of solution\n",
    "#### Step 1 - Highlight the rows containing a value = 5. \n",
    "This step will replace all values != 5 with NaN in the entire DataFrame. \n",
    "best_rated = book_ratings[(book_ratings == 5)]\n",
    "\n",
    "#### Step 2 - Extract the DataFrame containing only those rows that have a value = 5. \n",
    "best_rated = book_ratings[(book_ratings == 5).any(axis = 1)]\n",
    "\n",
    "#### Step 3 - Find the corresponding Book Title of the rows identified above. \n",
    "#### Returns a numpy.ndarray containing only the Book Titles\n",
    "best_rated = book_ratings[(book_ratings == 5).any(axis = 1)]['Book Title'].values"
   ]
  },
  {
   "cell_type": "markdown",
   "id": "24ef0020",
   "metadata": {},
   "source": [
    "# Loading data into a pandas dataframe\n",
    "We will look at how to load data from another source like a PDF or CSV file into a pandas dataframe where we can analyze the data using pandas tools.\n",
    "\n",
    "The most common format used to load data from external sources into a pandas dataframe"
   ]
  },
  {
   "cell_type": "code",
   "execution_count": 81,
   "id": "7e4aa6c8",
   "metadata": {},
   "outputs": [
    {
     "name": "stdout",
     "output_type": "stream",
     "text": [
      "<class 'pandas.core.frame.DataFrame'>\n",
      "(3313, 7)\n"
     ]
    }
   ],
   "source": [
    "google_stock = pd.read_csv('goog-1.csv')\n",
    "print(type(google_stock))\n",
    "print(google_stock.shape)"
   ]
  },
  {
   "cell_type": "code",
   "execution_count": 82,
   "id": "22c30b9e",
   "metadata": {},
   "outputs": [
    {
     "data": {
      "text/html": [
       "<div>\n",
       "<style scoped>\n",
       "    .dataframe tbody tr th:only-of-type {\n",
       "        vertical-align: middle;\n",
       "    }\n",
       "\n",
       "    .dataframe tbody tr th {\n",
       "        vertical-align: top;\n",
       "    }\n",
       "\n",
       "    .dataframe thead th {\n",
       "        text-align: right;\n",
       "    }\n",
       "</style>\n",
       "<table border=\"1\" class=\"dataframe\">\n",
       "  <thead>\n",
       "    <tr style=\"text-align: right;\">\n",
       "      <th></th>\n",
       "      <th>Date</th>\n",
       "      <th>Open</th>\n",
       "      <th>High</th>\n",
       "      <th>Low</th>\n",
       "      <th>Close</th>\n",
       "      <th>Adj Close</th>\n",
       "      <th>Volume</th>\n",
       "    </tr>\n",
       "  </thead>\n",
       "  <tbody>\n",
       "    <tr>\n",
       "      <th>0</th>\n",
       "      <td>2004-08-19</td>\n",
       "      <td>49.676899</td>\n",
       "      <td>51.693783</td>\n",
       "      <td>47.669952</td>\n",
       "      <td>49.845802</td>\n",
       "      <td>49.845802</td>\n",
       "      <td>44994500</td>\n",
       "    </tr>\n",
       "    <tr>\n",
       "      <th>1</th>\n",
       "      <td>2004-08-20</td>\n",
       "      <td>50.178635</td>\n",
       "      <td>54.187561</td>\n",
       "      <td>49.925285</td>\n",
       "      <td>53.805050</td>\n",
       "      <td>53.805050</td>\n",
       "      <td>23005800</td>\n",
       "    </tr>\n",
       "    <tr>\n",
       "      <th>2</th>\n",
       "      <td>2004-08-23</td>\n",
       "      <td>55.017166</td>\n",
       "      <td>56.373344</td>\n",
       "      <td>54.172661</td>\n",
       "      <td>54.346527</td>\n",
       "      <td>54.346527</td>\n",
       "      <td>18393200</td>\n",
       "    </tr>\n",
       "    <tr>\n",
       "      <th>3</th>\n",
       "      <td>2004-08-24</td>\n",
       "      <td>55.260582</td>\n",
       "      <td>55.439419</td>\n",
       "      <td>51.450363</td>\n",
       "      <td>52.096165</td>\n",
       "      <td>52.096165</td>\n",
       "      <td>15361800</td>\n",
       "    </tr>\n",
       "    <tr>\n",
       "      <th>4</th>\n",
       "      <td>2004-08-25</td>\n",
       "      <td>52.140873</td>\n",
       "      <td>53.651051</td>\n",
       "      <td>51.604362</td>\n",
       "      <td>52.657513</td>\n",
       "      <td>52.657513</td>\n",
       "      <td>9257400</td>\n",
       "    </tr>\n",
       "    <tr>\n",
       "      <th>...</th>\n",
       "      <td>...</td>\n",
       "      <td>...</td>\n",
       "      <td>...</td>\n",
       "      <td>...</td>\n",
       "      <td>...</td>\n",
       "      <td>...</td>\n",
       "      <td>...</td>\n",
       "    </tr>\n",
       "    <tr>\n",
       "      <th>3308</th>\n",
       "      <td>2017-10-09</td>\n",
       "      <td>980.000000</td>\n",
       "      <td>985.424988</td>\n",
       "      <td>976.109985</td>\n",
       "      <td>977.000000</td>\n",
       "      <td>977.000000</td>\n",
       "      <td>891400</td>\n",
       "    </tr>\n",
       "    <tr>\n",
       "      <th>3309</th>\n",
       "      <td>2017-10-10</td>\n",
       "      <td>980.000000</td>\n",
       "      <td>981.570007</td>\n",
       "      <td>966.080017</td>\n",
       "      <td>972.599976</td>\n",
       "      <td>972.599976</td>\n",
       "      <td>968400</td>\n",
       "    </tr>\n",
       "    <tr>\n",
       "      <th>3310</th>\n",
       "      <td>2017-10-11</td>\n",
       "      <td>973.719971</td>\n",
       "      <td>990.710022</td>\n",
       "      <td>972.250000</td>\n",
       "      <td>989.250000</td>\n",
       "      <td>989.250000</td>\n",
       "      <td>1693300</td>\n",
       "    </tr>\n",
       "    <tr>\n",
       "      <th>3311</th>\n",
       "      <td>2017-10-12</td>\n",
       "      <td>987.450012</td>\n",
       "      <td>994.119995</td>\n",
       "      <td>985.000000</td>\n",
       "      <td>987.830017</td>\n",
       "      <td>987.830017</td>\n",
       "      <td>1262400</td>\n",
       "    </tr>\n",
       "    <tr>\n",
       "      <th>3312</th>\n",
       "      <td>2017-10-13</td>\n",
       "      <td>992.000000</td>\n",
       "      <td>997.210022</td>\n",
       "      <td>989.000000</td>\n",
       "      <td>989.679993</td>\n",
       "      <td>989.679993</td>\n",
       "      <td>1157700</td>\n",
       "    </tr>\n",
       "  </tbody>\n",
       "</table>\n",
       "<p>3313 rows × 7 columns</p>\n",
       "</div>"
      ],
      "text/plain": [
       "            Date        Open        High         Low       Close   Adj Close  \\\n",
       "0     2004-08-19   49.676899   51.693783   47.669952   49.845802   49.845802   \n",
       "1     2004-08-20   50.178635   54.187561   49.925285   53.805050   53.805050   \n",
       "2     2004-08-23   55.017166   56.373344   54.172661   54.346527   54.346527   \n",
       "3     2004-08-24   55.260582   55.439419   51.450363   52.096165   52.096165   \n",
       "4     2004-08-25   52.140873   53.651051   51.604362   52.657513   52.657513   \n",
       "...          ...         ...         ...         ...         ...         ...   \n",
       "3308  2017-10-09  980.000000  985.424988  976.109985  977.000000  977.000000   \n",
       "3309  2017-10-10  980.000000  981.570007  966.080017  972.599976  972.599976   \n",
       "3310  2017-10-11  973.719971  990.710022  972.250000  989.250000  989.250000   \n",
       "3311  2017-10-12  987.450012  994.119995  985.000000  987.830017  987.830017   \n",
       "3312  2017-10-13  992.000000  997.210022  989.000000  989.679993  989.679993   \n",
       "\n",
       "        Volume  \n",
       "0     44994500  \n",
       "1     23005800  \n",
       "2     18393200  \n",
       "3     15361800  \n",
       "4      9257400  \n",
       "...        ...  \n",
       "3308    891400  \n",
       "3309    968400  \n",
       "3310   1693300  \n",
       "3311   1262400  \n",
       "3312   1157700  \n",
       "\n",
       "[3313 rows x 7 columns]"
      ]
     },
     "execution_count": 82,
     "metadata": {},
     "output_type": "execute_result"
    }
   ],
   "source": [
    "google_stock"
   ]
  },
  {
   "cell_type": "code",
   "execution_count": 83,
   "id": "2e33dc3b",
   "metadata": {},
   "outputs": [
    {
     "data": {
      "text/html": [
       "<div>\n",
       "<style scoped>\n",
       "    .dataframe tbody tr th:only-of-type {\n",
       "        vertical-align: middle;\n",
       "    }\n",
       "\n",
       "    .dataframe tbody tr th {\n",
       "        vertical-align: top;\n",
       "    }\n",
       "\n",
       "    .dataframe thead th {\n",
       "        text-align: right;\n",
       "    }\n",
       "</style>\n",
       "<table border=\"1\" class=\"dataframe\">\n",
       "  <thead>\n",
       "    <tr style=\"text-align: right;\">\n",
       "      <th></th>\n",
       "      <th>Date</th>\n",
       "      <th>Open</th>\n",
       "      <th>High</th>\n",
       "      <th>Low</th>\n",
       "      <th>Close</th>\n",
       "      <th>Adj Close</th>\n",
       "      <th>Volume</th>\n",
       "    </tr>\n",
       "  </thead>\n",
       "  <tbody>\n",
       "    <tr>\n",
       "      <th>0</th>\n",
       "      <td>2004-08-19</td>\n",
       "      <td>49.676899</td>\n",
       "      <td>51.693783</td>\n",
       "      <td>47.669952</td>\n",
       "      <td>49.845802</td>\n",
       "      <td>49.845802</td>\n",
       "      <td>44994500</td>\n",
       "    </tr>\n",
       "    <tr>\n",
       "      <th>1</th>\n",
       "      <td>2004-08-20</td>\n",
       "      <td>50.178635</td>\n",
       "      <td>54.187561</td>\n",
       "      <td>49.925285</td>\n",
       "      <td>53.805050</td>\n",
       "      <td>53.805050</td>\n",
       "      <td>23005800</td>\n",
       "    </tr>\n",
       "    <tr>\n",
       "      <th>2</th>\n",
       "      <td>2004-08-23</td>\n",
       "      <td>55.017166</td>\n",
       "      <td>56.373344</td>\n",
       "      <td>54.172661</td>\n",
       "      <td>54.346527</td>\n",
       "      <td>54.346527</td>\n",
       "      <td>18393200</td>\n",
       "    </tr>\n",
       "    <tr>\n",
       "      <th>3</th>\n",
       "      <td>2004-08-24</td>\n",
       "      <td>55.260582</td>\n",
       "      <td>55.439419</td>\n",
       "      <td>51.450363</td>\n",
       "      <td>52.096165</td>\n",
       "      <td>52.096165</td>\n",
       "      <td>15361800</td>\n",
       "    </tr>\n",
       "    <tr>\n",
       "      <th>4</th>\n",
       "      <td>2004-08-25</td>\n",
       "      <td>52.140873</td>\n",
       "      <td>53.651051</td>\n",
       "      <td>51.604362</td>\n",
       "      <td>52.657513</td>\n",
       "      <td>52.657513</td>\n",
       "      <td>9257400</td>\n",
       "    </tr>\n",
       "    <tr>\n",
       "      <th>5</th>\n",
       "      <td>2004-08-26</td>\n",
       "      <td>52.135906</td>\n",
       "      <td>53.626213</td>\n",
       "      <td>51.991844</td>\n",
       "      <td>53.606342</td>\n",
       "      <td>53.606342</td>\n",
       "      <td>7148200</td>\n",
       "    </tr>\n",
       "    <tr>\n",
       "      <th>6</th>\n",
       "      <td>2004-08-27</td>\n",
       "      <td>53.700729</td>\n",
       "      <td>53.959049</td>\n",
       "      <td>52.503513</td>\n",
       "      <td>52.732029</td>\n",
       "      <td>52.732029</td>\n",
       "      <td>6258300</td>\n",
       "    </tr>\n",
       "    <tr>\n",
       "      <th>7</th>\n",
       "      <td>2004-08-30</td>\n",
       "      <td>52.299839</td>\n",
       "      <td>52.404160</td>\n",
       "      <td>50.675404</td>\n",
       "      <td>50.675404</td>\n",
       "      <td>50.675404</td>\n",
       "      <td>5235700</td>\n",
       "    </tr>\n",
       "  </tbody>\n",
       "</table>\n",
       "</div>"
      ],
      "text/plain": [
       "         Date       Open       High        Low      Close  Adj Close    Volume\n",
       "0  2004-08-19  49.676899  51.693783  47.669952  49.845802  49.845802  44994500\n",
       "1  2004-08-20  50.178635  54.187561  49.925285  53.805050  53.805050  23005800\n",
       "2  2004-08-23  55.017166  56.373344  54.172661  54.346527  54.346527  18393200\n",
       "3  2004-08-24  55.260582  55.439419  51.450363  52.096165  52.096165  15361800\n",
       "4  2004-08-25  52.140873  53.651051  51.604362  52.657513  52.657513   9257400\n",
       "5  2004-08-26  52.135906  53.626213  51.991844  53.606342  53.606342   7148200\n",
       "6  2004-08-27  53.700729  53.959049  52.503513  52.732029  52.732029   6258300\n",
       "7  2004-08-30  52.299839  52.404160  50.675404  50.675404  50.675404   5235700"
      ]
     },
     "execution_count": 83,
     "metadata": {},
     "output_type": "execute_result"
    }
   ],
   "source": [
    "google_stock.head(8)"
   ]
  },
  {
   "cell_type": "code",
   "execution_count": 84,
   "id": "b5ee60b2",
   "metadata": {},
   "outputs": [
    {
     "data": {
      "text/plain": [
       "Date         False\n",
       "Open         False\n",
       "High         False\n",
       "Low          False\n",
       "Close        False\n",
       "Adj Close    False\n",
       "Volume       False\n",
       "dtype: bool"
      ]
     },
     "execution_count": 84,
     "metadata": {},
     "output_type": "execute_result"
    }
   ],
   "source": [
    "google_stock.isnull().any()"
   ]
  },
  {
   "cell_type": "code",
   "execution_count": 87,
   "id": "76cbc422",
   "metadata": {},
   "outputs": [
    {
     "data": {
      "text/html": [
       "<div>\n",
       "<style scoped>\n",
       "    .dataframe tbody tr th:only-of-type {\n",
       "        vertical-align: middle;\n",
       "    }\n",
       "\n",
       "    .dataframe tbody tr th {\n",
       "        vertical-align: top;\n",
       "    }\n",
       "\n",
       "    .dataframe thead th {\n",
       "        text-align: right;\n",
       "    }\n",
       "</style>\n",
       "<table border=\"1\" class=\"dataframe\">\n",
       "  <thead>\n",
       "    <tr style=\"text-align: right;\">\n",
       "      <th></th>\n",
       "      <th>Open</th>\n",
       "      <th>High</th>\n",
       "      <th>Low</th>\n",
       "      <th>Close</th>\n",
       "      <th>Adj Close</th>\n",
       "      <th>Volume</th>\n",
       "    </tr>\n",
       "  </thead>\n",
       "  <tbody>\n",
       "    <tr>\n",
       "      <th>count</th>\n",
       "      <td>3313.000000</td>\n",
       "      <td>3313.000000</td>\n",
       "      <td>3313.000000</td>\n",
       "      <td>3313.000000</td>\n",
       "      <td>3313.000000</td>\n",
       "      <td>3.313000e+03</td>\n",
       "    </tr>\n",
       "    <tr>\n",
       "      <th>mean</th>\n",
       "      <td>380.186092</td>\n",
       "      <td>383.493740</td>\n",
       "      <td>376.519309</td>\n",
       "      <td>380.072458</td>\n",
       "      <td>380.072458</td>\n",
       "      <td>8.038476e+06</td>\n",
       "    </tr>\n",
       "    <tr>\n",
       "      <th>std</th>\n",
       "      <td>223.818650</td>\n",
       "      <td>224.974534</td>\n",
       "      <td>222.473232</td>\n",
       "      <td>223.853780</td>\n",
       "      <td>223.853780</td>\n",
       "      <td>8.399521e+06</td>\n",
       "    </tr>\n",
       "    <tr>\n",
       "      <th>min</th>\n",
       "      <td>49.274517</td>\n",
       "      <td>50.541279</td>\n",
       "      <td>47.669952</td>\n",
       "      <td>49.681866</td>\n",
       "      <td>49.681866</td>\n",
       "      <td>7.900000e+03</td>\n",
       "    </tr>\n",
       "    <tr>\n",
       "      <th>25%</th>\n",
       "      <td>226.556473</td>\n",
       "      <td>228.394516</td>\n",
       "      <td>224.003082</td>\n",
       "      <td>226.407440</td>\n",
       "      <td>226.407440</td>\n",
       "      <td>2.584900e+06</td>\n",
       "    </tr>\n",
       "    <tr>\n",
       "      <th>50%</th>\n",
       "      <td>293.312286</td>\n",
       "      <td>295.433502</td>\n",
       "      <td>289.929291</td>\n",
       "      <td>293.029114</td>\n",
       "      <td>293.029114</td>\n",
       "      <td>5.281300e+06</td>\n",
       "    </tr>\n",
       "    <tr>\n",
       "      <th>75%</th>\n",
       "      <td>536.650024</td>\n",
       "      <td>540.000000</td>\n",
       "      <td>532.409973</td>\n",
       "      <td>536.690002</td>\n",
       "      <td>536.690002</td>\n",
       "      <td>1.065370e+07</td>\n",
       "    </tr>\n",
       "    <tr>\n",
       "      <th>max</th>\n",
       "      <td>992.000000</td>\n",
       "      <td>997.210022</td>\n",
       "      <td>989.000000</td>\n",
       "      <td>989.679993</td>\n",
       "      <td>989.679993</td>\n",
       "      <td>8.276810e+07</td>\n",
       "    </tr>\n",
       "  </tbody>\n",
       "</table>\n",
       "</div>"
      ],
      "text/plain": [
       "              Open         High          Low        Close    Adj Close  \\\n",
       "count  3313.000000  3313.000000  3313.000000  3313.000000  3313.000000   \n",
       "mean    380.186092   383.493740   376.519309   380.072458   380.072458   \n",
       "std     223.818650   224.974534   222.473232   223.853780   223.853780   \n",
       "min      49.274517    50.541279    47.669952    49.681866    49.681866   \n",
       "25%     226.556473   228.394516   224.003082   226.407440   226.407440   \n",
       "50%     293.312286   295.433502   289.929291   293.029114   293.029114   \n",
       "75%     536.650024   540.000000   532.409973   536.690002   536.690002   \n",
       "max     992.000000   997.210022   989.000000   989.679993   989.679993   \n",
       "\n",
       "             Volume  \n",
       "count  3.313000e+03  \n",
       "mean   8.038476e+06  \n",
       "std    8.399521e+06  \n",
       "min    7.900000e+03  \n",
       "25%    2.584900e+06  \n",
       "50%    5.281300e+06  \n",
       "75%    1.065370e+07  \n",
       "max    8.276810e+07  "
      ]
     },
     "execution_count": 87,
     "metadata": {},
     "output_type": "execute_result"
    }
   ],
   "source": [
    "google_stock.describe()"
   ]
  },
  {
   "cell_type": "code",
   "execution_count": 88,
   "id": "09495863",
   "metadata": {},
   "outputs": [
    {
     "data": {
      "text/plain": [
       "Date         2017-10-13\n",
       "Open              992.0\n",
       "High         997.210022\n",
       "Low               989.0\n",
       "Close        989.679993\n",
       "Adj Close    989.679993\n",
       "Volume         82768100\n",
       "dtype: object"
      ]
     },
     "execution_count": 88,
     "metadata": {},
     "output_type": "execute_result"
    }
   ],
   "source": [
    "google_stock.max()"
   ]
  },
  {
   "cell_type": "code",
   "execution_count": 90,
   "id": "16972ee9",
   "metadata": {},
   "outputs": [
    {
     "data": {
      "text/plain": [
       "count    3313.000000\n",
       "mean      380.072458\n",
       "std       223.853780\n",
       "min        49.681866\n",
       "25%       226.407440\n",
       "50%       293.029114\n",
       "75%       536.690002\n",
       "max       989.679993\n",
       "Name: Adj Close, dtype: float64"
      ]
     },
     "execution_count": 90,
     "metadata": {},
     "output_type": "execute_result"
    }
   ],
   "source": [
    "google_stock['Adj Close'].describe()"
   ]
  },
  {
   "cell_type": "code",
   "execution_count": 91,
   "id": "d67b4be1",
   "metadata": {},
   "outputs": [
    {
     "data": {
      "text/plain": [
       "49.681866"
      ]
     },
     "execution_count": 91,
     "metadata": {},
     "output_type": "execute_result"
    }
   ],
   "source": [
    "google_stock['Close'].min()"
   ]
  },
  {
   "cell_type": "code",
   "execution_count": 92,
   "id": "4888dd4f",
   "metadata": {},
   "outputs": [
    {
     "data": {
      "text/html": [
       "<div>\n",
       "<style scoped>\n",
       "    .dataframe tbody tr th:only-of-type {\n",
       "        vertical-align: middle;\n",
       "    }\n",
       "\n",
       "    .dataframe tbody tr th {\n",
       "        vertical-align: top;\n",
       "    }\n",
       "\n",
       "    .dataframe thead th {\n",
       "        text-align: right;\n",
       "    }\n",
       "</style>\n",
       "<table border=\"1\" class=\"dataframe\">\n",
       "  <thead>\n",
       "    <tr style=\"text-align: right;\">\n",
       "      <th></th>\n",
       "      <th>Open</th>\n",
       "      <th>High</th>\n",
       "      <th>Low</th>\n",
       "      <th>Close</th>\n",
       "      <th>Adj Close</th>\n",
       "      <th>Volume</th>\n",
       "    </tr>\n",
       "  </thead>\n",
       "  <tbody>\n",
       "    <tr>\n",
       "      <th>Open</th>\n",
       "      <td>1.000000</td>\n",
       "      <td>0.999904</td>\n",
       "      <td>0.999845</td>\n",
       "      <td>0.999745</td>\n",
       "      <td>0.999745</td>\n",
       "      <td>-0.564258</td>\n",
       "    </tr>\n",
       "    <tr>\n",
       "      <th>High</th>\n",
       "      <td>0.999904</td>\n",
       "      <td>1.000000</td>\n",
       "      <td>0.999834</td>\n",
       "      <td>0.999868</td>\n",
       "      <td>0.999868</td>\n",
       "      <td>-0.562749</td>\n",
       "    </tr>\n",
       "    <tr>\n",
       "      <th>Low</th>\n",
       "      <td>0.999845</td>\n",
       "      <td>0.999834</td>\n",
       "      <td>1.000000</td>\n",
       "      <td>0.999899</td>\n",
       "      <td>0.999899</td>\n",
       "      <td>-0.567007</td>\n",
       "    </tr>\n",
       "    <tr>\n",
       "      <th>Close</th>\n",
       "      <td>0.999745</td>\n",
       "      <td>0.999868</td>\n",
       "      <td>0.999899</td>\n",
       "      <td>1.000000</td>\n",
       "      <td>1.000000</td>\n",
       "      <td>-0.564967</td>\n",
       "    </tr>\n",
       "    <tr>\n",
       "      <th>Adj Close</th>\n",
       "      <td>0.999745</td>\n",
       "      <td>0.999868</td>\n",
       "      <td>0.999899</td>\n",
       "      <td>1.000000</td>\n",
       "      <td>1.000000</td>\n",
       "      <td>-0.564967</td>\n",
       "    </tr>\n",
       "    <tr>\n",
       "      <th>Volume</th>\n",
       "      <td>-0.564258</td>\n",
       "      <td>-0.562749</td>\n",
       "      <td>-0.567007</td>\n",
       "      <td>-0.564967</td>\n",
       "      <td>-0.564967</td>\n",
       "      <td>1.000000</td>\n",
       "    </tr>\n",
       "  </tbody>\n",
       "</table>\n",
       "</div>"
      ],
      "text/plain": [
       "               Open      High       Low     Close  Adj Close    Volume\n",
       "Open       1.000000  0.999904  0.999845  0.999745   0.999745 -0.564258\n",
       "High       0.999904  1.000000  0.999834  0.999868   0.999868 -0.562749\n",
       "Low        0.999845  0.999834  1.000000  0.999899   0.999899 -0.567007\n",
       "Close      0.999745  0.999868  0.999899  1.000000   1.000000 -0.564967\n",
       "Adj Close  0.999745  0.999868  0.999899  1.000000   1.000000 -0.564967\n",
       "Volume    -0.564258 -0.562749 -0.567007 -0.564967  -0.564967  1.000000"
      ]
     },
     "execution_count": 92,
     "metadata": {},
     "output_type": "execute_result"
    }
   ],
   "source": [
    "google_stock.corr()"
   ]
  },
  {
   "cell_type": "code",
   "execution_count": 93,
   "id": "c8de1fe7",
   "metadata": {},
   "outputs": [
    {
     "data": {
      "text/html": [
       "<div>\n",
       "<style scoped>\n",
       "    .dataframe tbody tr th:only-of-type {\n",
       "        vertical-align: middle;\n",
       "    }\n",
       "\n",
       "    .dataframe tbody tr th {\n",
       "        vertical-align: top;\n",
       "    }\n",
       "\n",
       "    .dataframe thead th {\n",
       "        text-align: right;\n",
       "    }\n",
       "</style>\n",
       "<table border=\"1\" class=\"dataframe\">\n",
       "  <thead>\n",
       "    <tr style=\"text-align: right;\">\n",
       "      <th></th>\n",
       "      <th>Year</th>\n",
       "      <th>Name</th>\n",
       "      <th>Department</th>\n",
       "      <th>Age</th>\n",
       "      <th>Salary</th>\n",
       "    </tr>\n",
       "  </thead>\n",
       "  <tbody>\n",
       "    <tr>\n",
       "      <th>0</th>\n",
       "      <td>1990</td>\n",
       "      <td>Alice</td>\n",
       "      <td>HR</td>\n",
       "      <td>25</td>\n",
       "      <td>50000</td>\n",
       "    </tr>\n",
       "    <tr>\n",
       "      <th>1</th>\n",
       "      <td>1990</td>\n",
       "      <td>Bob</td>\n",
       "      <td>RD</td>\n",
       "      <td>30</td>\n",
       "      <td>48000</td>\n",
       "    </tr>\n",
       "    <tr>\n",
       "      <th>2</th>\n",
       "      <td>1990</td>\n",
       "      <td>Charlie</td>\n",
       "      <td>Admin</td>\n",
       "      <td>45</td>\n",
       "      <td>55000</td>\n",
       "    </tr>\n",
       "    <tr>\n",
       "      <th>3</th>\n",
       "      <td>1991</td>\n",
       "      <td>Dakota</td>\n",
       "      <td>HR</td>\n",
       "      <td>26</td>\n",
       "      <td>52000</td>\n",
       "    </tr>\n",
       "    <tr>\n",
       "      <th>4</th>\n",
       "      <td>1991</td>\n",
       "      <td>Elsa</td>\n",
       "      <td>RD</td>\n",
       "      <td>31</td>\n",
       "      <td>50000</td>\n",
       "    </tr>\n",
       "    <tr>\n",
       "      <th>5</th>\n",
       "      <td>1991</td>\n",
       "      <td>Frank</td>\n",
       "      <td>Admin</td>\n",
       "      <td>46</td>\n",
       "      <td>60000</td>\n",
       "    </tr>\n",
       "    <tr>\n",
       "      <th>6</th>\n",
       "      <td>1992</td>\n",
       "      <td>Grace</td>\n",
       "      <td>Admin</td>\n",
       "      <td>27</td>\n",
       "      <td>60000</td>\n",
       "    </tr>\n",
       "    <tr>\n",
       "      <th>7</th>\n",
       "      <td>1992</td>\n",
       "      <td>Hoffman</td>\n",
       "      <td>RD</td>\n",
       "      <td>32</td>\n",
       "      <td>52000</td>\n",
       "    </tr>\n",
       "    <tr>\n",
       "      <th>8</th>\n",
       "      <td>1992</td>\n",
       "      <td>Inaar</td>\n",
       "      <td>Admin</td>\n",
       "      <td>28</td>\n",
       "      <td>62000</td>\n",
       "    </tr>\n",
       "  </tbody>\n",
       "</table>\n",
       "</div>"
      ],
      "text/plain": [
       "   Year     Name Department  Age  Salary\n",
       "0  1990    Alice         HR   25   50000\n",
       "1  1990      Bob         RD   30   48000\n",
       "2  1990  Charlie      Admin   45   55000\n",
       "3  1991   Dakota         HR   26   52000\n",
       "4  1991     Elsa         RD   31   50000\n",
       "5  1991    Frank      Admin   46   60000\n",
       "6  1992    Grace      Admin   27   60000\n",
       "7  1992  Hoffman         RD   32   52000\n",
       "8  1992    Inaar      Admin   28   62000"
      ]
     },
     "execution_count": 93,
     "metadata": {},
     "output_type": "execute_result"
    }
   ],
   "source": [
    "data = pd.read_csv('fake-company.csv')\n",
    "data"
   ]
  },
  {
   "cell_type": "code",
   "execution_count": 95,
   "id": "958630b6",
   "metadata": {},
   "outputs": [
    {
     "data": {
      "text/plain": [
       "Year\n",
       "1990    153000\n",
       "1991    162000\n",
       "1992    174000\n",
       "Name: Salary, dtype: int64"
      ]
     },
     "execution_count": 95,
     "metadata": {},
     "output_type": "execute_result"
    }
   ],
   "source": [
    "data.groupby(['Year'])['Salary'].sum()"
   ]
  },
  {
   "cell_type": "code",
   "execution_count": 97,
   "id": "8c836f56",
   "metadata": {},
   "outputs": [
    {
     "data": {
      "text/plain": [
       "Name\n",
       "Alice      50000\n",
       "Bob        48000\n",
       "Charlie    55000\n",
       "Dakota     52000\n",
       "Elsa       50000\n",
       "Frank      60000\n",
       "Grace      60000\n",
       "Hoffman    52000\n",
       "Inaar      62000\n",
       "Name: Salary, dtype: int64"
      ]
     },
     "execution_count": 97,
     "metadata": {},
     "output_type": "execute_result"
    }
   ],
   "source": [
    "data.groupby(['Name'])['Salary'].sum()"
   ]
  },
  {
   "cell_type": "code",
   "execution_count": 98,
   "id": "6eda2dc2",
   "metadata": {},
   "outputs": [
    {
     "data": {
      "text/plain": [
       "Year  Department\n",
       "1990  Admin          55000\n",
       "      HR             50000\n",
       "      RD             48000\n",
       "1991  Admin          60000\n",
       "      HR             52000\n",
       "      RD             50000\n",
       "1992  Admin         122000\n",
       "      RD             52000\n",
       "Name: Salary, dtype: int64"
      ]
     },
     "execution_count": 98,
     "metadata": {},
     "output_type": "execute_result"
    }
   ],
   "source": [
    "data.groupby(['Year', 'Department'])['Salary'].sum()"
   ]
  },
  {
   "cell_type": "code",
   "execution_count": null,
   "id": "bd7c2d78",
   "metadata": {},
   "outputs": [],
   "source": []
  }
 ],
 "metadata": {
  "kernelspec": {
   "display_name": "Python 3 (ipykernel)",
   "language": "python",
   "name": "python3"
  },
  "language_info": {
   "codemirror_mode": {
    "name": "ipython",
    "version": 3
   },
   "file_extension": ".py",
   "mimetype": "text/x-python",
   "name": "python",
   "nbconvert_exporter": "python",
   "pygments_lexer": "ipython3",
   "version": "3.9.7"
  }
 },
 "nbformat": 4,
 "nbformat_minor": 5
}
