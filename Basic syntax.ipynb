{
 "cells": [
  {
   "cell_type": "code",
   "execution_count": 6,
   "id": "b0441d3c",
   "metadata": {},
   "outputs": [
    {
     "name": "stdout",
     "output_type": "stream",
     "text": [
      "Hi, How are you doing\n"
     ]
    }
   ],
   "source": [
    "print(\"Hi, How are you doing\")\n"
   ]
  },
  {
   "cell_type": "code",
   "execution_count": 10,
   "id": "04f95877",
   "metadata": {},
   "outputs": [
    {
     "name": "stdout",
     "output_type": "stream",
     "text": [
      "I just printed 10 pages to the printer HP\n"
     ]
    }
   ],
   "source": [
    "x = 10\n",
    "printer = \"HP\"\n",
    "print(\"I just printed %s pages to the printer %s\" %(x, printer))"
   ]
  }
 ],
 "metadata": {
  "kernelspec": {
   "display_name": "Python 3 (ipykernel)",
   "language": "python",
   "name": "python3"
  },
  "language_info": {
   "codemirror_mode": {
    "name": "ipython",
    "version": 3
   },
   "file_extension": ".py",
   "mimetype": "text/x-python",
   "name": "python",
   "nbconvert_exporter": "python",
   "pygments_lexer": "ipython3",
   "version": "3.9.7"
  }
 },
 "nbformat": 4,
 "nbformat_minor": 5
}
