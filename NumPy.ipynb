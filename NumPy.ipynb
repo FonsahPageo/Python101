{
 "cells": [
  {
   "cell_type": "code",
   "execution_count": 1,
   "id": "5330f5ae",
   "metadata": {},
   "outputs": [],
   "source": [
    "#numerical python\n",
    "#python library for perfoming numerical computations effectively and efficiently\n",
    "#built on C lang"
   ]
  },
  {
   "cell_type": "code",
   "execution_count": 2,
   "id": "f52ddd57",
   "metadata": {},
   "outputs": [],
   "source": [
    "import time\n",
    "import numpy as np"
   ]
  },
  {
   "cell_type": "code",
   "execution_count": 3,
   "id": "7e087056",
   "metadata": {},
   "outputs": [],
   "source": [
    "x = np.random.random(100000000) \n",
    "#random model generally generates \n",
    "#x random float numbers between 0 and 1"
   ]
  },
  {
   "cell_type": "code",
   "execution_count": 4,
   "id": "4e3ce5a7",
   "metadata": {},
   "outputs": [
    {
     "name": "stdout",
     "output_type": "stream",
     "text": [
      "13.6609947681427\n"
     ]
    }
   ],
   "source": [
    "start = time.time()\n",
    "sum(x) / len(x)\n",
    "print( time.time() - start) #time used by python for the computation"
   ]
  },
  {
   "cell_type": "code",
   "execution_count": 5,
   "id": "e0ae009c",
   "metadata": {},
   "outputs": [
    {
     "name": "stdout",
     "output_type": "stream",
     "text": [
      "0.14797639846801758\n"
     ]
    }
   ],
   "source": [
    "start = time.time()\n",
    "np.mean(x)\n",
    "print(time.time() - start)"
   ]
  },
  {
   "cell_type": "code",
   "execution_count": 6,
   "id": "2e34b841",
   "metadata": {},
   "outputs": [
    {
     "name": "stdout",
     "output_type": "stream",
     "text": [
      "9\n"
     ]
    }
   ],
   "source": [
    "#generate a random integer \n",
    "from random import randrange\n",
    "print(randrange(10))"
   ]
  },
  {
   "cell_type": "code",
   "execution_count": 7,
   "id": "9ce600af",
   "metadata": {},
   "outputs": [
    {
     "name": "stdout",
     "output_type": "stream",
     "text": [
      "[0.9556383  0.11819176 0.47063939 0.97730676 0.10625489 0.3928015\n",
      " 0.02103791 0.77787713 0.24914857 0.72396498 0.03973844 0.65877313\n",
      " 0.63795742 0.51622964 0.55585529 0.15871932 0.99535056 0.82987133\n",
      " 0.65742741 0.39442865]\n"
     ]
    }
   ],
   "source": [
    "y = np.random.random(20)\n",
    "print(y)"
   ]
  },
  {
   "cell_type": "markdown",
   "id": "97939731",
   "metadata": {},
   "source": [
    "# Creating ndarrays (n-dimensional array) with numpy\n"
   ]
  },
  {
   "cell_type": "code",
   "execution_count": 8,
   "id": "cf253822",
   "metadata": {},
   "outputs": [],
   "source": [
    "#Numpy ndarrays (n-dimensional arrays)\n",
    "import numpy as np\n",
    "x = np.array([1, 2, 3, 4, 5])"
   ]
  },
  {
   "cell_type": "code",
   "execution_count": 9,
   "id": "0442cc27",
   "metadata": {},
   "outputs": [
    {
     "name": "stdout",
     "output_type": "stream",
     "text": [
      "[1 2 3 4 5]\n",
      "<class 'numpy.ndarray'>\n"
     ]
    }
   ],
   "source": [
    "print(x)\n",
    "print(type(x)) #returns the type of element x is"
   ]
  },
  {
   "cell_type": "code",
   "execution_count": 10,
   "id": "82b39d96",
   "metadata": {},
   "outputs": [
    {
     "data": {
      "text/plain": [
       "dtype('int32')"
      ]
     },
     "execution_count": 10,
     "metadata": {},
     "output_type": "execute_result"
    }
   ],
   "source": [
    "x.dtype #returns datatype of elements in x"
   ]
  },
  {
   "cell_type": "code",
   "execution_count": 11,
   "id": "287f03e9",
   "metadata": {},
   "outputs": [
    {
     "data": {
      "text/plain": [
       "(5,)"
      ]
     },
     "execution_count": 11,
     "metadata": {},
     "output_type": "execute_result"
    }
   ],
   "source": [
    "x.shape #returns a tuple represnting the dimension(s) of the array"
   ]
  },
  {
   "cell_type": "code",
   "execution_count": 12,
   "id": "985340e4",
   "metadata": {},
   "outputs": [
    {
     "name": "stdout",
     "output_type": "stream",
     "text": [
      "[[ 1  2  3]\n",
      " [ 4  5  6]\n",
      " [ 7  8  9]\n",
      " [10 11 12]\n",
      " [13 14 15]]\n"
     ]
    }
   ],
   "source": [
    "y = np.array([[1, 2, 3], [4, 5, 6], [7, 8, 9], [10, 11, 12], [13, 14, 15]])\n",
    "print(y)"
   ]
  },
  {
   "cell_type": "code",
   "execution_count": 13,
   "id": "98d01b9a",
   "metadata": {},
   "outputs": [
    {
     "data": {
      "text/plain": [
       "(5, 3)"
      ]
     },
     "execution_count": 13,
     "metadata": {},
     "output_type": "execute_result"
    }
   ],
   "source": [
    "y.shape"
   ]
  },
  {
   "cell_type": "code",
   "execution_count": 14,
   "id": "889867d8",
   "metadata": {},
   "outputs": [
    {
     "data": {
      "text/plain": [
       "15"
      ]
     },
     "execution_count": 14,
     "metadata": {},
     "output_type": "execute_result"
    }
   ],
   "source": [
    "y.size"
   ]
  },
  {
   "cell_type": "code",
   "execution_count": 15,
   "id": "51142d4e",
   "metadata": {},
   "outputs": [
    {
     "name": "stdout",
     "output_type": "stream",
     "text": [
      "['Hello' 'World']\n"
     ]
    }
   ],
   "source": [
    "z = np.array(['Hello', 'World'])\n",
    "print(z)"
   ]
  },
  {
   "cell_type": "code",
   "execution_count": 16,
   "id": "dda8eb1a",
   "metadata": {},
   "outputs": [
    {
     "name": "stdout",
     "output_type": "stream",
     "text": [
      "shape:  (2,)\n",
      "type:  <class 'numpy.ndarray'>\n",
      "dtype:  <U5\n"
     ]
    }
   ],
   "source": [
    "print('shape: ', z.shape)\n",
    "print('type: ', type(z))\n",
    "print('dtype: ', z.dtype)"
   ]
  },
  {
   "cell_type": "code",
   "execution_count": 17,
   "id": "6d0f1f30",
   "metadata": {},
   "outputs": [
    {
     "name": "stdout",
     "output_type": "stream",
     "text": [
      "['1' '2' 'World']\n",
      "shape:  (3,)\n",
      "type:  <class 'numpy.ndarray'>\n",
      "dtype:  <U11\n"
     ]
    }
   ],
   "source": [
    "v = np.array([1, 2, 'World'])\n",
    "print(v)\n",
    "print('shape: ', v.shape)\n",
    "print('type: ', type(v))\n",
    "print('dtype: ', v.dtype)"
   ]
  },
  {
   "cell_type": "code",
   "execution_count": 18,
   "id": "7555f215",
   "metadata": {},
   "outputs": [
    {
     "data": {
      "text/plain": [
       "dtype('<U5')"
      ]
     },
     "execution_count": 18,
     "metadata": {},
     "output_type": "execute_result"
    }
   ],
   "source": [
    "z.dtype"
   ]
  },
  {
   "cell_type": "markdown",
   "id": "8671348c",
   "metadata": {},
   "source": [
    "## Exercise"
   ]
  },
  {
   "cell_type": "code",
   "execution_count": 19,
   "id": "77510e52",
   "metadata": {},
   "outputs": [
    {
     "name": "stdout",
     "output_type": "stream",
     "text": [
      "[[ 2  4  6  8]\n",
      " [10 12 14 16]\n",
      " [18 20 22 24]\n",
      " [26 28 30 32]]\n"
     ]
    }
   ],
   "source": [
    "# create a 4x4 ndarray with consecutive even numbers\n",
    "# from 2 to 32 inclusive\n",
    "X = np.arange(2,34,2).reshape(4,4)\n",
    "print(X)"
   ]
  },
  {
   "cell_type": "code",
   "execution_count": 20,
   "id": "e3f51c89",
   "metadata": {},
   "outputs": [
    {
     "name": "stdout",
     "output_type": "stream",
     "text": [
      "[[ 2.  4.  6.  8.]\n",
      " [10. 12. 14. 16.]\n",
      " [18. 20. 22. 24.]\n",
      " [26. 28. 30. 32.]]\n"
     ]
    }
   ],
   "source": [
    "XX = np.linspace(2, 32, 16).reshape(4,4)\n",
    "print(XX)"
   ]
  },
  {
   "cell_type": "code",
   "execution_count": 21,
   "id": "b779410c",
   "metadata": {},
   "outputs": [
    {
     "name": "stdout",
     "output_type": "stream",
     "text": [
      "[1 2 3 4 5]\n"
     ]
    }
   ],
   "source": [
    "x = np.array([1, 2, 3, 4, 5])\n",
    "print(x)"
   ]
  },
  {
   "cell_type": "markdown",
   "id": "88ea4b61",
   "metadata": {},
   "source": [
    "# Acessing array elements by index"
   ]
  },
  {
   "cell_type": "code",
   "execution_count": 22,
   "id": "c75998c0",
   "metadata": {},
   "outputs": [
    {
     "name": "stdout",
     "output_type": "stream",
     "text": [
      "1st element: 1\n",
      "last element: 5\n"
     ]
    }
   ],
   "source": [
    "print(\"1st element:\", x[0])\n",
    "print(\"last element:\", x[4])"
   ]
  },
  {
   "cell_type": "code",
   "execution_count": 23,
   "id": "3795fc22",
   "metadata": {},
   "outputs": [
    {
     "name": "stdout",
     "output_type": "stream",
     "text": [
      "1st element: 1\n",
      "last element: 5\n"
     ]
    }
   ],
   "source": [
    "print(\"1st element:\", x[-5])\n",
    "print(\"last element:\", x[-1])"
   ]
  },
  {
   "cell_type": "code",
   "execution_count": 24,
   "id": "57eba2d6",
   "metadata": {},
   "outputs": [
    {
     "name": "stdout",
     "output_type": "stream",
     "text": [
      "[3 4 5]\n"
     ]
    }
   ],
   "source": [
    "print(x[-3:])"
   ]
  },
  {
   "cell_type": "code",
   "execution_count": 25,
   "id": "d6ed3bbf",
   "metadata": {},
   "outputs": [
    {
     "name": "stdout",
     "output_type": "stream",
     "text": [
      "[ 1  2  3 20  5]\n"
     ]
    }
   ],
   "source": [
    "x[3] = 20\n",
    "print(x)"
   ]
  },
  {
   "cell_type": "code",
   "execution_count": 26,
   "id": "ccd6ccec",
   "metadata": {},
   "outputs": [
    {
     "name": "stdout",
     "output_type": "stream",
     "text": [
      "[[1 2 3]\n",
      " [4 5 6]\n",
      " [7 8 9]]\n"
     ]
    }
   ],
   "source": [
    "b = np.arange(1, 10).reshape(3, 3)\n",
    "print(b)"
   ]
  },
  {
   "cell_type": "code",
   "execution_count": 27,
   "id": "6ab1a6b7",
   "metadata": {},
   "outputs": [
    {
     "name": "stdout",
     "output_type": "stream",
     "text": [
      "Element at (0, 0): 1\n",
      "Element at (0, 2): 3\n"
     ]
    }
   ],
   "source": [
    "print(\"Element at (0, 0):\", b[0, 0])\n",
    "print(\"Element at (0, 2):\", b[0, 2])"
   ]
  },
  {
   "cell_type": "code",
   "execution_count": 28,
   "id": "3c6241f1",
   "metadata": {},
   "outputs": [
    {
     "name": "stdout",
     "output_type": "stream",
     "text": [
      "[[ 1  2  3]\n",
      " [ 4  5 26]\n",
      " [ 7  8  9]]\n"
     ]
    }
   ],
   "source": [
    "b[1, 2] = 26\n",
    "print(b)"
   ]
  },
  {
   "cell_type": "markdown",
   "id": "8f1782cc",
   "metadata": {},
   "source": [
    "#  Deleting array elements"
   ]
  },
  {
   "cell_type": "code",
   "execution_count": 29,
   "id": "a07124e3",
   "metadata": {},
   "outputs": [
    {
     "name": "stdout",
     "output_type": "stream",
     "text": [
      "[2 3 4]\n"
     ]
    }
   ],
   "source": [
    "c = np.array([1, 2, 3, 4, 5])\n",
    "c = np.delete(c, [0, 4])\n",
    "print(c)"
   ]
  },
  {
   "cell_type": "code",
   "execution_count": 30,
   "id": "3704006c",
   "metadata": {},
   "outputs": [
    {
     "name": "stdout",
     "output_type": "stream",
     "text": [
      "[[4 5 6]\n",
      " [7 8 9]]\n"
     ]
    }
   ],
   "source": [
    "d = np.arange(1, 10).reshape(3, 3)\n",
    "e = np.delete(d, 0, axis = 0)\n",
    "print(e)"
   ]
  },
  {
   "cell_type": "code",
   "execution_count": 31,
   "id": "948b4f8f",
   "metadata": {},
   "outputs": [
    {
     "name": "stdout",
     "output_type": "stream",
     "text": [
      "[[4 6]\n",
      " [7 9]]\n"
     ]
    }
   ],
   "source": [
    "f = np.delete(e, 1, axis = 1)\n",
    "print(f)"
   ]
  },
  {
   "cell_type": "markdown",
   "id": "aac85719",
   "metadata": {},
   "source": [
    "# Appending elements to an array"
   ]
  },
  {
   "cell_type": "code",
   "execution_count": 32,
   "id": "0ea9989c",
   "metadata": {},
   "outputs": [
    {
     "name": "stdout",
     "output_type": "stream",
     "text": [
      "[1 2 3 4 5 6]\n"
     ]
    }
   ],
   "source": [
    "x = np.array([1, 2, 3, 4, 5])\n",
    "x = np.append(x, 6)\n",
    "print(x)"
   ]
  },
  {
   "cell_type": "code",
   "execution_count": 33,
   "id": "920aeba2",
   "metadata": {},
   "outputs": [
    {
     "name": "stdout",
     "output_type": "stream",
     "text": [
      "[1 2 3 4 5 6 7 8 9]\n"
     ]
    }
   ],
   "source": [
    "x = np.append(x, (7, 8, 9))\n",
    "print(x)"
   ]
  },
  {
   "cell_type": "code",
   "execution_count": 34,
   "id": "ff7357a3",
   "metadata": {},
   "outputs": [
    {
     "name": "stdout",
     "output_type": "stream",
     "text": [
      "[[1 2 3]\n",
      " [4 5 6]\n",
      " [7 8 9]]\n"
     ]
    }
   ],
   "source": [
    "y = np.arange(1, 10).reshape(3, 3)\n",
    "print(y)"
   ]
  },
  {
   "cell_type": "code",
   "execution_count": 35,
   "id": "61ffcb0d",
   "metadata": {},
   "outputs": [
    {
     "name": "stdout",
     "output_type": "stream",
     "text": [
      "[[ 1  2  3]\n",
      " [ 4  5  6]\n",
      " [ 7  8  9]\n",
      " [10 11 12]]\n"
     ]
    }
   ],
   "source": [
    "y = np.append(y, [[10, 11, 12]], axis = 0)\n",
    "print(y)"
   ]
  },
  {
   "cell_type": "code",
   "execution_count": 36,
   "id": "90e55e4d",
   "metadata": {},
   "outputs": [
    {
     "name": "stdout",
     "output_type": "stream",
     "text": [
      "[['1' '2' '3' 'a']\n",
      " ['4' '5' '6' 'b']\n",
      " ['7' '8' '9' 'c']\n",
      " ['10' '11' '12' 'd']]\n"
     ]
    }
   ],
   "source": [
    "y = np.append(y, [['a'], ['b'], ['c'], ['d']], axis = 1)\n",
    "print(y)"
   ]
  },
  {
   "cell_type": "markdown",
   "id": "6bf28156",
   "metadata": {},
   "source": [
    "# Inserting elements into an array"
   ]
  },
  {
   "cell_type": "code",
   "execution_count": 37,
   "id": "4db7a0be",
   "metadata": {},
   "outputs": [
    {
     "name": "stdout",
     "output_type": "stream",
     "text": [
      "[ 1  2 98 99  3  4  5]\n"
     ]
    }
   ],
   "source": [
    "a = np.array([1, 2, 3, 4, 5])\n",
    "b = np.insert(a, 2, [98, 99])\n",
    "print(b)"
   ]
  },
  {
   "cell_type": "code",
   "execution_count": 38,
   "id": "2bb61e13",
   "metadata": {},
   "outputs": [
    {
     "name": "stdout",
     "output_type": "stream",
     "text": [
      "[[1 2 3]\n",
      " [4 5 6]\n",
      " [7 8 9]]\n"
     ]
    }
   ],
   "source": [
    "a = np.array([[1, 2, 3], [7, 8, 9]])\n",
    "a = np.insert(a, 1, [4, 5, 6], axis = 0)\n",
    "print(a)"
   ]
  },
  {
   "cell_type": "code",
   "execution_count": 39,
   "id": "b592edfb",
   "metadata": {},
   "outputs": [
    {
     "name": "stdout",
     "output_type": "stream",
     "text": [
      "[[ 1 12  2  3]\n",
      " [ 4 14  5  6]\n",
      " [ 7 15  8  9]]\n"
     ]
    }
   ],
   "source": [
    "a = np.insert(a, 1, [12, 14, 15], axis = 1)\n",
    "print(a)"
   ]
  },
  {
   "cell_type": "markdown",
   "id": "27546d65",
   "metadata": {},
   "source": [
    "# Stacking arrays vertically and horizontally"
   ]
  },
  {
   "cell_type": "code",
   "execution_count": 40,
   "id": "848885fb",
   "metadata": {},
   "outputs": [
    {
     "name": "stdout",
     "output_type": "stream",
     "text": [
      "[[1 2 3]\n",
      " [4 5 6]]\n"
     ]
    }
   ],
   "source": [
    "x = np.array([1, 2, 3])\n",
    "y = np.array([4, 5, 6])\n",
    "z = np.vstack((x, y))\n",
    "print(z)"
   ]
  },
  {
   "cell_type": "code",
   "execution_count": 41,
   "id": "78d78e96",
   "metadata": {},
   "outputs": [
    {
     "name": "stdout",
     "output_type": "stream",
     "text": [
      "[1 2 3 4 5 6]\n"
     ]
    }
   ],
   "source": [
    "k = np.hstack((x, y))\n",
    "print(k)"
   ]
  },
  {
   "cell_type": "markdown",
   "id": "57c7a3bf",
   "metadata": {},
   "source": [
    "# Slicing arrays"
   ]
  },
  {
   "cell_type": "code",
   "execution_count": 42,
   "id": "c018f660",
   "metadata": {},
   "outputs": [
    {
     "name": "stdout",
     "output_type": "stream",
     "text": [
      "[[ 1  2  3  4  5]\n",
      " [ 6  7  8  9 10]\n",
      " [11 12 13 14 15]\n",
      " [16 17 18 19 20]]\n"
     ]
    }
   ],
   "source": [
    "x = np.arange(1, 21).reshape(4, 5)\n",
    "print(x)"
   ]
  },
  {
   "cell_type": "code",
   "execution_count": 43,
   "id": "35cf64ff",
   "metadata": {},
   "outputs": [
    {
     "name": "stdout",
     "output_type": "stream",
     "text": [
      "[[ 8  9 10]\n",
      " [13 14 15]\n",
      " [18 19 20]]\n"
     ]
    }
   ],
   "source": [
    "y = x[1:4, 2:5] \n",
    "#from row 1 to 3, column 2 to 4\n",
    "print(y)"
   ]
  },
  {
   "cell_type": "code",
   "execution_count": 44,
   "id": "45e22edd",
   "metadata": {},
   "outputs": [
    {
     "name": "stdout",
     "output_type": "stream",
     "text": [
      "[[1 2 3]\n",
      " [6 7 8]]\n"
     ]
    }
   ],
   "source": [
    "z = x[:2, :3]\n",
    "# from begining to 2nd row, begining to 3 column\n",
    "print(z)"
   ]
  },
  {
   "cell_type": "code",
   "execution_count": 45,
   "id": "9fec143f",
   "metadata": {},
   "outputs": [
    {
     "name": "stdout",
     "output_type": "stream",
     "text": [
      "[[ 1  2  3]\n",
      " [ 6 39  8]]\n"
     ]
    }
   ],
   "source": [
    "z[1, 1] = 39\n",
    "print(z)"
   ]
  },
  {
   "cell_type": "code",
   "execution_count": 46,
   "id": "6c57dbfe",
   "metadata": {},
   "outputs": [
    {
     "name": "stdout",
     "output_type": "stream",
     "text": [
      "[[ 1  2  3  4  5]\n",
      " [ 6 39  8  9 10]\n",
      " [11 12 13 14 15]\n",
      " [16 17 18 19 20]]\n"
     ]
    }
   ],
   "source": [
    "print(x)"
   ]
  },
  {
   "cell_type": "code",
   "execution_count": 47,
   "id": "b9336294",
   "metadata": {},
   "outputs": [
    {
     "name": "stdout",
     "output_type": "stream",
     "text": [
      "[[ 0  1  2  3  4]\n",
      " [ 5  6  7  8  9]\n",
      " [10 11 12 13 14]\n",
      " [15 16 17 18 19]]\n"
     ]
    }
   ],
   "source": [
    "x = np.arange(20).reshape(4, 5)\n",
    "print(x)"
   ]
  },
  {
   "cell_type": "code",
   "execution_count": 48,
   "id": "25ae2177",
   "metadata": {},
   "outputs": [
    {
     "name": "stdout",
     "output_type": "stream",
     "text": [
      "[[ 7  8  9]\n",
      " [12 13 14]\n",
      " [17 18 19]]\n"
     ]
    }
   ],
   "source": [
    "y = x[1:, 2:].copy()\n",
    "# copy creates a new array whereas normal slicing just creates a representation\n",
    "# of the original array, and a change in the sliced array affects the\n",
    "# original array but that isn't the case when you use copy\n",
    "print(y)"
   ]
  },
  {
   "cell_type": "code",
   "execution_count": 49,
   "id": "ade6ae88",
   "metadata": {},
   "outputs": [
    {
     "name": "stdout",
     "output_type": "stream",
     "text": [
      "[[ 7  8  9]\n",
      " [12 13 14]\n",
      " [17 18 30]]\n"
     ]
    }
   ],
   "source": [
    "y[2, 2] = 30\n",
    "print(y)"
   ]
  },
  {
   "cell_type": "code",
   "execution_count": 50,
   "id": "f24ce5fd",
   "metadata": {},
   "outputs": [
    {
     "name": "stdout",
     "output_type": "stream",
     "text": [
      "[[ 0  1  2  3  4]\n",
      " [ 5  6  7  8  9]\n",
      " [10 11 12 13 14]\n",
      " [15 16 17 18 19]]\n"
     ]
    }
   ],
   "source": [
    "print(x)"
   ]
  },
  {
   "cell_type": "code",
   "execution_count": 51,
   "id": "40678f95",
   "metadata": {},
   "outputs": [
    {
     "name": "stdout",
     "output_type": "stream",
     "text": [
      "[1 3]\n"
     ]
    }
   ],
   "source": [
    "indices = np.array([1, 3])\n",
    "print(indices)"
   ]
  },
  {
   "cell_type": "code",
   "execution_count": 52,
   "id": "02a0194e",
   "metadata": {},
   "outputs": [
    {
     "name": "stdout",
     "output_type": "stream",
     "text": [
      "[[ 5  6  7  8  9]\n",
      " [15 16 17 18 19]]\n"
     ]
    }
   ],
   "source": [
    "y = x[indices, :]\n",
    "print(y)"
   ]
  },
  {
   "cell_type": "code",
   "execution_count": 53,
   "id": "514d6602",
   "metadata": {},
   "outputs": [
    {
     "name": "stdout",
     "output_type": "stream",
     "text": [
      "[[ 1  3]\n",
      " [ 6  8]\n",
      " [11 13]\n",
      " [16 18]]\n"
     ]
    }
   ],
   "source": [
    "z = x[:, indices]\n",
    "print(z)"
   ]
  },
  {
   "cell_type": "code",
   "execution_count": 54,
   "id": "aed05ab1",
   "metadata": {},
   "outputs": [
    {
     "name": "stdout",
     "output_type": "stream",
     "text": [
      "[ 0  6 12 18]\n"
     ]
    }
   ],
   "source": [
    "d = np.diag(x)\n",
    "print(d)"
   ]
  },
  {
   "cell_type": "code",
   "execution_count": 55,
   "id": "726d8642",
   "metadata": {},
   "outputs": [
    {
     "name": "stdout",
     "output_type": "stream",
     "text": [
      "[ 1  7 13 19]\n"
     ]
    }
   ],
   "source": [
    "e = np.diag(x, k = 1)\n",
    "# k is the leading diagonal, at index 0 by default\n",
    "# k = 1 is the diagonal above the leading diagonal\n",
    "print(e)"
   ]
  },
  {
   "cell_type": "code",
   "execution_count": 56,
   "id": "e15c0c46",
   "metadata": {},
   "outputs": [
    {
     "name": "stdout",
     "output_type": "stream",
     "text": [
      "[ 5 11 17]\n"
     ]
    }
   ],
   "source": [
    "f = np.diag(x, k = -1) \n",
    "# k = -1 is the diagonal below the leading diagonal\n",
    "print(f)"
   ]
  },
  {
   "cell_type": "markdown",
   "id": "8bc0a6fa",
   "metadata": {},
   "source": [
    "# Get unique array values\n"
   ]
  },
  {
   "cell_type": "code",
   "execution_count": 57,
   "id": "e2b0264c",
   "metadata": {},
   "outputs": [
    {
     "name": "stdout",
     "output_type": "stream",
     "text": [
      "[1 2 3 5 6 7]\n"
     ]
    }
   ],
   "source": [
    "j = np.array([[1, 2, 3], [5, 2, 6], [7, 3, 5]])\n",
    "print(np.unique(j))\n",
    "# get the elements of the array disregarding repeated values"
   ]
  },
  {
   "cell_type": "markdown",
   "id": "4ca2fdc1",
   "metadata": {},
   "source": [
    "# Boolean indexing, set operations, sorting\n"
   ]
  },
  {
   "cell_type": "code",
   "execution_count": 58,
   "id": "6516824f",
   "metadata": {},
   "outputs": [
    {
     "name": "stdout",
     "output_type": "stream",
     "text": [
      "[[ 0  1  2  3  4]\n",
      " [ 5  6  7  8  9]\n",
      " [10 11 12 13 14]\n",
      " [15 16 17 18 19]\n",
      " [20 21 22 23 24]]\n"
     ]
    }
   ],
   "source": [
    "x = np.arange(25).reshape(5, 5)\n",
    "print(x)"
   ]
  },
  {
   "cell_type": "code",
   "execution_count": 59,
   "id": "647f3485",
   "metadata": {},
   "outputs": [
    {
     "name": "stdout",
     "output_type": "stream",
     "text": [
      "[11 12 13 14 15 16 17 18 19 20 21 22 23 24]\n"
     ]
    }
   ],
   "source": [
    "print(x[x > 10])\n",
    "# prints values in \"x\" greater than 10"
   ]
  },
  {
   "cell_type": "code",
   "execution_count": 60,
   "id": "66047d9d",
   "metadata": {},
   "outputs": [
    {
     "name": "stdout",
     "output_type": "stream",
     "text": [
      "[0 1 2 3 4 5 6]\n"
     ]
    }
   ],
   "source": [
    "print(x[x < 7])\n",
    "# prints values in \"x\" less than 7"
   ]
  },
  {
   "cell_type": "code",
   "execution_count": 61,
   "id": "09229421",
   "metadata": {},
   "outputs": [
    {
     "name": "stdout",
     "output_type": "stream",
     "text": [
      "[11 12 13 14 15 16 17]\n"
     ]
    }
   ],
   "source": [
    "print(x[(x >10) & (x < 18)])"
   ]
  },
  {
   "cell_type": "code",
   "execution_count": 62,
   "id": "4a94c0ef",
   "metadata": {},
   "outputs": [
    {
     "name": "stdout",
     "output_type": "stream",
     "text": [
      "[[ 0  1  2  3  4]\n",
      " [ 5  6  7  8  9]\n",
      " [10 -1 -1 -1 -1]\n",
      " [-1 -1 -1 18 19]\n",
      " [20 21 22 23 24]]\n"
     ]
    }
   ],
   "source": [
    "x[(x >10) & (x < 18)] = -1\n",
    "print(x)"
   ]
  },
  {
   "cell_type": "code",
   "execution_count": 63,
   "id": "802aa481",
   "metadata": {},
   "outputs": [
    {
     "name": "stdout",
     "output_type": "stream",
     "text": [
      "The intersection of a and b is: [1 2]\n",
      "The union of a and b is: [1 2 3 4 5 6 7 9]\n",
      "The difference between a and b is: [3 4 5]\n"
     ]
    }
   ],
   "source": [
    "a = np.array([1, 2, 3, 4, 5])\n",
    "b = np.array([6, 7, 2, 9, 1])\n",
    "print(\"The intersection of a and b is:\", np.intersect1d(a, b))\n",
    "print(\"The union of a and b is:\", np.union1d(a, b))\n",
    "print(\"The difference between a and b is:\", np.setdiff1d(a, b))"
   ]
  },
  {
   "cell_type": "markdown",
   "id": "e653d74e",
   "metadata": {},
   "source": [
    "### List of random integers in a given range\n",
    "njangi = np.random.randint(1, 15, size = 14)\n",
    "print(njangi)"
   ]
  },
  {
   "cell_type": "code",
   "execution_count": 64,
   "id": "07d52577",
   "metadata": {},
   "outputs": [
    {
     "name": "stdout",
     "output_type": "stream",
     "text": [
      "[ 5  7 10  4 10  2  5  8  3  4]\n"
     ]
    }
   ],
   "source": [
    "x = np.random.randint(1, 11, size = (10))\n",
    "print(x)"
   ]
  },
  {
   "cell_type": "code",
   "execution_count": 65,
   "id": "b3736db9",
   "metadata": {},
   "outputs": [
    {
     "name": "stdout",
     "output_type": "stream",
     "text": [
      "[ 2  3  4  4  5  5  7  8 10 10]\n",
      "[ 5  7 10  4 10  2  5  8  3  4]\n"
     ]
    }
   ],
   "source": [
    "print(np.sort(x))\n",
    "print(x)"
   ]
  },
  {
   "cell_type": "code",
   "execution_count": 66,
   "id": "d7c06285",
   "metadata": {},
   "outputs": [
    {
     "name": "stdout",
     "output_type": "stream",
     "text": [
      "[ 2  3  4  5  7  8 10]\n"
     ]
    }
   ],
   "source": [
    "print(np.sort(np.unique(x)))"
   ]
  },
  {
   "cell_type": "code",
   "execution_count": 67,
   "id": "a1e9d383",
   "metadata": {},
   "outputs": [
    {
     "name": "stdout",
     "output_type": "stream",
     "text": [
      "[ 5  7 10  4 10  2  5  8  3  4]\n"
     ]
    }
   ],
   "source": [
    "print(x)"
   ]
  },
  {
   "cell_type": "markdown",
   "id": "bc235895",
   "metadata": {},
   "source": [
    "Using Numpy for sorting does not change the original array\n",
    "Unlike using sort() method which changes the original array\n"
   ]
  },
  {
   "cell_type": "code",
   "execution_count": 68,
   "id": "4784b770",
   "metadata": {},
   "outputs": [
    {
     "name": "stdout",
     "output_type": "stream",
     "text": [
      "[ 2  3  4  4  5  5  7  8 10 10]\n"
     ]
    }
   ],
   "source": [
    "x.sort()\n",
    "print(x)"
   ]
  },
  {
   "cell_type": "code",
   "execution_count": 69,
   "id": "d014952a",
   "metadata": {},
   "outputs": [
    {
     "name": "stdout",
     "output_type": "stream",
     "text": [
      "[[ 7  2  9  6  2]\n",
      " [ 8  2  8  4 10]\n",
      " [ 5  1  8  6  8]\n",
      " [10  8 10  7  6]\n",
      " [10  4  2  8  3]]\n"
     ]
    }
   ],
   "source": [
    "o = np.random.randint(1, 11, size = (5, 5))\n",
    "print(o)"
   ]
  },
  {
   "cell_type": "raw",
   "id": "3cf993a7",
   "metadata": {},
   "source": [
    "print(np.sort(o, axis = 0))"
   ]
  },
  {
   "cell_type": "code",
   "execution_count": 70,
   "id": "62c73825",
   "metadata": {},
   "outputs": [
    {
     "name": "stdout",
     "output_type": "stream",
     "text": [
      "[[ 2  2  6  7  9]\n",
      " [ 2  4  8  8 10]\n",
      " [ 1  5  6  8  8]\n",
      " [ 6  7  8 10 10]\n",
      " [ 2  3  4  8 10]]\n"
     ]
    }
   ],
   "source": [
    "print(np.sort(o, axis = 1))"
   ]
  },
  {
   "cell_type": "code",
   "execution_count": 71,
   "id": "509523fa",
   "metadata": {},
   "outputs": [
    {
     "name": "stdout",
     "output_type": "stream",
     "text": [
      "[[ 1  2  3  4  5]\n",
      " [ 6  7  8  9 10]\n",
      " [11 12 13 14 15]\n",
      " [16 17 18 19 20]\n",
      " [21 22 23 24 25]]\n"
     ]
    }
   ],
   "source": [
    "X = np.arange(1, 26).reshape(5, 5)\n",
    "print(X)"
   ]
  },
  {
   "cell_type": "code",
   "execution_count": 72,
   "id": "1f2a37c9",
   "metadata": {},
   "outputs": [
    {
     "name": "stdout",
     "output_type": "stream",
     "text": [
      "[ 1  3  5  7  9 11 13 15 17 19 21 23 25]\n"
     ]
    }
   ],
   "source": [
    "Y = X[X % 2 != 0]\n",
    "print(Y)"
   ]
  },
  {
   "cell_type": "markdown",
   "id": "9cebca01",
   "metadata": {},
   "source": [
    "# Broadcasting and Arithmetic operations"
   ]
  },
  {
   "cell_type": "code",
   "execution_count": 75,
   "id": "99de17a6",
   "metadata": {},
   "outputs": [
    {
     "name": "stdout",
     "output_type": "stream",
     "text": [
      "[ 6  8 10 12]\n",
      "[ 6  8 10 12]\n"
     ]
    }
   ],
   "source": [
    "x = np.array([1, 2, 3, 4])\n",
    "y = np.array([5, 6, 7, 8])\n",
    "print(x + y)\n",
    "print(np.add(x, y))"
   ]
  },
  {
   "cell_type": "code",
   "execution_count": 77,
   "id": "f6bb710b",
   "metadata": {},
   "outputs": [
    {
     "name": "stdout",
     "output_type": "stream",
     "text": [
      "[4 4 4 4]\n",
      "[4 4 4 4]\n",
      "[ 5 12 21 32]\n",
      "[ 5 12 21 32]\n",
      "[5.         3.         2.33333333 2.        ]\n",
      "[5.         3.         2.33333333 2.        ]\n"
     ]
    }
   ],
   "source": [
    "print(y - x)\n",
    "print(np.subtract(y, x))\n",
    "print(x * y)\n",
    "print(np.multiply(x, y))\n",
    "print(y / x)\n",
    "print(np.divide(y, x))"
   ]
  },
  {
   "cell_type": "code",
   "execution_count": 79,
   "id": "748070cd",
   "metadata": {},
   "outputs": [
    {
     "name": "stdout",
     "output_type": "stream",
     "text": [
      "[1.         1.41421356 1.73205081 2.        ]\n"
     ]
    }
   ],
   "source": [
    "print(np.sqrt(x))"
   ]
  },
  {
   "cell_type": "code",
   "execution_count": 80,
   "id": "f1010f83",
   "metadata": {},
   "outputs": [
    {
     "name": "stdout",
     "output_type": "stream",
     "text": [
      "[ 1  4  9 16]\n"
     ]
    }
   ],
   "source": [
    "print(np.power(x, 2))"
   ]
  },
  {
   "cell_type": "code",
   "execution_count": 82,
   "id": "ee8de527",
   "metadata": {},
   "outputs": [
    {
     "name": "stdout",
     "output_type": "stream",
     "text": [
      "[[1 2]\n",
      " [3 4]]\n"
     ]
    },
    {
     "data": {
      "text/plain": [
       "2.5"
      ]
     },
     "execution_count": 82,
     "metadata": {},
     "output_type": "execute_result"
    }
   ],
   "source": [
    "X = np.arange(1, 5).reshape(2, 2)\n",
    "print(X)\n",
    "X.mean()"
   ]
  },
  {
   "cell_type": "code",
   "execution_count": 87,
   "id": "0a50f492",
   "metadata": {},
   "outputs": [
    {
     "name": "stdout",
     "output_type": "stream",
     "text": [
      "[2. 3.]\n",
      "[1.5 3.5]\n"
     ]
    }
   ],
   "source": [
    "print(X.mean(axis = 0))\n",
    "print(X.mean(axis = 1))"
   ]
  },
  {
   "cell_type": "code",
   "execution_count": 89,
   "id": "27b917ad",
   "metadata": {},
   "outputs": [
    {
     "name": "stdout",
     "output_type": "stream",
     "text": [
      "10\n",
      "[4 6]\n",
      "[3 7]\n"
     ]
    }
   ],
   "source": [
    "print(X.sum())\n",
    "print(X.sum(axis = 0))\n",
    "print(X.sum(axis = 1))"
   ]
  },
  {
   "cell_type": "code",
   "execution_count": 91,
   "id": "99114565",
   "metadata": {},
   "outputs": [
    {
     "data": {
      "text/plain": [
       "1.118033988749895"
      ]
     },
     "execution_count": 91,
     "metadata": {},
     "output_type": "execute_result"
    }
   ],
   "source": [
    "X.std()"
   ]
  },
  {
   "cell_type": "code",
   "execution_count": 92,
   "id": "3d66a46c",
   "metadata": {},
   "outputs": [
    {
     "data": {
      "text/plain": [
       "2.5"
      ]
     },
     "execution_count": 92,
     "metadata": {},
     "output_type": "execute_result"
    }
   ],
   "source": [
    "np.median(X)"
   ]
  },
  {
   "cell_type": "code",
   "execution_count": 93,
   "id": "18a4425f",
   "metadata": {},
   "outputs": [
    {
     "data": {
      "text/plain": [
       "4"
      ]
     },
     "execution_count": 93,
     "metadata": {},
     "output_type": "execute_result"
    }
   ],
   "source": [
    "X.max()\n"
   ]
  },
  {
   "cell_type": "code",
   "execution_count": 94,
   "id": "7f6801b3",
   "metadata": {},
   "outputs": [
    {
     "data": {
      "text/plain": [
       "1"
      ]
     },
     "execution_count": 94,
     "metadata": {},
     "output_type": "execute_result"
    }
   ],
   "source": [
    "x.min()"
   ]
  },
  {
   "cell_type": "code",
   "execution_count": 95,
   "id": "600e1d97",
   "metadata": {},
   "outputs": [
    {
     "name": "stdout",
     "output_type": "stream",
     "text": [
      "[[4 5]\n",
      " [6 7]]\n",
      "[[-2 -1]\n",
      " [ 0  1]]\n",
      "[[ 3  6]\n",
      " [ 9 12]]\n",
      "[[3.   1.5 ]\n",
      " [1.   0.75]]\n"
     ]
    }
   ],
   "source": [
    "print(3 + X)\n",
    "print(X - 3)\n",
    "print(3 * X)\n",
    "print(3 / X)"
   ]
  },
  {
   "cell_type": "code",
   "execution_count": 98,
   "id": "2cc50cf5",
   "metadata": {},
   "outputs": [
    {
     "name": "stdout",
     "output_type": "stream",
     "text": [
      "[[1. 1. 1. 1.]\n",
      " [1. 1. 1. 1.]\n",
      " [1. 1. 1. 1.]\n",
      " [1. 1. 1. 1.]]\n"
     ]
    }
   ],
   "source": [
    "print(np.ones((4, 4)))"
   ]
  },
  {
   "cell_type": "code",
   "execution_count": 99,
   "id": "9b3c7424",
   "metadata": {},
   "outputs": [
    {
     "name": "stdout",
     "output_type": "stream",
     "text": [
      "[1 2 3 4]\n"
     ]
    }
   ],
   "source": [
    "print(np.arange(1, 5))"
   ]
  },
  {
   "cell_type": "code",
   "execution_count": 101,
   "id": "907521ae",
   "metadata": {},
   "outputs": [
    {
     "name": "stdout",
     "output_type": "stream",
     "text": [
      "[[1. 2. 3. 4.]\n",
      " [1. 2. 3. 4.]\n",
      " [1. 2. 3. 4.]\n",
      " [1. 2. 3. 4.]]\n"
     ]
    }
   ],
   "source": [
    "Z = np.ones((4, 4)) * np.arange(1, 5)\n",
    "print(Z)"
   ]
  },
  {
   "cell_type": "code",
   "execution_count": null,
   "id": "1b0e3fd6",
   "metadata": {},
   "outputs": [],
   "source": []
  }
 ],
 "metadata": {
  "kernelspec": {
   "display_name": "Python 3 (ipykernel)",
   "language": "python",
   "name": "python3"
  },
  "language_info": {
   "codemirror_mode": {
    "name": "ipython",
    "version": 3
   },
   "file_extension": ".py",
   "mimetype": "text/x-python",
   "name": "python",
   "nbconvert_exporter": "python",
   "pygments_lexer": "ipython3",
   "version": "3.9.7"
  }
 },
 "nbformat": 4,
 "nbformat_minor": 5
}
