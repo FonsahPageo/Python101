{
 "cells": [
  {
   "cell_type": "code",
   "execution_count": 13,
   "id": "a777cb0d",
   "metadata": {},
   "outputs": [
    {
     "name": "stdout",
     "output_type": "stream",
     "text": [
      "7123.69\n"
     ]
    }
   ],
   "source": [
    "def population_density(population, land_area):\n",
    "    return population / land_area\n",
    "test1 = population_density(864816, 121.4)\n",
    "print(\"%.2f\" % test1)"
   ]
  },
  {
   "cell_type": "code",
   "execution_count": 10,
   "id": "64005e93",
   "metadata": {},
   "outputs": [
    {
     "name": "stdout",
     "output_type": "stream",
     "text": [
      "1 week(s) and 2 day(s)\n"
     ]
    }
   ],
   "source": [
    "def readable_timedelta(days):\n",
    "    weeks = days // 7\n",
    "    remainder = days % 7\n",
    "    simplified = (\"{} week(s) and {} day(s)\".format(weeks , remainder))\n",
    "    return simplified\n",
    "print(readable_timedelta(9))"
   ]
  },
  {
   "cell_type": "code",
   "execution_count": 11,
   "id": "5e2233d0",
   "metadata": {},
   "outputs": [
    {
     "name": "stdout",
     "output_type": "stream",
     "text": [
      "2 weeks and 2 days\n"
     ]
    }
   ],
   "source": [
    "def readable_timedelta(days):\n",
    "    weeks = days // 7\n",
    "    remainder = days % 7\n",
    "    simplified = (\"{} week(s) and {} day(s)\".format(weeks , remainder))\n",
    "    if weeks == 0 and remainder == 1:\n",
    "        simplified = (\"{} day\".format(remainder))\n",
    "    if weeks == 0 and remainder > 1:\n",
    "        simplified = (\"{} days\".format(remainder))\n",
    "    if weeks == 1 and remainder == 0:\n",
    "        simplified = (\"{} week\".format(weeks))\n",
    "    if weeks == 1 and remainder == 1:\n",
    "        simplified = (\"{} week and {} day\".format(weeks , remainder))\n",
    "    if weeks == 1 and remainder > 1:\n",
    "        simplified = (\"{} week and {} days\".format(weeks , remainder))\n",
    "    if weeks > 1 and remainder == 0:\n",
    "        simplified = (\"{} weeks\".format(weeks))\n",
    "    if weeks > 1 and remainder == 1:\n",
    "        simplified = (\"{} weeks and {} day\".format(weeks , remainder))\n",
    "    if weeks > 1 and remainder > 1:\n",
    "        simplified = (\"{} weeks and {} days\".format(weeks , remainder))\n",
    "    return simplified\n",
    "print(readable_timedelta(16))"
   ]
  },
  {
   "cell_type": "code",
   "execution_count": 12,
   "id": "ca569289",
   "metadata": {},
   "outputs": [
    {
     "data": {
      "text/plain": [
       "48.25"
      ]
     },
     "execution_count": 12,
     "metadata": {},
     "output_type": "execute_result"
    }
   ],
   "source": [
    "numbers = [\n",
    "              [34, 63, 88, 71, 29],\n",
    "              [90, 78, 51, 27, 45],\n",
    "              [63, 37, 85, 46, 22],\n",
    "              [51, 22, 34, 11, 18]\n",
    "           ]\n",
    "num_list = []\n",
    "for sublist in numbers:\n",
    "    for num in sublist:\n",
    "        num_list.append(num)\n",
    "# def mean(num_list):\n",
    "#     return sum(num_list) / len(num_list)\n",
    "mean = lambda num_list : sum(num_list) / len(num_list)\n",
    "# print(mean)\n",
    "mean(num_list)"
   ]
  }
 ],
 "metadata": {
  "kernelspec": {
   "display_name": "Python 3 (ipykernel)",
   "language": "python",
   "name": "python3"
  },
  "language_info": {
   "codemirror_mode": {
    "name": "ipython",
    "version": 3
   },
   "file_extension": ".py",
   "mimetype": "text/x-python",
   "name": "python",
   "nbconvert_exporter": "python",
   "pygments_lexer": "ipython3",
   "version": "3.9.7"
  }
 },
 "nbformat": 4,
 "nbformat_minor": 5
}
