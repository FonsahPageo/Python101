{
 "cells": [
  {
   "cell_type": "markdown",
   "id": "f4fa5035",
   "metadata": {},
   "source": [
    "# Pandas\n",
    "Pandas is a python library built on top of Numpy, used for data manipulation and analysis.\n",
    "## Pandas series vs pandas dataframes\n",
    "A pandas series is a 1d array-like object that can hold many data types.\n",
    "Pandas series are mutable"
   ]
  },
  {
   "cell_type": "code",
   "execution_count": 1,
   "id": "de13f1dc",
   "metadata": {},
   "outputs": [],
   "source": [
    "import pandas as pd"
   ]
  },
  {
   "cell_type": "code",
   "execution_count": 21,
   "id": "0b0e44cf",
   "metadata": {},
   "outputs": [
    {
     "data": {
      "text/plain": [
       "eggs       30\n",
       "apples      6\n",
       "milk      Yes\n",
       "bread      No\n",
       "dtype: object"
      ]
     },
     "execution_count": 21,
     "metadata": {},
     "output_type": "execute_result"
    }
   ],
   "source": [
    "#creating a pandas series\n",
    "groceries = pd.Series(data = [30, 6, 'Yes', 'No'], index = ['eggs', 'apples', 'milk', 'bread'])\n",
    "groceries"
   ]
  },
  {
   "cell_type": "code",
   "execution_count": 22,
   "id": "337458b6",
   "metadata": {},
   "outputs": [
    {
     "name": "stdout",
     "output_type": "stream",
     "text": [
      "Groceries has shape: (4,)\n",
      "Groceries has dimension: 1\n",
      "Groceries has a total of: 4 elements\n"
     ]
    }
   ],
   "source": [
    "print(\"Groceries has shape:\", groceries.shape)\n",
    "print(\"Groceries has dimension:\", groceries.ndim)\n",
    "print(\"Groceries has a total of:\", groceries.size, \"elements\")"
   ]
  },
  {
   "cell_type": "code",
   "execution_count": 23,
   "id": "d680873d",
   "metadata": {},
   "outputs": [
    {
     "data": {
      "text/plain": [
       "False"
      ]
     },
     "execution_count": 23,
     "metadata": {},
     "output_type": "execute_result"
    }
   ],
   "source": [
    "'bananas' in groceries"
   ]
  },
  {
   "cell_type": "code",
   "execution_count": 24,
   "id": "cfa94117",
   "metadata": {},
   "outputs": [
    {
     "data": {
      "text/plain": [
       "True"
      ]
     },
     "execution_count": 24,
     "metadata": {},
     "output_type": "execute_result"
    }
   ],
   "source": [
    "'bread' in groceries"
   ]
  },
  {
   "cell_type": "markdown",
   "id": "bfddca93",
   "metadata": {},
   "source": [
    "## Accessing and deleting elements in Pandas Series"
   ]
  },
  {
   "cell_type": "code",
   "execution_count": 25,
   "id": "9fbacfa6",
   "metadata": {},
   "outputs": [
    {
     "data": {
      "text/plain": [
       "30"
      ]
     },
     "execution_count": 25,
     "metadata": {},
     "output_type": "execute_result"
    }
   ],
   "source": [
    "groceries['eggs']"
   ]
  },
  {
   "cell_type": "code",
   "execution_count": 26,
   "id": "5cc6f8e1",
   "metadata": {
    "scrolled": false
   },
   "outputs": [
    {
     "data": {
      "text/plain": [
       "eggs     30\n",
       "milk    Yes\n",
       "dtype: object"
      ]
     },
     "execution_count": 26,
     "metadata": {},
     "output_type": "execute_result"
    }
   ],
   "source": [
    "groceries[['eggs', 'milk']]"
   ]
  },
  {
   "cell_type": "code",
   "execution_count": 27,
   "id": "0fa5fb3f",
   "metadata": {},
   "outputs": [
    {
     "data": {
      "text/plain": [
       "30"
      ]
     },
     "execution_count": 27,
     "metadata": {},
     "output_type": "execute_result"
    }
   ],
   "source": [
    "groceries[0]"
   ]
  },
  {
   "cell_type": "code",
   "execution_count": 28,
   "id": "0fe4f2f0",
   "metadata": {},
   "outputs": [
    {
     "data": {
      "text/plain": [
       "'No'"
      ]
     },
     "execution_count": 28,
     "metadata": {},
     "output_type": "execute_result"
    }
   ],
   "source": [
    "groceries[3]"
   ]
  },
  {
   "cell_type": "code",
   "execution_count": 29,
   "id": "a44e4ba6",
   "metadata": {},
   "outputs": [
    {
     "data": {
      "text/plain": [
       "eggs       12\n",
       "apples      6\n",
       "milk      Yes\n",
       "bread      No\n",
       "dtype: object"
      ]
     },
     "execution_count": 29,
     "metadata": {},
     "output_type": "execute_result"
    }
   ],
   "source": [
    "groceries['eggs'] = 12\n",
    "groceries"
   ]
  },
  {
   "cell_type": "code",
   "execution_count": 30,
   "id": "b48cf6d1",
   "metadata": {},
   "outputs": [
    {
     "data": {
      "text/plain": [
       "eggs      12\n",
       "milk     Yes\n",
       "bread     No\n",
       "dtype: object"
      ]
     },
     "execution_count": 30,
     "metadata": {},
     "output_type": "execute_result"
    }
   ],
   "source": [
    "groceries.drop('apples')\n",
    "# returns a modified version of the series without changing it"
   ]
  },
  {
   "cell_type": "code",
   "execution_count": 31,
   "id": "fb69bf29",
   "metadata": {},
   "outputs": [
    {
     "data": {
      "text/plain": [
       "eggs       12\n",
       "apples      6\n",
       "milk      Yes\n",
       "bread      No\n",
       "dtype: object"
      ]
     },
     "execution_count": 31,
     "metadata": {},
     "output_type": "execute_result"
    }
   ],
   "source": [
    "groceries"
   ]
  },
  {
   "cell_type": "code",
   "execution_count": 32,
   "id": "9e51162a",
   "metadata": {},
   "outputs": [
    {
     "data": {
      "text/plain": [
       "eggs      12\n",
       "milk     Yes\n",
       "bread     No\n",
       "dtype: object"
      ]
     },
     "execution_count": 32,
     "metadata": {},
     "output_type": "execute_result"
    }
   ],
   "source": [
    "groceries.drop('apples', inplace = True)\n",
    "# deletes the element and modifies the series\n",
    "groceries"
   ]
  },
  {
   "cell_type": "markdown",
   "id": "d219e684",
   "metadata": {},
   "source": [
    "# Arithmetic operations on Pandas Series"
   ]
  },
  {
   "cell_type": "code",
   "execution_count": 33,
   "id": "a07a01e3",
   "metadata": {},
   "outputs": [
    {
     "data": {
      "text/plain": [
       "apples     10\n",
       "oranges     6\n",
       "bananas     3\n",
       "dtype: int64"
      ]
     },
     "execution_count": 33,
     "metadata": {},
     "output_type": "execute_result"
    }
   ],
   "source": [
    "fruits = pd.Series([10, 6, 3], ['apples', 'oranges', 'bananas'])\n",
    "fruits"
   ]
  },
  {
   "cell_type": "code",
   "execution_count": 37,
   "id": "d1391452",
   "metadata": {},
   "outputs": [
    {
     "name": "stdout",
     "output_type": "stream",
     "text": [
      "apples     12\n",
      "oranges     8\n",
      "bananas     5\n",
      "dtype: int64\n"
     ]
    }
   ],
   "source": [
    "print(fruits + 2)\n"
   ]
  },
  {
   "cell_type": "code",
   "execution_count": 35,
   "id": "f6082d18",
   "metadata": {},
   "outputs": [
    {
     "name": "stdout",
     "output_type": "stream",
     "text": [
      "apples     8\n",
      "oranges    4\n",
      "bananas    1\n",
      "dtype: int64\n"
     ]
    }
   ],
   "source": [
    "print(fruits - 2)"
   ]
  },
  {
   "cell_type": "code",
   "execution_count": 36,
   "id": "c3326e63",
   "metadata": {},
   "outputs": [
    {
     "name": "stdout",
     "output_type": "stream",
     "text": [
      "apples     20\n",
      "oranges    12\n",
      "bananas     6\n",
      "dtype: int64\n"
     ]
    }
   ],
   "source": [
    "print(fruits * 2)"
   ]
  },
  {
   "cell_type": "code",
   "execution_count": 38,
   "id": "ae6bc742",
   "metadata": {},
   "outputs": [
    {
     "name": "stdout",
     "output_type": "stream",
     "text": [
      "apples     8\n",
      "oranges    4\n",
      "bananas    1\n",
      "dtype: int64\n"
     ]
    }
   ],
   "source": [
    "print(fruits - 2)"
   ]
  },
  {
   "cell_type": "code",
   "execution_count": 40,
   "id": "da726ff1",
   "metadata": {},
   "outputs": [
    {
     "data": {
      "text/plain": [
       "apples     3.162278\n",
       "oranges    2.449490\n",
       "bananas    1.732051\n",
       "dtype: float64"
      ]
     },
     "execution_count": 40,
     "metadata": {},
     "output_type": "execute_result"
    }
   ],
   "source": [
    "import numpy as np\n",
    "np.sqrt(fruits)"
   ]
  },
  {
   "cell_type": "code",
   "execution_count": 41,
   "id": "8cc96d8f",
   "metadata": {},
   "outputs": [
    {
     "data": {
      "text/plain": [
       "apples     100\n",
       "oranges     36\n",
       "bananas      9\n",
       "dtype: int64"
      ]
     },
     "execution_count": 41,
     "metadata": {},
     "output_type": "execute_result"
    }
   ],
   "source": [
    "np.power(fruits, 2)"
   ]
  },
  {
   "cell_type": "code",
   "execution_count": 43,
   "id": "552276be",
   "metadata": {},
   "outputs": [
    {
     "data": {
      "text/plain": [
       "apples     22026.465795\n",
       "oranges      403.428793\n",
       "bananas       20.085537\n",
       "dtype: float64"
      ]
     },
     "execution_count": 43,
     "metadata": {},
     "output_type": "execute_result"
    }
   ],
   "source": [
    "np.exp(fruits)"
   ]
  },
  {
   "cell_type": "code",
   "execution_count": 45,
   "id": "38e160ee",
   "metadata": {},
   "outputs": [
    {
     "data": {
      "text/plain": [
       "bananas    5\n",
       "dtype: int64"
      ]
     },
     "execution_count": 45,
     "metadata": {},
     "output_type": "execute_result"
    }
   ],
   "source": [
    "fruits[['bananas']] + 2"
   ]
  },
  {
   "cell_type": "markdown",
   "id": "e4c8d0aa",
   "metadata": {},
   "source": [
    "# Pandas dataframes\n",
    "Pandas dataframe is a 2d object with labelled rows and columns which can also hold multiple datatypes"
   ]
  },
  {
   "cell_type": "code",
   "execution_count": 55,
   "id": "7f8ee70d",
   "metadata": {},
   "outputs": [
    {
     "data": {
      "text/plain": [
       "dict"
      ]
     },
     "execution_count": 55,
     "metadata": {},
     "output_type": "execute_result"
    }
   ],
   "source": [
    "items = {'Bob': pd.Series([245, 25, 55], index = ['bike', 'pasta', 'watch']), \n",
    "         'Alice': pd.Series([40, 10, 500, 45], index = ['book', 'glasses', 'bike', 'pasta'])}\n",
    "type(items)"
   ]
  },
  {
   "cell_type": "code",
   "execution_count": 56,
   "id": "22a27862",
   "metadata": {},
   "outputs": [
    {
     "data": {
      "text/html": [
       "<div>\n",
       "<style scoped>\n",
       "    .dataframe tbody tr th:only-of-type {\n",
       "        vertical-align: middle;\n",
       "    }\n",
       "\n",
       "    .dataframe tbody tr th {\n",
       "        vertical-align: top;\n",
       "    }\n",
       "\n",
       "    .dataframe thead th {\n",
       "        text-align: right;\n",
       "    }\n",
       "</style>\n",
       "<table border=\"1\" class=\"dataframe\">\n",
       "  <thead>\n",
       "    <tr style=\"text-align: right;\">\n",
       "      <th></th>\n",
       "      <th>Bob</th>\n",
       "      <th>Alice</th>\n",
       "    </tr>\n",
       "  </thead>\n",
       "  <tbody>\n",
       "    <tr>\n",
       "      <th>bike</th>\n",
       "      <td>245.0</td>\n",
       "      <td>500.0</td>\n",
       "    </tr>\n",
       "    <tr>\n",
       "      <th>book</th>\n",
       "      <td>NaN</td>\n",
       "      <td>40.0</td>\n",
       "    </tr>\n",
       "    <tr>\n",
       "      <th>glasses</th>\n",
       "      <td>NaN</td>\n",
       "      <td>10.0</td>\n",
       "    </tr>\n",
       "    <tr>\n",
       "      <th>pasta</th>\n",
       "      <td>25.0</td>\n",
       "      <td>45.0</td>\n",
       "    </tr>\n",
       "    <tr>\n",
       "      <th>watch</th>\n",
       "      <td>55.0</td>\n",
       "      <td>NaN</td>\n",
       "    </tr>\n",
       "  </tbody>\n",
       "</table>\n",
       "</div>"
      ],
      "text/plain": [
       "           Bob  Alice\n",
       "bike     245.0  500.0\n",
       "book       NaN   40.0\n",
       "glasses    NaN   10.0\n",
       "pasta     25.0   45.0\n",
       "watch     55.0    NaN"
      ]
     },
     "execution_count": 56,
     "metadata": {},
     "output_type": "execute_result"
    }
   ],
   "source": [
    "shopping_carts = pd.DataFrame(items)\n",
    "shopping_carts"
   ]
  },
  {
   "cell_type": "code",
   "execution_count": null,
   "id": "5a8acb79",
   "metadata": {},
   "outputs": [],
   "source": [
    "c"
   ]
  }
 ],
 "metadata": {
  "kernelspec": {
   "display_name": "Python 3 (ipykernel)",
   "language": "python",
   "name": "python3"
  },
  "language_info": {
   "codemirror_mode": {
    "name": "ipython",
    "version": 3
   },
   "file_extension": ".py",
   "mimetype": "text/x-python",
   "name": "python",
   "nbconvert_exporter": "python",
   "pygments_lexer": "ipython3",
   "version": "3.9.7"
  }
 },
 "nbformat": 4,
 "nbformat_minor": 5
}
