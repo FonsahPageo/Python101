{
 "cells": [
  {
   "cell_type": "code",
   "execution_count": 20,
   "id": "491f5485",
   "metadata": {},
   "outputs": [
    {
     "name": "stdout",
     "output_type": "stream",
     "text": [
      "Enter phone balance: 12\n",
      "Enter bank balance: 0313\n",
      "Phone balance is  22 and bank balance is  303\n"
     ]
    }
   ],
   "source": [
    "#if statement\n",
    "phone_balance = int(input(\"Enter phone balance: \"))\n",
    "bank_balance = int(input(\"Enter bank balance: \"))\n",
    "if phone_balance <= 15:\n",
    "    phone_balance += 10;\n",
    "    bank_balance -= 10;\n",
    "print(\"Phone balance is \", phone_balance , \"and bank balance is \", bank_balance)"
   ]
  },
  {
   "cell_type": "code",
   "execution_count": 21,
   "id": "d523b139",
   "metadata": {},
   "outputs": [
    {
     "name": "stdout",
     "output_type": "stream",
     "text": [
      "Balance sufficent\n"
     ]
    }
   ],
   "source": [
    "#if else\n",
    "if phone_balance < 15:\n",
    "    print(\"Balance insufficient, can't place call\")\n",
    "else:\n",
    "    print(\"Balance sufficent\")"
   ]
  },
  {
   "cell_type": "code",
   "execution_count": 23,
   "id": "b8354991",
   "metadata": {},
   "outputs": [
    {
     "name": "stdout",
     "output_type": "stream",
     "text": [
      "Enter your mark: 87\n",
      "'A' grade\n"
     ]
    }
   ],
   "source": [
    "mark = int(input(\"Enter your mark: \"))\n",
    "if mark < 40:\n",
    "    print(\"'F' grade\")\n",
    "elif mark < 47:\n",
    "    print(\"'D+' grade\")\n",
    "elif mark < 50:\n",
    "    print(\"'D' grade\")\n",
    "elif mark < 55:\n",
    "    print(\"'C' grade\")\n",
    "elif mark < 60:\n",
    "    print(\"'C+' grade\")\n",
    "elif mark < 70:\n",
    "    print(\"'B' grade\")\n",
    "elif mark < 80:\n",
    "    print(\"'B+' grade\")\n",
    "else:\n",
    "    print(\"'A' grade\")"
   ]
  },
  {
   "cell_type": "code",
   "execution_count": 14,
   "id": "b2391aa4",
   "metadata": {},
   "outputs": [
    {
     "name": "stdout",
     "output_type": "stream",
     "text": [
      "There is a rainbow outside\n"
     ]
    }
   ],
   "source": [
    "is_rainy = True\n",
    "is_sunny = False\n",
    "if ~(is_rainy and is_sunny):\n",
    "    print(\"There is a rainbow outside\")\n",
    "else:\n",
    "    print(\"No rainbow\")"
   ]
  },
  {
   "cell_type": "code",
   "execution_count": 24,
   "id": "ffe81bbb",
   "metadata": {},
   "outputs": [
    {
     "name": "stdout",
     "output_type": "stream",
     "text": [
      "Oh dear, no prize this time.\n"
     ]
    }
   ],
   "source": [
    "points = 149  # use this input when submitting your answer\n",
    "\n",
    "# set prize to default value of None\n",
    "prize = None\n",
    "\n",
    "# use the value of points to assign prize to the correct prize name\n",
    "if points <= 50:\n",
    "    prize = \"wooden rabbit\"\n",
    "elif 151 <= points <= 180:\n",
    "    prize = \"wafer-thin mint\"\n",
    "elif points >= 181:\n",
    "    prize = \"penguin\"\n",
    "\n",
    "# use the truth value of prize to assign result to the correct message\n",
    "if prize: #means for a given point value in any range defined, prize is true\n",
    "    result = \"Congratulations! You won a {}!\".format(prize)\n",
    "else:\n",
    "    result = \"Oh dear, no prize this time.\"\n",
    "\n",
    "print(result)"
   ]
  },
  {
   "cell_type": "code",
   "execution_count": 28,
   "id": "5cd0dd89",
   "metadata": {},
   "outputs": [
    {
     "name": "stdout",
     "output_type": "stream",
     "text": [
      "Bamenda\n",
      "Buea\n",
      "Douala\n",
      "Yaounde\n"
     ]
    }
   ],
   "source": [
    "#for loop\n",
    "cities = ['Bamenda', 'Buea', 'Douala', 'Yaounde']\n",
    "for city in cities:\n",
    "    print(city)"
   ]
  },
  {
   "cell_type": "code",
   "execution_count": 29,
   "id": "cf711286",
   "metadata": {},
   "outputs": [
    {
     "name": "stdout",
     "output_type": "stream",
     "text": [
      "0\n",
      "1\n",
      "2\n",
      "3\n",
      "4\n",
      "5\n",
      "6\n",
      "7\n"
     ]
    }
   ],
   "source": [
    "for i in range(8): # print from 0 to 8-1\n",
    "    print(i)"
   ]
  },
  {
   "cell_type": "code",
   "execution_count": 30,
   "id": "a23ca9d5",
   "metadata": {},
   "outputs": [
    {
     "name": "stdout",
     "output_type": "stream",
     "text": [
      "3\n",
      "4\n",
      "5\n",
      "6\n",
      "7\n",
      "8\n"
     ]
    }
   ],
   "source": [
    "for a in range (3, 9):\n",
    "    print(a)"
   ]
  },
  {
   "cell_type": "code",
   "execution_count": 35,
   "id": "6a7b35ed",
   "metadata": {},
   "outputs": [
    {
     "name": "stdout",
     "output_type": "stream",
     "text": [
      "3\n",
      "4\n",
      "5\n",
      "6\n"
     ]
    }
   ],
   "source": [
    "nums = [1,2,3,4,5,6,7,8,9] #print from index 3 to index (6-1)\n",
    "for s in nums[2:6]:\n",
    "    print(s)"
   ]
  },
  {
   "cell_type": "code",
   "execution_count": 39,
   "id": "9ea7d4bd",
   "metadata": {},
   "outputs": [
    {
     "name": "stdout",
     "output_type": "stream",
     "text": [
      "3\n",
      "6\n",
      "9\n",
      "12\n"
     ]
    }
   ],
   "source": [
    "nums = [1,2,3,4,5,6,7,8,9,10,11,12,13,14,15]\n",
    "for s in nums[2:12:3]: #print from index 2 to index (12-1) skipping 3 steps\n",
    "    print(s)"
   ]
  },
  {
   "cell_type": "code",
   "execution_count": 41,
   "id": "81669762",
   "metadata": {},
   "outputs": [
    {
     "name": "stdout",
     "output_type": "stream",
     "text": [
      "['New York City', 'Mountain View', 'Chicago', 'Los Angeles']\n"
     ]
    }
   ],
   "source": [
    "cities = ['new york city', 'mountain view', 'chicago', 'los angeles']\n",
    "capitalized_cities = []\n",
    "\n",
    "for city in cities:\n",
    "    capitalized_cities.append(city.title())\n",
    "print(capitalized_cities)"
   ]
  },
  {
   "cell_type": "code",
   "execution_count": 3,
   "id": "a73fc2d0",
   "metadata": {},
   "outputs": [
    {
     "name": "stdout",
     "output_type": "stream",
     "text": [
      "if you can keep your head when all about you are losing theirs and blaming it on you   if you can trust yourself when all men doubt you     but make allowance for their doubting too   if you can wait and not be tired by waiting      or being lied about  don’t deal in lies   or being hated  don’t give way to hating      and yet don’t look too good  nor talk too wise \n",
      "\n",
      "['if', 'you', 'can', 'keep', 'your', 'head', 'when', 'all', 'about', 'you', 'are', 'losing', 'theirs', 'and', 'blaming', 'it', 'on', 'you', 'if', 'you', 'can', 'trust', 'yourself', 'when', 'all', 'men', 'doubt', 'you', 'but', 'make', 'allowance', 'for', 'their', 'doubting', 'too', 'if', 'you', 'can', 'wait', 'and', 'not', 'be', 'tired', 'by', 'waiting', 'or', 'being', 'lied', 'about', 'don’t', 'deal', 'in', 'lies', 'or', 'being', 'hated', 'don’t', 'give', 'way', 'to', 'hating', 'and', 'yet', 'don’t', 'look', 'too', 'good', 'nor', 'talk', 'too', 'wise'] \n",
      "\n"
     ]
    }
   ],
   "source": [
    "verse = \"if you can keep your head when all about you are losing theirs and blaming it on you   if you can trust yourself when all men doubt you     but make allowance for their doubting too   if you can wait and not be tired by waiting      or being lied about  don’t deal in lies   or being hated  don’t give way to hating      and yet don’t look too good  nor talk too wise\"\n",
    "print(verse, '\\n')\n",
    "\n",
    "# split verse into list of words\n",
    "verse_list = verse.split()\n",
    "print(verse_list, '\\n')"
   ]
  },
  {
   "cell_type": "code",
   "execution_count": 4,
   "id": "42514c7d",
   "metadata": {},
   "outputs": [
    {
     "name": "stdout",
     "output_type": "stream",
     "text": [
      "[]\n"
     ]
    }
   ],
   "source": [
    "print(list(range(0,-5)))"
   ]
  },
  {
   "cell_type": "code",
   "execution_count": 1,
   "id": "dba70031",
   "metadata": {},
   "outputs": [],
   "source": [
    "#looping thru keys and values of  dictionary\n",
    "cast = {\"Jerry Seinfeld\": \"Jerry Seinfeld\", \"Julia Louis-Dreyfus\": \"Elaine Benes\", \"Jason Alexander\": \"George Costanza\", \"Michael Richards\": \"Cosmo Kramer\"}"
   ]
  },
  {
   "cell_type": "code",
   "execution_count": 2,
   "id": "17c62b34",
   "metadata": {},
   "outputs": [
    {
     "name": "stdout",
     "output_type": "stream",
     "text": [
      "Actor: Jerry Seinfeld    Role: Jerry Seinfeld\n",
      "Actor: Julia Louis-Dreyfus    Role: Elaine Benes\n",
      "Actor: Jason Alexander    Role: George Costanza\n",
      "Actor: Michael Richards    Role: Cosmo Kramer\n"
     ]
    }
   ],
   "source": [
    "for key, value in cast.items():\n",
    "    print(\"Actor: {}    Role: {}\".format(key, value))"
   ]
  },
  {
   "cell_type": "code",
   "execution_count": 10,
   "id": "efd9d382",
   "metadata": {},
   "outputs": [
    {
     "name": "stdout",
     "output_type": "stream",
     "text": [
      "23\n"
     ]
    }
   ],
   "source": [
    "#loop thru dictionary and list\n",
    "#to find number of items\n",
    "result = 0\n",
    "basket_items = {'apples': 4, 'oranges': 19, 'kites': 3, 'sandwiches': 8}\n",
    "fruits = ['apples', 'oranges', 'pears', 'peaches', 'grapes', 'bananas']\n",
    "for object, count in basket_items.items():\n",
    "    if object in fruits:\n",
    "        result += count\n",
    "print(result)"
   ]
  },
  {
   "cell_type": "code",
   "execution_count": 17,
   "id": "12e8251c",
   "metadata": {},
   "outputs": [
    {
     "name": "stdout",
     "output_type": "stream",
     "text": [
      "[10, 8, 2, 13]\n"
     ]
    }
   ],
   "source": [
    "#while loop\n",
    "card_deck = [4, 11, 8, 5, 13, 2, 8, 10]\n",
    "hand = []\n",
    "while sum(hand)  < 25:\n",
    "    hand.append(card_deck.pop())\n",
    "print(hand)"
   ]
  },
  {
   "cell_type": "code",
   "execution_count": 18,
   "id": "7b9839f1",
   "metadata": {},
   "outputs": [
    {
     "name": "stdout",
     "output_type": "stream",
     "text": [
      "3628800\n"
     ]
    }
   ],
   "source": [
    "#factorial of a number using while loop\n",
    "number = 10\n",
    "product = 1\n",
    "current = 1\n",
    "while current <= number:\n",
    "    product *= current\n",
    "    current += 1\n",
    "print(product)"
   ]
  },
  {
   "cell_type": "code",
   "execution_count": 35,
   "id": "bb353b97",
   "metadata": {},
   "outputs": [
    {
     "name": "stdout",
     "output_type": "stream",
     "text": [
      "5040\n"
     ]
    }
   ],
   "source": [
    "#factorial of a number using for loop\n",
    "digit =7\n",
    "curr = 1\n",
    "pdt = 1\n",
    "for x in range (curr, digit + 1):\n",
    "    pdt *= curr\n",
    "    curr += 1\n",
    "print(pdt)"
   ]
  },
  {
   "cell_type": "code",
   "execution_count": 5,
   "id": "52712df6",
   "metadata": {},
   "outputs": [
    {
     "name": "stdout",
     "output_type": "stream",
     "text": [
      "0\n"
     ]
    }
   ],
   "source": [
    "num_list = [422, 136, 524, 85, 96, 719, 85, 92, 10, 17, 312, 542, 87, 23, 86, 191, 116, 35, 173, 45, 149, 59, 84, 69, 113, 166]\n",
    "count = 0\n",
    "for num in num_list:\n",
    "    if num % 2 != 0:\n",
    "        count += count\n",
    "        while count < 6:\n",
    "            break\n",
    "print(count)"
   ]
  },
  {
   "cell_type": "code",
   "execution_count": 16,
   "id": "5caf380b",
   "metadata": {},
   "outputs": [
    {
     "name": "stdout",
     "output_type": "stream",
     "text": [
      "1\n",
      "4\n",
      "7\n",
      "10\n",
      "13\n",
      "16\n"
     ]
    }
   ],
   "source": [
    "# break statement stops the excecution of a loop, continue skips to the next iteration in the loop\n",
    "# break\n",
    "for i in range (1, 100,3):\n",
    "    print(i)\n",
    "    if i % 8 == 0:\n",
    "        break\n"
   ]
  },
  {
   "cell_type": "code",
   "execution_count": 24,
   "id": "578258c0",
   "metadata": {},
   "outputs": [
    {
     "name": "stdout",
     "output_type": "stream",
     "text": [
      "1\n",
      "4\n",
      "7\n",
      "10\n",
      "13\n"
     ]
    }
   ],
   "source": [
    "# continue\n",
    "for j in range (1, 100,3):\n",
    "    if j % 8 == 0:\n",
    "        break\n",
    "    print(j)\n",
    "    "
   ]
  },
  {
   "cell_type": "code",
   "execution_count": 3,
   "id": "4d239155",
   "metadata": {},
   "outputs": [
    {
     "name": "stdout",
     "output_type": "stream",
     "text": [
      "['Local Bear Eaten by Man', 'Legislature Announces New Laws', 'Peasant Discovers Violence Inherent in System', 'Cat Rescues Fireman Stuck in Tree', 'Brave Knight Runs Away', 'Papperbok Review: Totally Triffic']\n"
     ]
    }
   ],
   "source": [
    "headlines = [\"Local Bear Eaten by Man\",\n",
    "             \"Legislature Announces New Laws\",\n",
    "             \"Peasant Discovers Violence Inherent in System\",\n",
    "             \"Cat Rescues Fireman Stuck in Tree\",\n",
    "             \"Brave Knight Runs Away\",\n",
    "             \"Papperbok Review: Totally Triffic\"]\n",
    "\n",
    "news_ticker = []\n",
    "for word in headlines:\n",
    "    news_ticker.append(word)\n",
    "print(news_ticker)"
   ]
  },
  {
   "cell_type": "code",
   "execution_count": 4,
   "id": "4cdf1bd8",
   "metadata": {},
   "outputs": [
    {
     "name": "stdout",
     "output_type": "stream",
     "text": [
      "Local Bear Eaten by Man Legislature Announces New Laws Peasant Discovers Violence Inherent in System Cat Rescues Fireman Stuck in Tree Brave Knight Runs Away Papperbok Review: Totally Triffic \n"
     ]
    }
   ],
   "source": [
    "news_ticker = \"\"\n",
    "for headline in headlines:\n",
    "    news_ticker += headline + \" \"\n",
    "print(news_ticker)"
   ]
  },
  {
   "cell_type": "code",
   "execution_count": 5,
   "id": "e55ebd04",
   "metadata": {},
   "outputs": [
    {
     "name": "stdout",
     "output_type": "stream",
     "text": [
      "Local Bear Eaten by Man Legislature Announces New Laws Peasant Discovers Violence Inherent in System Cat Rescues Fireman Stuck in Tree Brave \n"
     ]
    }
   ],
   "source": [
    "if len(news_ticker) > 140:\n",
    "    print(news_ticker[:141])"
   ]
  },
  {
   "cell_type": "code",
   "execution_count": 1,
   "id": "8d9a8671",
   "metadata": {},
   "outputs": [
    {
     "name": "stdout",
     "output_type": "stream",
     "text": [
      "Enter number: 45\n",
      "45 is not a prime number because 3 is a factor of 45 \n"
     ]
    }
   ],
   "source": [
    "k = int(input(\"Enter number: \"))\n",
    "for j in range (2, k):\n",
    "    if k % j == 0:\n",
    "        print(\"{} is not a prime number because {} is a factor of {} \".format(k, j, k))\n",
    "        break\n",
    "    if k == j-1:\n",
    "        print(\"{} IS a prime number\".format(k))\n",
    "        break"
   ]
  },
  {
   "cell_type": "code",
   "execution_count": 2,
   "id": "4cb60be0",
   "metadata": {},
   "outputs": [
    {
     "name": "stdout",
     "output_type": "stream",
     "text": [
      "a: 1\n",
      "b: 2\n",
      "c: 3\n"
     ]
    }
   ],
   "source": [
    "# zip combines items in tuples at corresponding positions\n",
    "letters = ['a', 'b', 'c']\n",
    "nums = [1, 2, 3]\n",
    "\n",
    "for letter, num in zip(letters, nums):\n",
    "    print(\"{}: {}\".format(letter, num))"
   ]
  },
  {
   "cell_type": "code",
   "execution_count": 3,
   "id": "bb9f37f5",
   "metadata": {},
   "outputs": [
    {
     "name": "stdout",
     "output_type": "stream",
     "text": [
      "0 a\n",
      "1 b\n",
      "2 c\n",
      "3 d\n",
      "4 e\n"
     ]
    }
   ],
   "source": [
    "# enumerate shows the index of the element and of course the element in the tuple\n",
    "letters = ['a', 'b', 'c', 'd', 'e']\n",
    "for i, letter in enumerate(letters):\n",
    "    print(i, letter)"
   ]
  },
  {
   "cell_type": "code",
   "execution_count": 16,
   "id": "e42024f8",
   "metadata": {},
   "outputs": [
    {
     "name": "stdout",
     "output_type": "stream",
     "text": [
      "['F: 23, 677, 4', 'J: 53, 233, 16', 'A: 2, 405, -6', 'Q: -12, 433, -42', 'Y: 95, 905, 3', 'B: 103, 376, -6', 'W: 14, 432, 23', 'X: -5, 445, -1']\n"
     ]
    }
   ],
   "source": [
    "x_coord = [23, 53, 2, -12, 95, 103, 14, -5]\n",
    "y_coord = [677, 233, 405, 433, 905, 376, 432, 445]\n",
    "z_coord = [4, 16, -6, -42, 3, -6, 23, -1]\n",
    "labels = [\"F\", \"J\", \"A\", \"Q\", \"Y\", \"B\", \"W\", \"X\"]\n",
    "\n",
    "points = []\n",
    "# write your for loop here\n",
    "for labels, x_coord,  y_coord, z_coord in zip(labels, x_coord,  y_coord, z_coord):\n",
    "  points.append(\"{}: {}, {}, {}\".format(labels, x_coord,  y_coord, z_coord))\n",
    "print(points)\n",
    "\n",
    "# this prints each coordinate in a new line\n",
    "# for point in zip(labels, x_coord,  y_coord, z_coord):\n",
    "#   points.append(\"{}: {}, {}, {}\".format(*point))\n",
    "# for point in points:\n",
    "#     print(point)"
   ]
  },
  {
   "cell_type": "code",
   "execution_count": null,
   "id": "c0f36402",
   "metadata": {},
   "outputs": [],
   "source": [
    "# a pangram is a phrase that contains all the letters of the alphabet at least once\n",
    "def is_pangram(phrase):\n",
    "    alphabet = ['a', 'b', 'c', 'd', 'e', 'f', 'g', 'h', 'i', 'j', 'k', 'l', 'm', \n",
    "                'n', 'o', 'p', 'q', 'r', 's', 't', 'u', 'v', 'w', 'x', 'y', 'z']\n",
    "    phrase = phrase.lower()\n",
    "    alpha_string = \"\"\n",
    "    for letter in alphabet:\n",
    "        alpha_string += letter\n",
    "    if ((letter in alpha_string) and (letter not in phrase)):\n",
    "        print(\"Not a pangram\")\n",
    "    else:\n",
    "        print(\"Pangram\")\n",
    "phrase = str(input(\"Enter your phrase here: \"))\n",
    "is_pangram(phrase)"
   ]
  },
  {
   "cell_type": "code",
   "execution_count": null,
   "id": "7357bff3",
   "metadata": {},
   "outputs": [],
   "source": [
    "# a pangram is a phrase that contains all the letters of the alphabet at least once\n",
    "def is_pangram(phrase):\n",
    "    alphabet = ['a', 'b', 'c', 'd', 'e', 'f', 'g', 'h', 'i', 'j', 'k', 'l', 'm', \n",
    "                'n', 'o', 'p', 'q', 'r', 's', 't', 'u', 'v', 'w', 'x', 'y', 'z']\n",
    "    phrase = phrase.lower()\n",
    "    alpha_string = \"\"\n",
    "    for letter in alphabet:\n",
    "        alpha_string += letter\n",
    "    if ((letter in alpha_string) and (letter not in phrase)):\n",
    "        print(\"Not a pangram\")\n",
    "    else:\n",
    "        print(\"Pangram\")\n",
    "phrase = str(input(\"Enter your phrase here: \"))\n",
    "is_pangram(phrase)"
   ]
  }
 ],
 "metadata": {
  "kernelspec": {
   "display_name": "Python 3 (ipykernel)",
   "language": "python",
   "name": "python3"
  },
  "language_info": {
   "codemirror_mode": {
    "name": "ipython",
    "version": 3
   },
   "file_extension": ".py",
   "mimetype": "text/x-python",
   "name": "python",
   "nbconvert_exporter": "python",
   "pygments_lexer": "ipython3",
   "version": "3.9.7"
  }
 },
 "nbformat": 4,
 "nbformat_minor": 5
}
