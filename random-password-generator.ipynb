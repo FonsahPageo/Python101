{
 "cells": [
  {
   "cell_type": "code",
   "execution_count": 19,
   "id": "8d96c05f",
   "metadata": {},
   "outputs": [
    {
     "name": "stdout",
     "output_type": "stream",
     "text": [
      "127 241 102\n"
     ]
    }
   ],
   "source": [
    "import random\n",
    "word_file = \"words.txt\"\n",
    "word_list = []\n",
    "with open(word_file, 'r') as words:\n",
    "    for line in words:\n",
    "        word = line.strip().lower()\n",
    "        word_list.append(word)\n",
    "def generate_password():\n",
    "    return random.choice(word_list) + \" \" + random.choice(word_list) + \" \" + random.choice(word_list)\n",
    "print(generate_password())"
   ]
  }
 ],
 "metadata": {
  "kernelspec": {
   "display_name": "Python 3 (ipykernel)",
   "language": "python",
   "name": "python3"
  },
  "language_info": {
   "codemirror_mode": {
    "name": "ipython",
    "version": 3
   },
   "file_extension": ".py",
   "mimetype": "text/x-python",
   "name": "python",
   "nbconvert_exporter": "python",
   "pygments_lexer": "ipython3",
   "version": "3.9.7"
  }
 },
 "nbformat": 4,
 "nbformat_minor": 5
}
