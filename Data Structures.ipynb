{
 "cells": [
  {
   "cell_type": "code",
   "execution_count": 9,
   "id": "54aa21e4",
   "metadata": {},
   "outputs": [
    {
     "name": "stdout",
     "output_type": "stream",
     "text": [
      "May\n",
      "['July', 'August', 'September']\n",
      "['January', 'February', 'March', 'April']\n",
      "['August', 'September', 'October', 'November', 'December']\n",
      "12\n",
      "['February']\n",
      "['January', 'February', 'Ash4lyf', 'April', 'May', 'June', 'July', 'August', 'September', 'October', 'November', 'December']\n"
     ]
    }
   ],
   "source": [
    "# lists are mutable and ordered\n",
    "#lists are defined using square brackets or list()...convert a diff structure to a list\n",
    "#lists can contain data of all types\n",
    "months = ['January', 'February', 'March', 'April', 'May', 'June', 'July', 'August', 'September', 'October', 'November', 'December']\n",
    "print(months[4])\n",
    "# slicing \n",
    "# during slicing, the lower bound is inclusive and the upper bound is exclusive\n",
    "q3 = months[6:9] #prints the element from index 6 to index 9-1\n",
    "print(q3)\n",
    "k1 = months[:4]\n",
    "print(k1)\n",
    "e2 = months[7:]\n",
    "print(e2)\n",
    "print(len(months))\n",
    "\"sunday\" in months\n",
    "b4 = months[1:2]\n",
    "print(b4)\n",
    "\n",
    "months[2] = \"Ash4lyf\"\n",
    "print(months)"
   ]
  },
  {
   "cell_type": "code",
   "execution_count": 13,
   "id": "c9af7d55",
   "metadata": {},
   "outputs": [
    {
     "name": "stdout",
     "output_type": "stream",
     "text": [
      "[4, 10, 12, 18, 30, 38]\n",
      "[38, 30, 18, 12, 10, 4]\n"
     ]
    }
   ],
   "source": [
    "# sorting a list\n",
    "sizes = [12, 38, 18, 30, 4, 10]\n",
    "print(sorted(sizes)) # prints the list in ascending order\n",
    "print(sorted(sizes, reverse = True)) # prints the list in descending order"
   ]
  },
  {
   "cell_type": "code",
   "execution_count": 14,
   "id": "93e476b5",
   "metadata": {},
   "outputs": [
    {
     "data": {
      "text/plain": [
       "6"
      ]
     },
     "execution_count": 14,
     "metadata": {},
     "output_type": "execute_result"
    }
   ],
   "source": [
    "len(sizes)"
   ]
  },
  {
   "cell_type": "code",
   "execution_count": 15,
   "id": "d2c2e91b",
   "metadata": {},
   "outputs": [
    {
     "data": {
      "text/plain": [
       "38"
      ]
     },
     "execution_count": 15,
     "metadata": {},
     "output_type": "execute_result"
    }
   ],
   "source": [
    "max(sizes)"
   ]
  },
  {
   "cell_type": "code",
   "execution_count": 17,
   "id": "00f2d6f0",
   "metadata": {},
   "outputs": [
    {
     "data": {
      "text/plain": [
       "'September'"
      ]
     },
     "execution_count": 17,
     "metadata": {},
     "output_type": "execute_result"
    }
   ],
   "source": [
    "max(months)"
   ]
  },
  {
   "cell_type": "code",
   "execution_count": 18,
   "id": "81f3ec4f",
   "metadata": {},
   "outputs": [
    {
     "data": {
      "text/plain": [
       "4"
      ]
     },
     "execution_count": 18,
     "metadata": {},
     "output_type": "execute_result"
    }
   ],
   "source": [
    "min(sizes)"
   ]
  },
  {
   "cell_type": "code",
   "execution_count": 19,
   "id": "78787f0d",
   "metadata": {},
   "outputs": [
    {
     "data": {
      "text/plain": [
       "'April'"
      ]
     },
     "execution_count": 19,
     "metadata": {},
     "output_type": "execute_result"
    }
   ],
   "source": [
    "min(months)"
   ]
  },
  {
   "cell_type": "code",
   "execution_count": 21,
   "id": "857e65b0",
   "metadata": {},
   "outputs": [
    {
     "name": "stdout",
     "output_type": "stream",
     "text": [
      "[12, 38, 18, 30, 4, 10, 23, 23]\n"
     ]
    }
   ],
   "source": [
    "sizes.append(23)\n",
    "print(sizes)"
   ]
  },
  {
   "cell_type": "code",
   "execution_count": 1,
   "id": "38ab022b",
   "metadata": {},
   "outputs": [
    {
     "data": {
      "text/plain": [
       "True"
      ]
     },
     "execution_count": 1,
     "metadata": {},
     "output_type": "execute_result"
    }
   ],
   "source": [
    "#tuples\n",
    "#tuples are immutable and ordered\n",
    "#tuples are defined using brackets or tuple()...convert a diff structure to a tuple\n",
    "#example of a tuple\n",
    "tuple_a = (1, 2)\n",
    "tuple_b = 1, 2\n",
    "tuple_a == tuple_b\n",
    "#evaluates to true because though tuples\n",
    "#are declared in brackets, it can be ommited\n"
   ]
  },
  {
   "cell_type": "code",
   "execution_count": 2,
   "id": "4d0f5c1d",
   "metadata": {},
   "outputs": [],
   "source": [
    "#sets are mutable and unordered\n",
    "#sets are defined in curly braces or set()..convert a diff structure to a set\n",
    "#sets don't have duplicate data"
   ]
  },
  {
   "cell_type": "code",
   "execution_count": 4,
   "id": "f18cc39f",
   "metadata": {},
   "outputs": [
    {
     "name": "stdout",
     "output_type": "stream",
     "text": [
      "{'Hydrogen': 1, 'Helium': 2, 'Carbon': 6}\n"
     ]
    }
   ],
   "source": [
    "#dictionaries are mutable data types that store \n",
    "#mappings of keys to values, in curly braces\n",
    "#dictionaries themselves are mutable, but the keys must be immutable\n",
    "elements = {\"Hydrogen\": 1, \"Helium\": 2, \"Carbon\": 6}\n",
    "print(elements)"
   ]
  },
  {
   "cell_type": "code",
   "execution_count": 5,
   "id": "e24b9a32",
   "metadata": {},
   "outputs": [
    {
     "name": "stdout",
     "output_type": "stream",
     "text": [
      "2\n"
     ]
    }
   ],
   "source": [
    "print(elements['Helium'])"
   ]
  },
  {
   "cell_type": "code",
   "execution_count": 6,
   "id": "48638c79",
   "metadata": {},
   "outputs": [
    {
     "name": "stdout",
     "output_type": "stream",
     "text": [
      "{'Hydrogen': 1, 'Helium': 2, 'Carbon': 6, 'Sodium': 11}\n"
     ]
    }
   ],
   "source": [
    "elements[\"Sodium\"] = 11 #add 11 to the list with key 'Sodium'\n",
    "print(elements)"
   ]
  },
  {
   "cell_type": "code",
   "execution_count": 7,
   "id": "1b07be53",
   "metadata": {},
   "outputs": [
    {
     "data": {
      "text/plain": [
       "False"
      ]
     },
     "execution_count": 7,
     "metadata": {},
     "output_type": "execute_result"
    }
   ],
   "source": [
    "\"lithium\" in elements"
   ]
  },
  {
   "cell_type": "code",
   "execution_count": 8,
   "id": "f8f76edb",
   "metadata": {},
   "outputs": [
    {
     "name": "stdout",
     "output_type": "stream",
     "text": [
      "None\n"
     ]
    }
   ],
   "source": [
    "print(elements.get(\"Boron\"))"
   ]
  },
  {
   "cell_type": "code",
   "execution_count": 9,
   "id": "89277094",
   "metadata": {},
   "outputs": [
    {
     "data": {
      "text/plain": [
       "\"There's no such element\""
      ]
     },
     "execution_count": 9,
     "metadata": {},
     "output_type": "execute_result"
    }
   ],
   "source": [
    "elements.get(\"silicon\", \"There's no such element\") "
   ]
  },
  {
   "cell_type": "code",
   "execution_count": 11,
   "id": "d65ad59f",
   "metadata": {},
   "outputs": [
    {
     "name": "stdout",
     "output_type": "stream",
     "text": [
      "{'number': 2, 'weight': 4.002602, 'symbol': 'He'}\n"
     ]
    }
   ],
   "source": [
    "# a dictionary can be embedded in another dictionary\n",
    "elements = {\"hydrogen\": {\"number\": 1,\n",
    "                         \"weight\": 1.00794,\n",
    "                         \"symbol\": \"H\"},\n",
    "              \"helium\": {\"number\": 2,\n",
    "                         \"weight\": 4.002602,\n",
    "                         \"symbol\": \"He\"}}\n",
    "helium = elements[\"helium\"]\n",
    "print(helium)"
   ]
  },
  {
   "cell_type": "code",
   "execution_count": 12,
   "id": "ed13c9b9",
   "metadata": {},
   "outputs": [
    {
     "name": "stdout",
     "output_type": "stream",
     "text": [
      "{'hydrogen': {'number': 1, 'weight': 1.00794, 'symbol': 'H'}, 'helium': {'number': 2, 'weight': 4.002602, 'symbol': 'He'}, 'oxygen': {'number': 8, 'weight': 15.999, 'symbol': 'O'}}\n"
     ]
    }
   ],
   "source": [
    "oxygen = {\"number\":8,\"weight\":15.999,\"symbol\":\"O\"} #adding a new key \"exygen\" to the dictionary elements\n",
    "elements[\"oxygen\"] = oxygen\n",
    "print(elements)"
   ]
  },
  {
   "cell_type": "code",
   "execution_count": 13,
   "id": "97411c9e",
   "metadata": {},
   "outputs": [],
   "source": [
    "elements['hydrogen']['is_noble_gas'] = False\n",
    "elements['helium']['is_noble_gas'] = True"
   ]
  },
  {
   "cell_type": "code",
   "execution_count": 14,
   "id": "ddd425fd",
   "metadata": {},
   "outputs": [
    {
     "data": {
      "text/plain": [
       "False"
      ]
     },
     "execution_count": 14,
     "metadata": {},
     "output_type": "execute_result"
    }
   ],
   "source": [
    "elements[\"hydrogen\"][\"is_noble_gas\"]"
   ]
  },
  {
   "cell_type": "code",
   "execution_count": 18,
   "id": "17843ad3",
   "metadata": {},
   "outputs": [
    {
     "data": {
      "text/plain": [
       "True"
      ]
     },
     "execution_count": 18,
     "metadata": {},
     "output_type": "execute_result"
    }
   ],
   "source": [
    "elements[\"helium\"][\"is_noble_gas\"]"
   ]
  },
  {
   "cell_type": "code",
   "execution_count": 38,
   "id": "b7f11e0e",
   "metadata": {
    "scrolled": true
   },
   "outputs": [
    {
     "name": "stdout",
     "output_type": "stream",
     "text": [
      "['if', 'you', 'can', 'keep', 'your', 'head', 'when', 'all', 'about', 'you', 'are', 'losing', 'theirs', 'and', 'blaming', 'it', 'on', 'you', 'if', 'you', 'can', 'trust', 'yourself', 'when', 'all', 'men', 'doubt', 'you', 'but', 'make', 'allowance', 'for', 'their', 'doubting', 'too', 'if', 'you', 'can', 'wait', 'and', 'not', 'be', 'tired', 'by', 'waiting', 'or', 'being', 'lied', 'about', 'don’t', 'deal', 'in', 'lies', 'or', 'being', 'hated', 'don’t', 'give', 'way', 'to', 'hating', 'and', 'yet', 'don’t', 'look', 'too', 'good', 'nor', 'talk', 'too', 'wise'] \n",
      "\n"
     ]
    }
   ],
   "source": [
    "verse = \"if you can keep your head when all about you are losing theirs and blaming it on you   if you can trust yourself when all men doubt you     but make allowance for their doubting too   if you can wait and not be tired by waiting      or being lied about  don’t deal in lies   or being hated  don’t give way to hating      and yet don’t look too good  nor talk too wise\"\n",
    "verse_list = verse.split()\n",
    "print(verse_list, '\\n')"
   ]
  },
  {
   "cell_type": "code",
   "execution_count": 27,
   "id": "4018c3e7",
   "metadata": {},
   "outputs": [
    {
     "name": "stdout",
     "output_type": "stream",
     "text": [
      "{'blaming', 'give', 'when', 'not', 'are', 'can', 'losing', 'or', 'hated', 'too', 'keep', 'talk', 'wise', 'make', 'tired', 'head', 'doubt', 'their', 'don’t', 'deal', 'your', 'it', 'if', 'wait', 'allowance', 'doubting', 'about', 'men', 'waiting', 'to', 'be', 'and', 'in', 'good', 'trust', 'being', 'for', 'lied', 'hating', 'all', 'look', 'yet', 'nor', 'by', 'on', 'yourself', 'theirs', 'but', 'you', 'way', 'lies'}\n"
     ]
    }
   ],
   "source": [
    "verse_set = set(verse_list)\n",
    "print(verse_set)"
   ]
  },
  {
   "cell_type": "code",
   "execution_count": 37,
   "id": "d57e464f",
   "metadata": {},
   "outputs": [
    {
     "name": "stdout",
     "output_type": "stream",
     "text": [
      "{'if': 3, 'you': 6, 'can': 3, 'keep': 1, 'your': 1, 'head': 1, 'when': 2, 'all': 2, 'about': 2, 'are': 1, 'losing': 1, 'theirs': 1, 'and': 3, 'blaming': 1, 'it': 1, 'on': 1, 'trust': 1, 'yourself': 1, 'men': 1, 'doubt': 1, 'but': 1, 'make': 1, 'allowance': 1, 'for': 1, 'their': 1, 'doubting': 1, 'too': 3, 'wait': 1, 'not': 1, 'be': 1, 'tired': 1, 'by': 1, 'waiting': 1, 'or': 2, 'being': 2, 'lied': 1, \"don't\": 3, 'deal': 1, 'in': 1, 'lies': 1, 'hated': 1, 'give': 1, 'way': 1, 'to': 1, 'hating': 1, 'yet': 1, 'look': 1, 'good': 1, 'nor': 1, 'talk': 1, 'wise': 1} \n",
      "\n",
      "dict_keys(['if', 'you', 'can', 'keep', 'your', 'head', 'when', 'all', 'about', 'are', 'losing', 'theirs', 'and', 'blaming', 'it', 'on', 'trust', 'yourself', 'men', 'doubt', 'but', 'make', 'allowance', 'for', 'their', 'doubting', 'too', 'wait', 'not', 'be', 'tired', 'by', 'waiting', 'or', 'being', 'lied', \"don't\", 'deal', 'in', 'lies', 'hated', 'give', 'way', 'to', 'hating', 'yet', 'look', 'good', 'nor', 'talk', 'wise'])\n"
     ]
    }
   ],
   "source": [
    "verse_dict =  {'if': 3, 'you': 6, 'can': 3, 'keep': 1, 'your': 1, 'head': 1, 'when': 2, 'all': 2, 'about': 2, 'are': 1, 'losing': 1, 'theirs': 1, 'and': 3, 'blaming': 1, 'it': 1, 'on': 1, 'trust': 1, 'yourself': 1, 'men': 1, 'doubt': 1, 'but': 1, 'make': 1, 'allowance': 1, 'for': 1, 'their': 1, 'doubting': 1, 'too': 3, 'wait': 1, 'not': 1, 'be': 1, 'tired': 1, 'by': 1, 'waiting': 1, 'or': 2, 'being': 2, 'lied': 1, 'don\\'t': 3, 'deal': 1, 'in': 1, 'lies': 1, 'hated': 1, 'give': 1, 'way': 1, 'to': 1, 'hating': 1, 'yet': 1, 'look': 1, 'good': 1, 'nor': 1, 'talk': 1, 'wise': 1}\n",
    "print(verse_dict, '\\n')\n",
    "\n",
    "def getList(verse_dict):\n",
    "    return verse_dict.keys()\n",
    "print(getList(verse_dict))"
   ]
  },
  {
   "cell_type": "code",
   "execution_count": 29,
   "id": "9fde87d9",
   "metadata": {},
   "outputs": [
    {
     "name": "stdout",
     "output_type": "stream",
     "text": [
      "51\n"
     ]
    }
   ],
   "source": [
    "num_keys = len(getList(verse_dict))\n",
    "print(num_keys)"
   ]
  },
  {
   "cell_type": "code",
   "execution_count": 32,
   "id": "e488eb2a",
   "metadata": {},
   "outputs": [
    {
     "name": "stdout",
     "output_type": "stream",
     "text": [
      "None\n"
     ]
    }
   ],
   "source": [
    "contains_breathe = (verse_dict.get('breathe'))\n",
    "print(contains_breathe)"
   ]
  },
  {
   "cell_type": "code",
   "execution_count": 34,
   "id": "dc16ba32",
   "metadata": {},
   "outputs": [
    {
     "name": "stdout",
     "output_type": "stream",
     "text": [
      "['about', 'all', 'allowance', 'and', 'are', 'be', 'being', 'blaming', 'but', 'by', 'can', 'deal', \"don't\", 'doubt', 'doubting', 'for', 'give', 'good', 'hated', 'hating', 'head', 'if', 'in', 'it', 'keep', 'lied', 'lies', 'look', 'losing', 'make', 'men', 'nor', 'not', 'on', 'or', 'talk', 'their', 'theirs', 'tired', 'to', 'too', 'trust', 'wait', 'waiting', 'way', 'when', 'wise', 'yet', 'you', 'your', 'yourself']\n"
     ]
    }
   ],
   "source": [
    "sorted_keys = sorted(getList(verse_dict))\n",
    "print(sorted_keys)"
   ]
  },
  {
   "cell_type": "code",
   "execution_count": 39,
   "id": "5338a3c4",
   "metadata": {},
   "outputs": [
    {
     "name": "stdout",
     "output_type": "stream",
     "text": [
      "{'if': 3, 'you': 6, 'can': 3, 'keep': 1, 'your': 1, 'head': 1, 'when': 2, 'all': 2, 'about': 2, 'are': 1, 'losing': 1, 'theirs': 1, 'and': 3, 'blaming': 1, 'it': 1, 'on': 1, 'trust': 1, 'yourself': 1, 'men': 1, 'doubt': 1, 'but': 1, 'make': 1, 'allowance': 1, 'for': 1, 'their': 1, 'doubting': 1, 'too': 3, 'wait': 1, 'not': 1, 'be': 1, 'tired': 1, 'by': 1, 'waiting': 1, 'or': 2, 'being': 2, 'lied': 1, \"don't\": 3, 'deal': 1, 'in': 1, 'lies': 1, 'hated': 1, 'give': 1, 'way': 1, 'to': 1, 'hating': 1, 'yet': 1, 'look': 1, 'good': 1, 'nor': 1, 'talk': 1, 'wise': 1} \n",
      "\n",
      "dict_keys(['if', 'you', 'can', 'keep', 'your', 'head', 'when', 'all', 'about', 'are', 'losing', 'theirs', 'and', 'blaming', 'it', 'on', 'trust', 'yourself', 'men', 'doubt', 'but', 'make', 'allowance', 'for', 'their', 'doubting', 'too', 'wait', 'not', 'be', 'tired', 'by', 'waiting', 'or', 'being', 'lied', \"don't\", 'deal', 'in', 'lies', 'hated', 'give', 'way', 'to', 'hating', 'yet', 'look', 'good', 'nor', 'talk', 'wise'])\n",
      "51\n",
      "None\n",
      "about\n",
      "yourself\n"
     ]
    }
   ],
   "source": [
    "verse_dict =  {'if': 3, 'you': 6, 'can': 3, 'keep': 1, 'your': 1, 'head': 1, 'when': 2, 'all': 2, 'about': 2, 'are': 1, 'losing': 1, 'theirs': 1, 'and': 3, 'blaming': 1, 'it': 1, 'on': 1, 'trust': 1, 'yourself': 1, 'men': 1, 'doubt': 1, 'but': 1, 'make': 1, 'allowance': 1, 'for': 1, 'their': 1, 'doubting': 1, 'too': 3, 'wait': 1, 'not': 1, 'be': 1, 'tired': 1, 'by': 1, 'waiting': 1, 'or': 2, 'being': 2, 'lied': 1, 'don\\'t': 3, 'deal': 1, 'in': 1, 'lies': 1, 'hated': 1, 'give': 1, 'way': 1, 'to': 1, 'hating': 1, 'yet': 1, 'look': 1, 'good': 1, 'nor': 1, 'talk': 1, 'wise': 1}\n",
    "print(verse_dict, '\\n')\n",
    "\n",
    "# find number of unique keys in the dictionary\n",
    "def getList(verse_dict):\n",
    "    return verse_dict.keys()\n",
    "print(getList(verse_dict))\n",
    "\n",
    "num_keys = len(getList(verse_dict))\n",
    "#or simply get the length of the dict\n",
    "#num_keys = len(verse_dict)\n",
    "print(num_keys)\n",
    "\n",
    "# find whether 'breathe' is a key in the dictionary\n",
    "contains_breathe = (verse_dict.get('breathe'))\n",
    "#or use \"breathe\" in verse_dict\n",
    "print(contains_breathe)\n",
    "\n",
    "# create and sort a list of the dictionary's keys\n",
    "sorted_keys = sorted(getList(verse_dict))\n",
    "\n",
    "# get the first element in the sorted list of keys\n",
    "print(sorted_keys[0])\n",
    "\n",
    "# find the element with the highest value in the list of keys\n",
    "max_verse_dict = max(getList(verse_dict))\n",
    "print(max_verse_dict)"
   ]
  },
  {
   "cell_type": "code",
   "execution_count": null,
   "id": "16aa1886",
   "metadata": {},
   "outputs": [],
   "source": []
  }
 ],
 "metadata": {
  "kernelspec": {
   "display_name": "Python 3 (ipykernel)",
   "language": "python",
   "name": "python3"
  },
  "language_info": {
   "codemirror_mode": {
    "name": "ipython",
    "version": 3
   },
   "file_extension": ".py",
   "mimetype": "text/x-python",
   "name": "python",
   "nbconvert_exporter": "python",
   "pygments_lexer": "ipython3",
   "version": "3.9.7"
  }
 },
 "nbformat": 4,
 "nbformat_minor": 5
}
